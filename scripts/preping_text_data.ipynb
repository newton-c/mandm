{
 "cells": [
  {
   "cell_type": "code",
   "execution_count": 3,
   "metadata": {},
   "outputs": [],
   "source": [
    "import pandas as pd\n",
    "import numpy as np\n",
    "import multiprocess as mp\n",
    "import os\n",
    "import re"
   ]
  },
  {
   "cell_type": "code",
   "execution_count": 4,
   "metadata": {},
   "outputs": [],
   "source": [
    "def concat_dfs(paths):\n",
    "    dir_path = \"/Users/cn/Desktop/Dissertation/mandm/data/\"\n",
    "\n",
    "    df = pd.read_csv(dir_path + paths[0], encoding='latin-1')\n",
    "    df['source'] = paths[0]\n",
    "    df_list = []\n",
    "    for path in paths:\n",
    "        df_read = pd.read_csv(dir_path + path, encoding='latin-1')\n",
    "        df_read['source'] = path\n",
    "        df_list.append(df_read)\n",
    "\n",
    "    df = pd.concat(df_list, axis = 0)\n",
    "    return df"
   ]
  },
  {
   "attachments": {},
   "cell_type": "markdown",
   "metadata": {},
   "source": [
    "import and all .csv files and append them together"
   ]
  },
  {
   "cell_type": "code",
   "execution_count": 5,
   "metadata": {},
   "outputs": [],
   "source": [
    "paths = os.listdir(\"/Users/cn/Desktop/Dissertation/mandm/data/\")\n",
    "paths.remove('.DS_Store')\n",
    "paths.remove('articles')\n",
    "text_data = concat_dfs(paths)"
   ]
  },
  {
   "cell_type": "code",
   "execution_count": 7,
   "metadata": {},
   "outputs": [],
   "source": [
    "department_dict = {\n",
    "    'elcolombiano.csv': 'ANTIOQUIA',\n",
    "    'el_heraldo.csv': 'ATLÁNTICO',\n",
    "    'el_tiempo.csv': 'BOGOTA',\n",
    "    'el_universal.csv': 'BOLÍVAR',\n",
    "    'el_universal_2.csv': 'BOLÍVAR',\n",
    "    'el_diario.csv': 'BOYACÁ',\n",
    "    'eje21.csv': 'Caldas',\n",
    "    'el_nuevo_liberal.csv': 'CAUCA',\n",
    "    'diario_del_césar.csv': 'CESAR',\n",
    "    'el_manduco.csv': 'CHOCÓ',\n",
    "    'periodismo_público.csv': 'CUNDINAMARCA',\n",
    "    'la_nación.csv': 'HUILA',\n",
    "    'diario_del_norte.csv': 'GUAJIRA',\n",
    "    'hoy_diario_de_magdalena.csv': 'MAGDALENA',\n",
    "    'hoy_diario_de_magdalena_2.csv': 'MAGDALENA',\n",
    "    'llano_siete_dias.csv': 'META',\n",
    "    'diario_del_sur.csv': 'NARIÑO',\n",
    "    'la_opinion.csv': 'NORTE DE SANTANDER',\n",
    "    'la_crónica_del_quíndio.csv': 'QUINDÍO',\n",
    "    'el_expreso.csv': 'RISARALDA',\n",
    "    'the_archipielago_press.csv': 'SAN ANDRÉS',\n",
    "    'vanguardia_liberal.csv': 'SANTANDER',\n",
    "    'vanguardia_liberal_2.csv': 'SANTANDER',\n",
    "    'el_nuevo_dia.csv': 'TOLIMA',\n",
    "    'el_país.csv': 'VALLE DE CAUCA'}"
   ]
  },
  {
   "attachments": {},
   "cell_type": "markdown",
   "metadata": {},
   "source": [
    "adding the department name based on the site location"
   ]
  },
  {
   "cell_type": "code",
   "execution_count": 8,
   "metadata": {},
   "outputs": [],
   "source": [
    "text_data[\"department\"] = text_data[\"source\"].apply(lambda x: department_dict.get(x))"
   ]
  },
  {
   "attachments": {},
   "cell_type": "markdown",
   "metadata": {},
   "source": [
    "removing the articles that never mention the FARC"
   ]
  },
  {
   "cell_type": "code",
   "execution_count": 9,
   "metadata": {},
   "outputs": [],
   "source": [
    "text_data = text_data[text_data['article'].str.contains('Farc|FARC|farc|fuerzas armadas', na=False)]\n",
    "text_data.to_csv(\"/Users/cn/Desktop/Dissertation/mandm/data/all_articles.csv\")"
   ]
  }
 ],
 "metadata": {
  "kernelspec": {
   "display_name": "Python 3",
   "language": "python",
   "name": "python3"
  },
  "language_info": {
   "codemirror_mode": {
    "name": "ipython",
    "version": 3
   },
   "file_extension": ".py",
   "mimetype": "text/x-python",
   "name": "python",
   "nbconvert_exporter": "python",
   "pygments_lexer": "ipython3",
   "version": "3.9.6"
  },
  "orig_nbformat": 4,
  "vscode": {
   "interpreter": {
    "hash": "31f2aee4e71d21fbe5cf8b01ff0e069b9275f58929596ceb00d14d90e3e16cd6"
   }
  }
 },
 "nbformat": 4,
 "nbformat_minor": 2
}
