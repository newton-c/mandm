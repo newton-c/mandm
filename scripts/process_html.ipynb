{
 "cells": [
  {
   "cell_type": "code",
   "execution_count": 1,
   "metadata": {},
   "outputs": [],
   "source": [
    "from bs4 import BeautifulSoup\n",
    "import csv\n",
    "import os"
   ]
  },
  {
   "cell_type": "code",
   "execution_count": 46,
   "metadata": {},
   "outputs": [],
   "source": [
    "def html_to_csv(file_path):\n",
    "    file = open(file_path, 'r')\n",
    "    soup = BeautifulSoup(file, \"html.parser\")\n",
    "    title = soup.head.title.text\n",
    "    date = soup.time.text[1:11]\n",
    "    article = soup.find(\"div\", class_ = \"body\").text\n",
    "    row = [title, date, article]\n",
    "    return row"
   ]
  },
  {
   "cell_type": "code",
   "execution_count": 48,
   "metadata": {},
   "outputs": [],
   "source": [
    "headers = [\"title\", \"date\", \"article\"]\n",
    "root_path = \"/Users/cn/Desktop/Dissertation/mandm/data/articles/al_dia/\"\n",
    "paths = os.listdir(root_path)\n",
    "\n",
    "\n",
    "with open(\"/Users/cn/Desktop/Dissertation/mandm/data/al_dia.csv\", 'w', newline='') as csvfile:\n",
    "    csv_file = csv.writer(csvfile, dialect='excel')\n",
    "    csv_file.writerow(headers)\n",
    "    for path in paths:\n",
    "        to_file = root_path + path\n",
    "        #print(to_file)\n",
    "        try:\n",
    "            row = html_to_csv(to_file)\n",
    "        #print(row)\n",
    "            csv_file.writerow(row)\n",
    "        except Exception:\n",
    "            pass\n",
    "    "
   ]
  },
  {
   "cell_type": "code",
   "execution_count": 31,
   "metadata": {},
   "outputs": [
    {
     "name": "stdout",
     "output_type": "stream",
     "text": [
      "[['Al menos 10 hombres saquearon fábrica de jabones: también envenenaron', '23/01/2023', '\\nLa Policía Metropolitana de Barranquilla investiga el millonario hurto cometido el pasado viernes 20 de enero por al menos 10 hombres armados que ingresaron a las instalaciones de la empresa de jabones Prodecar SAS, en el municipio de Malambo.\\xa0\\nVer más:\\xa0Reportan asesinato en el norte de Barranquilla: \"se escucharon nueve balazos\"\\nFue en la noche de ese día, según el relato de los empleados de vigilancia, los delincuentes lograron acceder por diferentes puntos, imposibilitando que estos pudieran actuar y evitarlo.\\nEn su interior, los individuos amarraron a la vigilancia y luego envenenaron a ocho perros que viven en la planta, ocasionando la muerte de tres de estos.\\xa0\\n\"Me cuentan los vigilantes que los señores hicieron unos orificios en paredes, otros utilizaron escaleras para volarse y cometer el robo en la empresa\", explicó Rubber Cartagena, director de la planta.\\xa0\\nEste además precisó que los criminales lograron llevarse \"equipos, fuentes electrónicas para jabones de lavar y de tocador, elementos de oficina, perfumería, herramientas y equipos de soldadura\".\\xa0\\nEl monto de lo hurtado estaría por los 300 millones de pesos, de acuerdo con Cartagena, específicamente en equipos para la producción de jabón de lavar y de tocador.\\nEl vocero también comunicó que esta no es la primera vez que sucede un caso de hurto en la compañía.\\nRecordó además que, en octubre de 2018, también ocurrió un caso similar y, así mismo, los animales que ayudaban a la vigilancia del lote terminaron muertos por envenenamiento.\\xa0\\nEn esa línea, además de interponer la respectiva denuncia, Cartagena hizo un llamado a las autoridades para que le pongan freno al accionar de la delincuencia que tiene azotada a Malambo y a otras zonas de Barranquilla y su área metropolitana.\\n'], ['Reportan asesinato en el norte de Barranquilla: \"se escucharon nueve', '23/01/2023', '\\nDurante la madrugada de este lunes 23 de enero, se conoció el reporte de un ataque a bala cometido en la carrera 43 entre las calles 87 y 90, en el norte de Barranquilla.\\xa0\\nVer más:\\xa0Riñas en la Lectura del Bando: Policía reportó cuatro capturas\\nDe acuerdo con reportes preliminares, conocidos por este medio a través de la línea wasapea a AL DÍA, una persona murió luego de que fuera atacada a bala en hechos que son materia de investigación para las autoridades.\\nSegún lo informado, el hecho también dejó a una persona herida por los impactos de arma de fuego.\\xa0\\nLa persona que emite el reporte, quien solicitó la reserva de su identidad, indicó que el hecho tuvo lugar en la parte de atrás del establecimiento comercial Ara ubicado en la parte de atrás de la carrera 43, y se escucharon varios impactos de bala. \"Sonaron al menos nueve tiros\", aseguró la fuente.\\xa0\\nEl hecho habría tenido lugar a eso de la 1:45 a.m. de este lunes.\\nPor otra parte, hasta el lugar llegaron uniformados de la Policía Metropolitana de Barranquilla.\\xa0\\nNoticia en desarrollo...\\n']]\n"
     ]
    }
   ],
   "source": [
    "\n",
    "print(list(map(lambda x: html_to_csv(x), paths)))"
   ]
  }
 ],
 "metadata": {
  "kernelspec": {
   "display_name": "Python 3",
   "language": "python",
   "name": "python3"
  },
  "language_info": {
   "codemirror_mode": {
    "name": "ipython",
    "version": 3
   },
   "file_extension": ".py",
   "mimetype": "text/x-python",
   "name": "python",
   "nbconvert_exporter": "python",
   "pygments_lexer": "ipython3",
   "version": "3.9.6"
  },
  "orig_nbformat": 4,
  "vscode": {
   "interpreter": {
    "hash": "31f2aee4e71d21fbe5cf8b01ff0e069b9275f58929596ceb00d14d90e3e16cd6"
   }
  }
 },
 "nbformat": 4,
 "nbformat_minor": 2
}
