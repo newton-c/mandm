{
 "cells": [
  {
   "cell_type": "code",
   "execution_count": 1,
   "metadata": {},
   "outputs": [],
   "source": [
    "from bs4 import BeautifulSoup\n",
    "import csv\n",
    "import os\n",
    "import multiprocess as mp\n",
    "\n",
    "\n",
    "main_dir = \"/Users/cn/Desktop/Dissertation/mandm/data/articles/\""
   ]
  },
  {
   "cell_type": "code",
   "execution_count": 2,
   "metadata": {},
   "outputs": [],
   "source": [
    "def html_to_csv(file_path):\n",
    "    file = open(file_path, 'r')\n",
    "    soup = BeautifulSoup(file, \"html.parser\")\n",
    "    title_html = soup.find(\"meta\", property = \"og:title\")\n",
    "    title = title_html[\"content\"]\n",
    "    site_name_html = soup.find(\"meta\", property=\"og:site_name\")\n",
    "    site_name = site_name_html[\"content\"]\n",
    "    date_html = soup.find(\"meta\", property = \"article:published_time\")\n",
    "    date = date_html[\"content\"][0:10]\n",
    "    paragraphs = soup.findAll(\"p\")\n",
    "    articles = ''\n",
    "    for paragraph in paragraphs:\n",
    "        articles += '{} '.format(paragraph)\n",
    "    row = [title, date, articles, site_name]\n",
    "    return row"
   ]
  },
  {
   "cell_type": "markdown",
   "metadata": {},
   "source": [
    "headers = [\"title\", \"date\", \"article\", \"site_name\"]\n",
    "root_path = \"/Users/cn/Desktop/Dissertation/mandm/data/articles/al_dia/\"\n",
    "paths = os.listdir(root_path)\n",
    "\n",
    "\n",
    "with open(\"/Users/cn/Desktop/Dissertation/mandm/data/al_dia.csv\", 'w', newline='') as csvfile:\n",
    "    csv_file = csv.writer(csvfile, dialect='excel')\n",
    "    csv_file.writerow(headers)\n",
    "    for path in paths:\n",
    "        to_file = root_path + path\n",
    "        #print(to_file)\n",
    "        try:\n",
    "            row = html_to_csv(to_file, \"body\")\n",
    "        #print(row)\n",
    "            csv_file.writerow(row)\n",
    "        except Exception:\n",
    "            pass\n",
    "    "
   ]
  },
  {
   "cell_type": "markdown",
   "metadata": {},
   "source": [
    "\n",
    "root_path = \"/Users/cn/Desktop/Dissertation/mandm/data/articles/diario_del_césar/\"\n",
    "paths = os.listdir(root_path)\n",
    "\n",
    "\n",
    "with open(\"/Users/cn/Desktop/Dissertation/mandm/data/diario_del_césar.csv\", 'w', newline='') as csvfile:\n",
    "    csv_file = csv.writer(csvfile, dialect='excel')\n",
    "    csv_file.writerow(headers)\n",
    "    for path in paths:\n",
    "        to_file = root_path + path\n",
    "        #print(to_file)\n",
    "        try:\n",
    "            row = html_to_csv(to_file)\n",
    "        #print(row)\n",
    "            csv_file.writerow(row)\n",
    "        except Exception:\n",
    "            pass"
   ]
  },
  {
   "cell_type": "code",
   "execution_count": 3,
   "metadata": {},
   "outputs": [],
   "source": [
    "def convert_sites(root_path, paths, site):\n",
    "    csv_name = \"/Users/cn/Desktop/Dissertation/mandm/data/\" + site + \".csv\"\n",
    "    with open(csv_name, 'w', newline='') as csvfile:\n",
    "        csv_file = csv.writer(csvfile, dialect='excel')\n",
    "        csv_file.writerow(headers)\n",
    "        for path in paths:\n",
    "            to_file = root_path + path\n",
    "            #print(to_file)\n",
    "            try:\n",
    "                row = html_to_csv(to_file)\n",
    "            #print(row)\n",
    "                csv_file.writerow(row)\n",
    "            except Exception:\n",
    "                pass"
   ]
  },
  {
   "cell_type": "markdown",
   "metadata": {},
   "source": [
    "\n",
    "site = \"diario_del_norte\"\n",
    "root_path = main_dir + site + \"/\"\n",
    "paths = os.listdir(root_path)\n",
    "\n",
    "convert_sites(root_path, paths, site)"
   ]
  },
  {
   "cell_type": "markdown",
   "metadata": {},
   "source": [
    "site = \"diario_del_sur\"\n",
    "root_path = main_dir + site + \"/\"\n",
    "paths = os.listdir(root_path)\n",
    "\n",
    "convert_sites(root_path, paths, site)"
   ]
  },
  {
   "cell_type": "code",
   "execution_count": 12,
   "metadata": {},
   "outputs": [],
   "source": [
    "headers = [\"title\", \"date\", \"article\", \"site_name\"]\n",
    "all_sites = os.listdir(main_dir)\n",
    "all_sites.remove('.DS_Store')"
   ]
  },
  {
   "cell_type": "code",
   "execution_count": 13,
   "metadata": {},
   "outputs": [],
   "source": [
    "def convert_all(all_sites):\n",
    "    for site in all_sites:\n",
    "        try:\n",
    "            root_path = main_dir + site + \"/\"\n",
    "            paths = os.listdir(root_path)\n",
    "            convert_sites(root_path, paths, site)\n",
    "            print(site)\n",
    "        except Exception:\n",
    "            print(\"Error: \" + site + \" didn't work\")"
   ]
  },
  {
   "cell_type": "code",
   "execution_count": 14,
   "metadata": {},
   "outputs": [
    {
     "name": "stdout",
     "output_type": "stream",
     "text": [
      "el_diario\n",
      "el_heraldo\n",
      "vanguardia_liberal\n",
      "vanguardia_liberal_2\n",
      "el_país\n",
      "hoy_diario_de_magdalena_2\n",
      "el_meridiano\n",
      "el_nuevo_liberal\n",
      "elcolombiano\n",
      "el_manduco\n",
      "diario_del_norte\n",
      "la_opinion\n",
      "el_expreso\n",
      "la_nación\n",
      "periodismo_público\n",
      "la_crónica_del_quíndio\n",
      "eje21\n",
      "el_nuevo_dia\n",
      "llano_siete_dias\n",
      "diario_del_césar\n",
      "el_universal_2\n",
      "el_universal\n",
      "the_archipielago_press\n",
      "al_dia\n",
      "diario_del_sur\n",
      "hoy_diario_de_magdalena\n",
      "elpais\n"
     ]
    },
    {
     "data": {
      "text/plain": [
       "[[None]]"
      ]
     },
     "execution_count": 14,
     "metadata": {},
     "output_type": "execute_result"
    }
   ],
   "source": [
    "pool = mp.Pool(mp.cpu_count()-2)\n",
    "[pool.map(convert_all, [all_sites])]\n",
    "#convert_all(['el_diario'])"
   ]
  },
  {
   "cell_type": "code",
   "execution_count": null,
   "metadata": {},
   "outputs": [],
   "source": []
  },
  {
   "cell_type": "code",
   "execution_count": null,
   "metadata": {},
   "outputs": [],
   "source": []
  },
  {
   "cell_type": "code",
   "execution_count": null,
   "metadata": {},
   "outputs": [],
   "source": []
  }
 ],
 "metadata": {
  "kernelspec": {
   "display_name": "Python 3",
   "language": "python",
   "name": "python3"
  },
  "language_info": {
   "codemirror_mode": {
    "name": "ipython",
    "version": 3
   },
   "file_extension": ".py",
   "mimetype": "text/x-python",
   "name": "python",
   "nbconvert_exporter": "python",
   "pygments_lexer": "ipython3",
   "version": "3.9.6"
  },
  "orig_nbformat": 4,
  "vscode": {
   "interpreter": {
    "hash": "31f2aee4e71d21fbe5cf8b01ff0e069b9275f58929596ceb00d14d90e3e16cd6"
   }
  }
 },
 "nbformat": 4,
 "nbformat_minor": 2
}
