{
 "cells": [
  {
   "cell_type": "code",
   "execution_count": 183,
   "metadata": {},
   "outputs": [],
   "source": [
    "from bs4 import BeautifulSoup\n",
    "import csv\n",
    "import os\n",
    "import multiprocess as mp\n",
    "\n",
    "\n",
    "main_dir = \"/Users/cn/Desktop/Dissertation/mandm/data/articles/\""
   ]
  },
  {
   "cell_type": "code",
   "execution_count": 143,
   "metadata": {},
   "outputs": [],
   "source": [
    "def html_to_csv(file_path):\n",
    "    file = open(file_path, 'r')\n",
    "    soup = BeautifulSoup(file, \"html.parser\")\n",
    "    title_html = soup.find(\"meta\", property = \"og:title\")\n",
    "    title = title_html[\"content\"]\n",
    "    site_name_html = soup.find(\"meta\", property=\"og:site_name\")\n",
    "    site_name = site_name_html[\"content\"]\n",
    "    date_html = soup.find(\"meta\", property = \"article:published_time\")\n",
    "    date = date_html[\"content\"][0:10]\n",
    "    paragraphs = soup.findAll(\"p\")\n",
    "    articles = ''\n",
    "    for paragraph in paragraphs:\n",
    "        articles += '{} '.format(paragraph)\n",
    "    row = [title, date, articles, site_name]\n",
    "    return row"
   ]
  },
  {
   "cell_type": "code",
   "execution_count": 144,
   "metadata": {},
   "outputs": [],
   "source": [
    "headers = [\"title\", \"date\", \"article\", \"site_name\"]\n",
    "root_path = \"/Users/cn/Desktop/Dissertation/mandm/data/articles/al_dia/\"\n",
    "paths = os.listdir(root_path)\n",
    "\n",
    "\n",
    "with open(\"/Users/cn/Desktop/Dissertation/mandm/data/al_dia.csv\", 'w', newline='') as csvfile:\n",
    "    csv_file = csv.writer(csvfile, dialect='excel')\n",
    "    csv_file.writerow(headers)\n",
    "    for path in paths:\n",
    "        to_file = root_path + path\n",
    "        #print(to_file)\n",
    "        try:\n",
    "            row = html_to_csv(to_file, \"body\")\n",
    "        #print(row)\n",
    "            csv_file.writerow(row)\n",
    "        except Exception:\n",
    "            pass\n",
    "    "
   ]
  },
  {
   "cell_type": "code",
   "execution_count": 146,
   "metadata": {},
   "outputs": [
    {
     "ename": "KeyboardInterrupt",
     "evalue": "",
     "output_type": "error",
     "traceback": [
      "\u001b[0;31m---------------------------------------------------------------------------\u001b[0m",
      "\u001b[0;31mKeyboardInterrupt\u001b[0m                         Traceback (most recent call last)",
      "Cell \u001b[0;32mIn[146], line 12\u001b[0m\n\u001b[1;32m     10\u001b[0m \u001b[39m#print(to_file)\u001b[39;00m\n\u001b[1;32m     11\u001b[0m \u001b[39mtry\u001b[39;00m:\n\u001b[0;32m---> 12\u001b[0m     row \u001b[39m=\u001b[39m html_to_csv(to_file)\n\u001b[1;32m     13\u001b[0m \u001b[39m#print(row)\u001b[39;00m\n\u001b[1;32m     14\u001b[0m     csv_file\u001b[39m.\u001b[39mwriterow(row)\n",
      "Cell \u001b[0;32mIn[143], line 3\u001b[0m, in \u001b[0;36mhtml_to_csv\u001b[0;34m(file_path)\u001b[0m\n\u001b[1;32m      1\u001b[0m \u001b[39mdef\u001b[39;00m \u001b[39mhtml_to_csv\u001b[39m(file_path):\n\u001b[1;32m      2\u001b[0m     file \u001b[39m=\u001b[39m \u001b[39mopen\u001b[39m(file_path, \u001b[39m'\u001b[39m\u001b[39mr\u001b[39m\u001b[39m'\u001b[39m)\n\u001b[0;32m----> 3\u001b[0m     soup \u001b[39m=\u001b[39m BeautifulSoup(file, \u001b[39m\"\u001b[39;49m\u001b[39mhtml.parser\u001b[39;49m\u001b[39m\"\u001b[39;49m)\n\u001b[1;32m      4\u001b[0m     title_html \u001b[39m=\u001b[39m soup\u001b[39m.\u001b[39mfind(\u001b[39m\"\u001b[39m\u001b[39mmeta\u001b[39m\u001b[39m\"\u001b[39m, \u001b[39mproperty\u001b[39m \u001b[39m=\u001b[39m \u001b[39m\"\u001b[39m\u001b[39mog:title\u001b[39m\u001b[39m\"\u001b[39m)\n\u001b[1;32m      5\u001b[0m     title \u001b[39m=\u001b[39m title_html[\u001b[39m\"\u001b[39m\u001b[39mcontent\u001b[39m\u001b[39m\"\u001b[39m]\n",
      "File \u001b[0;32m~/Library/Python/3.9/lib/python/site-packages/bs4/__init__.py:333\u001b[0m, in \u001b[0;36mBeautifulSoup.__init__\u001b[0;34m(self, markup, features, builder, parse_only, from_encoding, exclude_encodings, element_classes, **kwargs)\u001b[0m\n\u001b[1;32m    331\u001b[0m \u001b[39mself\u001b[39m\u001b[39m.\u001b[39mbuilder\u001b[39m.\u001b[39minitialize_soup(\u001b[39mself\u001b[39m)\n\u001b[1;32m    332\u001b[0m \u001b[39mtry\u001b[39;00m:\n\u001b[0;32m--> 333\u001b[0m     \u001b[39mself\u001b[39;49m\u001b[39m.\u001b[39;49m_feed()\n\u001b[1;32m    334\u001b[0m     success \u001b[39m=\u001b[39m \u001b[39mTrue\u001b[39;00m\n\u001b[1;32m    335\u001b[0m     \u001b[39mbreak\u001b[39;00m\n",
      "File \u001b[0;32m~/Library/Python/3.9/lib/python/site-packages/bs4/__init__.py:451\u001b[0m, in \u001b[0;36mBeautifulSoup._feed\u001b[0;34m(self)\u001b[0m\n\u001b[1;32m    448\u001b[0m \u001b[39m# Convert the document to Unicode.\u001b[39;00m\n\u001b[1;32m    449\u001b[0m \u001b[39mself\u001b[39m\u001b[39m.\u001b[39mbuilder\u001b[39m.\u001b[39mreset()\n\u001b[0;32m--> 451\u001b[0m \u001b[39mself\u001b[39;49m\u001b[39m.\u001b[39;49mbuilder\u001b[39m.\u001b[39;49mfeed(\u001b[39mself\u001b[39;49m\u001b[39m.\u001b[39;49mmarkup)\n\u001b[1;32m    452\u001b[0m \u001b[39m# Close out any unfinished strings and close all the open tags.\u001b[39;00m\n\u001b[1;32m    453\u001b[0m \u001b[39mself\u001b[39m\u001b[39m.\u001b[39mendData()\n",
      "File \u001b[0;32m~/Library/Python/3.9/lib/python/site-packages/bs4/builder/_htmlparser.py:399\u001b[0m, in \u001b[0;36mHTMLParserTreeBuilder.feed\u001b[0;34m(self, markup)\u001b[0m\n\u001b[1;32m    397\u001b[0m parser\u001b[39m.\u001b[39msoup \u001b[39m=\u001b[39m \u001b[39mself\u001b[39m\u001b[39m.\u001b[39msoup\n\u001b[1;32m    398\u001b[0m \u001b[39mtry\u001b[39;00m:\n\u001b[0;32m--> 399\u001b[0m     parser\u001b[39m.\u001b[39;49mfeed(markup)\n\u001b[1;32m    400\u001b[0m     parser\u001b[39m.\u001b[39mclose()\n\u001b[1;32m    401\u001b[0m \u001b[39mexcept\u001b[39;00m HTMLParseError \u001b[39mas\u001b[39;00m e:\n",
      "File \u001b[0;32m/Library/Developer/CommandLineTools/Library/Frameworks/Python3.framework/Versions/3.9/lib/python3.9/html/parser.py:110\u001b[0m, in \u001b[0;36mHTMLParser.feed\u001b[0;34m(self, data)\u001b[0m\n\u001b[1;32m    104\u001b[0m \u001b[39m\u001b[39m\u001b[39mr\u001b[39m\u001b[39m\"\"\"Feed data to the parser.\u001b[39;00m\n\u001b[1;32m    105\u001b[0m \n\u001b[1;32m    106\u001b[0m \u001b[39mCall this as often as you want, with as little or as much text\u001b[39;00m\n\u001b[1;32m    107\u001b[0m \u001b[39mas you want (may include '\\n').\u001b[39;00m\n\u001b[1;32m    108\u001b[0m \u001b[39m\"\"\"\u001b[39;00m\n\u001b[1;32m    109\u001b[0m \u001b[39mself\u001b[39m\u001b[39m.\u001b[39mrawdata \u001b[39m=\u001b[39m \u001b[39mself\u001b[39m\u001b[39m.\u001b[39mrawdata \u001b[39m+\u001b[39m data\n\u001b[0;32m--> 110\u001b[0m \u001b[39mself\u001b[39;49m\u001b[39m.\u001b[39;49mgoahead(\u001b[39m0\u001b[39;49m)\n",
      "File \u001b[0;32m/Library/Developer/CommandLineTools/Library/Frameworks/Python3.framework/Versions/3.9/lib/python3.9/html/parser.py:170\u001b[0m, in \u001b[0;36mHTMLParser.goahead\u001b[0;34m(self, end)\u001b[0m\n\u001b[1;32m    168\u001b[0m \u001b[39mif\u001b[39;00m startswith(\u001b[39m'\u001b[39m\u001b[39m<\u001b[39m\u001b[39m'\u001b[39m, i):\n\u001b[1;32m    169\u001b[0m     \u001b[39mif\u001b[39;00m starttagopen\u001b[39m.\u001b[39mmatch(rawdata, i): \u001b[39m# < + letter\u001b[39;00m\n\u001b[0;32m--> 170\u001b[0m         k \u001b[39m=\u001b[39m \u001b[39mself\u001b[39;49m\u001b[39m.\u001b[39;49mparse_starttag(i)\n\u001b[1;32m    171\u001b[0m     \u001b[39melif\u001b[39;00m startswith(\u001b[39m\"\u001b[39m\u001b[39m</\u001b[39m\u001b[39m\"\u001b[39m, i):\n\u001b[1;32m    172\u001b[0m         k \u001b[39m=\u001b[39m \u001b[39mself\u001b[39m\u001b[39m.\u001b[39mparse_endtag(i)\n",
      "File \u001b[0;32m/Library/Developer/CommandLineTools/Library/Frameworks/Python3.framework/Versions/3.9/lib/python3.9/html/parser.py:342\u001b[0m, in \u001b[0;36mHTMLParser.parse_starttag\u001b[0;34m(self, i)\u001b[0m\n\u001b[1;32m    339\u001b[0m     \u001b[39mreturn\u001b[39;00m endpos\n\u001b[1;32m    340\u001b[0m \u001b[39mif\u001b[39;00m end\u001b[39m.\u001b[39mendswith(\u001b[39m'\u001b[39m\u001b[39m/>\u001b[39m\u001b[39m'\u001b[39m):\n\u001b[1;32m    341\u001b[0m     \u001b[39m# XHTML-style empty tag: <span attr=\"value\" />\u001b[39;00m\n\u001b[0;32m--> 342\u001b[0m     \u001b[39mself\u001b[39;49m\u001b[39m.\u001b[39;49mhandle_startendtag(tag, attrs)\n\u001b[1;32m    343\u001b[0m \u001b[39melse\u001b[39;00m:\n\u001b[1;32m    344\u001b[0m     \u001b[39mself\u001b[39m\u001b[39m.\u001b[39mhandle_starttag(tag, attrs)\n",
      "File \u001b[0;32m~/Library/Python/3.9/lib/python/site-packages/bs4/builder/_htmlparser.py:120\u001b[0m, in \u001b[0;36mBeautifulSoupHTMLParser.handle_startendtag\u001b[0;34m(self, name, attrs)\u001b[0m\n\u001b[1;32m    115\u001b[0m \u001b[39m# is_startend() tells handle_starttag not to close the tag\u001b[39;00m\n\u001b[1;32m    116\u001b[0m \u001b[39m# just because its name matches a known empty-element tag. We\u001b[39;00m\n\u001b[1;32m    117\u001b[0m \u001b[39m# know that this is an empty-element tag and we want to call\u001b[39;00m\n\u001b[1;32m    118\u001b[0m \u001b[39m# handle_endtag ourselves.\u001b[39;00m\n\u001b[1;32m    119\u001b[0m tag \u001b[39m=\u001b[39m \u001b[39mself\u001b[39m\u001b[39m.\u001b[39mhandle_starttag(name, attrs, handle_empty_element\u001b[39m=\u001b[39m\u001b[39mFalse\u001b[39;00m)\n\u001b[0;32m--> 120\u001b[0m \u001b[39mself\u001b[39;49m\u001b[39m.\u001b[39;49mhandle_endtag(name)\n",
      "File \u001b[0;32m~/Library/Python/3.9/lib/python/site-packages/bs4/builder/_htmlparser.py:193\u001b[0m, in \u001b[0;36mBeautifulSoupHTMLParser.handle_endtag\u001b[0;34m(self, name, check_already_closed)\u001b[0m\n\u001b[1;32m    191\u001b[0m     \u001b[39mself\u001b[39m\u001b[39m.\u001b[39malready_closed_empty_element\u001b[39m.\u001b[39mremove(name)\n\u001b[1;32m    192\u001b[0m \u001b[39melse\u001b[39;00m:\n\u001b[0;32m--> 193\u001b[0m     \u001b[39mself\u001b[39;49m\u001b[39m.\u001b[39;49msoup\u001b[39m.\u001b[39;49mhandle_endtag(name)\n",
      "File \u001b[0;32m~/Library/Python/3.9/lib/python/site-packages/bs4/__init__.py:743\u001b[0m, in \u001b[0;36mBeautifulSoup.handle_endtag\u001b[0;34m(self, name, nsprefix)\u001b[0m\n\u001b[1;32m    741\u001b[0m \u001b[39m#print(\"End tag: \" + name)\u001b[39;00m\n\u001b[1;32m    742\u001b[0m \u001b[39mself\u001b[39m\u001b[39m.\u001b[39mendData()\n\u001b[0;32m--> 743\u001b[0m \u001b[39mself\u001b[39;49m\u001b[39m.\u001b[39;49m_popToTag(name, nsprefix)\n",
      "\u001b[0;31mKeyboardInterrupt\u001b[0m: "
     ]
    }
   ],
   "source": [
    "\n",
    "root_path = \"/Users/cn/Desktop/Dissertation/mandm/data/articles/diario_del_césar/\"\n",
    "paths = os.listdir(root_path)\n",
    "\n",
    "\n",
    "with open(\"/Users/cn/Desktop/Dissertation/mandm/data/diario_del_césar.csv\", 'w', newline='') as csvfile:\n",
    "    csv_file = csv.writer(csvfile, dialect='excel')\n",
    "    csv_file.writerow(headers)\n",
    "    for path in paths:\n",
    "        to_file = root_path + path\n",
    "        #print(to_file)\n",
    "        try:\n",
    "            row = html_to_csv(to_file)\n",
    "        #print(row)\n",
    "            csv_file.writerow(row)\n",
    "        except Exception:\n",
    "            pass"
   ]
  },
  {
   "cell_type": "code",
   "execution_count": 160,
   "metadata": {},
   "outputs": [],
   "source": [
    "def convert_sites(root_path, paths, site):\n",
    "    csv_name = \"/Users/cn/Desktop/Dissertation/mandm/data/\" + site + \".csv\"\n",
    "    with open(csv_name, 'w', newline='') as csvfile:\n",
    "        csv_file = csv.writer(csvfile, dialect='excel')\n",
    "        csv_file.writerow(headers)\n",
    "        for path in paths:\n",
    "            to_file = root_path + path\n",
    "            #print(to_file)\n",
    "            try:\n",
    "                row = html_to_csv(to_file)\n",
    "            #print(row)\n",
    "                csv_file.writerow(row)\n",
    "            except Exception:\n",
    "                pass"
   ]
  },
  {
   "cell_type": "code",
   "execution_count": 161,
   "metadata": {},
   "outputs": [],
   "source": [
    "\n",
    "site = \"diario_del_norte\"\n",
    "root_path = main_dir + site + \"/\"\n",
    "paths = os.listdir(root_path)\n",
    "\n",
    "convert_sites(root_path, paths, site)"
   ]
  },
  {
   "cell_type": "code",
   "execution_count": 163,
   "metadata": {},
   "outputs": [],
   "source": [
    "site = \"diario_del_sur\"\n",
    "root_path = main_dir + site + \"/\"\n",
    "paths = os.listdir(root_path)\n",
    "\n",
    "convert_sites(root_path, paths, site)"
   ]
  },
  {
   "cell_type": "code",
   "execution_count": 188,
   "metadata": {},
   "outputs": [],
   "source": [
    "all_sites = os.listdir(main_dir)\n",
    "def convert_all(all_sites):\n",
    "    for site in all_sites:\n",
    "        try:\n",
    "            root_path = main_dir + site + \"/\"\n",
    "            paths = os.listdir(root_path)\n",
    "            convert_sites(root_path, paths, site)\n",
    "            print(site)\n",
    "        except Exception:\n",
    "            print(\"Error: \" + site + \" didn't work\")"
   ]
  },
  {
   "cell_type": "code",
   "execution_count": 191,
   "metadata": {},
   "outputs": [
    {
     "name": "stdout",
     "output_type": "stream",
     "text": [
      "al_dia\n",
      "el_diario\n"
     ]
    },
    {
     "data": {
      "text/plain": [
       "[[None]]"
      ]
     },
     "execution_count": 191,
     "metadata": {},
     "output_type": "execute_result"
    }
   ],
   "source": [
    "pool = mp.Pool(mp.cpu_count()-2)\n",
    "#all_sites = ['al_dia', 'el_diario']\n",
    "[pool.map(convert_all, [all_sites])]"
   ]
  },
  {
   "cell_type": "code",
   "execution_count": null,
   "metadata": {},
   "outputs": [],
   "source": []
  },
  {
   "cell_type": "code",
   "execution_count": null,
   "metadata": {},
   "outputs": [],
   "source": []
  },
  {
   "cell_type": "code",
   "execution_count": null,
   "metadata": {},
   "outputs": [],
   "source": []
  }
 ],
 "metadata": {
  "kernelspec": {
   "display_name": "Python 3",
   "language": "python",
   "name": "python3"
  },
  "language_info": {
   "codemirror_mode": {
    "name": "ipython",
    "version": 3
   },
   "file_extension": ".py",
   "mimetype": "text/x-python",
   "name": "python",
   "nbconvert_exporter": "python",
   "pygments_lexer": "ipython3",
   "version": "3.9.6"
  },
  "orig_nbformat": 4,
  "vscode": {
   "interpreter": {
    "hash": "31f2aee4e71d21fbe5cf8b01ff0e069b9275f58929596ceb00d14d90e3e16cd6"
   }
  }
 },
 "nbformat": 4,
 "nbformat_minor": 2
}
