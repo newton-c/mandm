{
 "cells": [
  {
   "cell_type": "code",
   "execution_count": 1,
   "id": "095ec538",
   "metadata": {},
   "outputs": [],
   "source": [
    "import requests\n",
    "import re\n",
    "from bs4 import BeautifulSoup\n",
    "import warnings\n",
    "#import csv"
   ]
  },
  {
   "cell_type": "markdown",
   "id": "83ec4951",
   "metadata": {},
   "source": [
    "List of Colombian newspapers:\n",
    "https://www.prensaescrita.com/america/colombia.php\n",
    "\n",
    "## Departamentos\n",
    "1. Amazonas\n",
    "2. Antioquia\n",
    "3. Arauca\n",
    "4. **Atlántico**\n",
    "5. **Bolívar**\n",
    "6. ~~Boyacá~~\n",
    "7. **Caldas**\n",
    "8. Caquetá\n",
    "9. Casanare\n",
    "10. **Cauca**\n",
    "11. Cesar\n",
    "12. Chocó\n",
    "13. Córdoba\n",
    "14. Cundinamarca\n",
    "15. Guainía\n",
    "16. Guaviare\n",
    "17. Huila\n",
    "18. La Guajira\n",
    "19. Magdalena\n",
    "20. Meta\n",
    "21. Nariño\n",
    "22. ~~Norte de Santander~~\n",
    "23. Putumayo\n",
    "24. ~~Quindío~~\n",
    "25. ~~Risaralda~~\n",
    "26. ~~San Andrés y Providencia~~\n",
    "27. ~~Santander~~\n",
    "28. **Sucre**\n",
    "29. ~~Tolima~~\n",
    "30. Valle del Cauca\n",
    "31. Vaupés\n",
    "32. Vichada\n"
   ]
  },
  {
   "cell_type": "markdown",
   "id": "a05e4ed8",
   "metadata": {},
   "source": [
    "Testing code with El Colombiano"
   ]
  },
  {
   "cell_type": "code",
   "execution_count": 21,
   "id": "27d1ffc0",
   "metadata": {},
   "outputs": [],
   "source": [
    "#f = csv.writer(open('elcolombiano.csv', 'w'))\n",
    "f = open('elcolombiano.txt', 'w')\n",
    "#f.writerow(['URL'])\n",
    "\n",
    "base_url = \"https://www.elcolombiano.com\"\n",
    "i = 1\n",
    "while i != 7:\n",
    "    if i == 1:\n",
    "        page = requests.get(\n",
    "    'https://www.elcolombiano.com/cronologia/noticias/meta/jep')\n",
    "    else:\n",
    "        page = requests.get(\n",
    "    'https://www.elcolombiano.com/cronologia/noticias/meta/jep#.p:{i};')\n",
    "    \n",
    "    soup = BeautifulSoup(page.text, 'html.parser')\n",
    "    links = soup.findAll(class_='noticia-resultado')\n",
    "    i = i + 1\n",
    "    for link in links:\n",
    "        url_tail = link.find('a').get('href')\n",
    "        url = base_url + url_tail\n",
    "        #url = \"%s%s\"%(base_url, url_tail)\n",
    "        f.write(url)\n",
    "        f.write('\\n')\n",
    "        "
   ]
  },
  {
   "cell_type": "markdown",
   "id": "0b670718",
   "metadata": {},
   "source": [
    "Defining a generic function for getting the urls from a tag or search"
   ]
  },
  {
   "cell_type": "markdown",
   "id": "0dd44667",
   "metadata": {},
   "source": [
    "grab_urls(first_url = '',\n",
    "          other_url = '',\n",
    "          base_url = '',\n",
    "          site_name = '',\n",
    "          max_pages = ,\n",
    "          paste_urls = True,\n",
    "          class_ = '')"
   ]
  },
  {
   "cell_type": "code",
   "execution_count": 2,
   "id": "6b0c21df",
   "metadata": {},
   "outputs": [],
   "source": [
    "def grab_urls(first_url, other_url, site_name, max_pages, paste_urls, class_, base_url = None):\n",
    "    file_name = site_name + \".txt\"\n",
    "    f = open(file_name, 'w')\n",
    "\n",
    "    \n",
    "    i = 1\n",
    "    while i != max_pages + 1:\n",
    "        if i == 1:\n",
    "            page = requests.get(first_url)\n",
    "        else:\n",
    "            page = requests.get(other_url)\n",
    "            print(other_url)\n",
    "        soup = BeautifulSoup(page.text, 'html.parser')\n",
    "        links = soup.findAll(class_ = class_)\n",
    "        i = i + 1\n",
    "        if paste_urls == False:\n",
    "            for link in links:\n",
    "               # url = link.find('a').get('data-ctorig')\n",
    "                url = link.find('a').get('href')\n",
    "                f.write(url)\n",
    "                f.write('\\n')\n",
    "        elif paste_urls == True:\n",
    "            for link in links:\n",
    "                url_tail = link.find('a').get('href')\n",
    "                url = base_url + url_tail\n",
    "                f.write(url)\n",
    "                f.write('\\n')\n",
    "        else:\n",
    "            warnings.warn(\"paste_urls must be True or False\")"
   ]
  },
  {
   "cell_type": "markdown",
   "id": "98055657",
   "metadata": {},
   "source": [
    "# Amazonas\n",
    "Diario"
   ]
  },
  {
   "cell_type": "code",
   "execution_count": null,
   "id": "b006c14d",
   "metadata": {},
   "outputs": [],
   "source": [
    "grab_urls(first_url = '',\n",
    "          other_url = '',\n",
    "          base_url = '',\n",
    "          site_name = '',\n",
    "          max_pages = ,\n",
    "          paste_urls = True,\n",
    "          class_ = '')"
   ]
  },
  {
   "cell_type": "markdown",
   "id": "a5ff0b26",
   "metadata": {},
   "source": [
    "# Antioquía\n",
    "Diario"
   ]
  },
  {
   "cell_type": "code",
   "execution_count": null,
   "id": "59caeaa1",
   "metadata": {},
   "outputs": [],
   "source": [
    "grab_urls(first_url = '',\n",
    "          other_url = '',\n",
    "          base_url = '',\n",
    "          site_name = '',\n",
    "          max_pages = ,\n",
    "          paste_urls = True,\n",
    "          class_ = '')"
   ]
  },
  {
   "cell_type": "markdown",
   "id": "878727bc",
   "metadata": {},
   "source": [
    "# Arauca\n",
    "Diario"
   ]
  },
  {
   "cell_type": "code",
   "execution_count": null,
   "id": "4aee1fe4",
   "metadata": {},
   "outputs": [],
   "source": [
    "grab_urls(first_url = '',\n",
    "          other_url = '',\n",
    "          base_url = '',\n",
    "          site_name = '',\n",
    "          max_pages = ,\n",
    "          paste_urls = True,\n",
    "          class_ = '')"
   ]
  },
  {
   "cell_type": "markdown",
   "id": "c3e712e2",
   "metadata": {},
   "source": [
    "<h1 style=\"color:red\">Atlántico</h1>\n",
    "<span style=\"color:red\">El Heraldo (Doesn't run)</span>"
   ]
  },
  {
   "cell_type": "code",
   "execution_count": 12,
   "id": "d1e43307",
   "metadata": {},
   "outputs": [
    {
     "ename": "AttributeError",
     "evalue": "'NoneType' object has no attribute 'get'",
     "output_type": "error",
     "traceback": [
      "\u001b[0;31m---------------------------------------------------------------------------\u001b[0m",
      "\u001b[0;31mAttributeError\u001b[0m                            Traceback (most recent call last)",
      "\u001b[0;32m/tmp/ipykernel_284716/1106166559.py\u001b[0m in \u001b[0;36m<module>\u001b[0;34m\u001b[0m\n\u001b[0;32m----> 1\u001b[0;31m grab_urls(first_url = 'https://www.elheraldo.co/farc-0?utm_source=ELHERALDO&utm_medium=articulo&utm_campaign=recirculacion&utm_term=temas-tratados',\n\u001b[0m\u001b[1;32m      2\u001b[0m           \u001b[0mother_url\u001b[0m \u001b[0;34m=\u001b[0m \u001b[0;34m'https://www.elheraldo.co/farc-0?utm_source=ELHERALDO&utm_medium=articulo&utm_campaign=recirculacion&utm_term=temas-tratados'\u001b[0m\u001b[0;34m,\u001b[0m\u001b[0;34m\u001b[0m\u001b[0;34m\u001b[0m\u001b[0m\n\u001b[1;32m      3\u001b[0m           \u001b[0msite_name\u001b[0m \u001b[0;34m=\u001b[0m \u001b[0;34m'el_heraldo'\u001b[0m\u001b[0;34m,\u001b[0m \u001b[0mmax_pages\u001b[0m \u001b[0;34m=\u001b[0m \u001b[0;36m2\u001b[0m\u001b[0;34m,\u001b[0m \u001b[0mpaste_urls\u001b[0m \u001b[0;34m=\u001b[0m \u001b[0;32mFalse\u001b[0m\u001b[0;34m,\u001b[0m\u001b[0;34m\u001b[0m\u001b[0;34m\u001b[0m\u001b[0m\n\u001b[1;32m      4\u001b[0m           class_ = \"icon icon-articulo 954261-widget\")\n",
      "\u001b[0;32m/tmp/ipykernel_284716/3184983997.py\u001b[0m in \u001b[0;36mgrab_urls\u001b[0;34m(first_url, other_url, site_name, max_pages, paste_urls, class_)\u001b[0m\n\u001b[1;32m     15\u001b[0m         \u001b[0;32mif\u001b[0m \u001b[0mpaste_urls\u001b[0m \u001b[0;34m==\u001b[0m \u001b[0;32mFalse\u001b[0m\u001b[0;34m:\u001b[0m\u001b[0;34m\u001b[0m\u001b[0;34m\u001b[0m\u001b[0m\n\u001b[1;32m     16\u001b[0m             \u001b[0;32mfor\u001b[0m \u001b[0mlink\u001b[0m \u001b[0;32min\u001b[0m \u001b[0mlinks\u001b[0m\u001b[0;34m:\u001b[0m\u001b[0;34m\u001b[0m\u001b[0;34m\u001b[0m\u001b[0m\n\u001b[0;32m---> 17\u001b[0;31m                 \u001b[0murl\u001b[0m \u001b[0;34m=\u001b[0m \u001b[0mlink\u001b[0m\u001b[0;34m.\u001b[0m\u001b[0mfind\u001b[0m\u001b[0;34m(\u001b[0m\u001b[0;34m'a'\u001b[0m\u001b[0;34m)\u001b[0m\u001b[0;34m.\u001b[0m\u001b[0mget\u001b[0m\u001b[0;34m(\u001b[0m\u001b[0;34m'href'\u001b[0m\u001b[0;34m)\u001b[0m\u001b[0;34m\u001b[0m\u001b[0;34m\u001b[0m\u001b[0m\n\u001b[0m\u001b[1;32m     18\u001b[0m                 \u001b[0mf\u001b[0m\u001b[0;34m.\u001b[0m\u001b[0mwrite\u001b[0m\u001b[0;34m(\u001b[0m\u001b[0murl\u001b[0m\u001b[0;34m)\u001b[0m\u001b[0;34m\u001b[0m\u001b[0;34m\u001b[0m\u001b[0m\n\u001b[1;32m     19\u001b[0m                 \u001b[0mf\u001b[0m\u001b[0;34m.\u001b[0m\u001b[0mwrite\u001b[0m\u001b[0;34m(\u001b[0m\u001b[0;34m'\\n'\u001b[0m\u001b[0;34m)\u001b[0m\u001b[0;34m\u001b[0m\u001b[0;34m\u001b[0m\u001b[0m\n",
      "\u001b[0;31mAttributeError\u001b[0m: 'NoneType' object has no attribute 'get'"
     ]
    }
   ],
   "source": [
    "grab_urls(first_url = 'https://www.elheraldo.co/farc-0?utm_source=ELHERALDO&utm_medium=articulo&utm_campaign=recirculacion&utm_term=temas-tratados',\n",
    "          other_url = 'https://www.elheraldo.co/farc-0?utm_source=ELHERALDO&utm_medium=articulo&utm_campaign=recirculacion&utm_term=temas-tratados',\n",
    "          site_name = 'el_heraldo', max_pages = 2, paste_urls = False,\n",
    "          class_ = \"icon icon-articulo 954261-widget\")"
   ]
  },
  {
   "cell_type": "markdown",
   "id": "56794e7b",
   "metadata": {},
   "source": [
    "<h1 style=\"color:red\">Bolívar</h1>\n",
    "<span style=\"color:orange\">El Universal (grabs some but only a few (probably first page)</span>"
   ]
  },
  {
   "cell_type": "code",
   "execution_count": 21,
   "id": "af289145",
   "metadata": {},
   "outputs": [],
   "source": [
    "grab_urls(first_url = 'https://www.eluniversal.com.co/busqueda/-/search/%22Las%20farc%22/false/false/19810109/20230109/date/true/true/0/0/meta/0/0/0/1',\n",
    "          other_url = 'https://www.eluniversal.com.co/busqueda/-/search/%22Las%20farc%22/false/false/19810109/20230109/date/true/true/0/0/meta/0/0/0/{i}',\n",
    "          base_url = 'https://www.eluniversal.com.co',\n",
    "          site_name = 'el_universal', max_pages = 1876, paste_urls = True,\n",
    "          class_ = \"info\")"
   ]
  },
  {
   "cell_type": "markdown",
   "id": "2d19ca0b",
   "metadata": {},
   "source": [
    "# Boyaca\n",
    "<span style=\"color:green\">El Diario</span>"
   ]
  },
  {
   "cell_type": "code",
   "execution_count": 25,
   "id": "5122195b",
   "metadata": {},
   "outputs": [],
   "source": [
    "grab_urls(first_url = 'https://periodicoeldiario.com/?s=farc',\n",
    "          other_url = 'https://periodicoeldiario.com/page/{i}/?s=farc',\n",
    "          site_name = 'el_diario', max_pages = 12, paste_urls = False,\n",
    "          class_ = 'entry-title td-module-title')"
   ]
  },
  {
   "cell_type": "markdown",
   "id": "57550f4f",
   "metadata": {},
   "source": [
    "<h1 style=\"color:red\">Caldas</h1>\n",
    "<span style=\"color:red\">La Patria (Doesn't work)</span>"
   ]
  },
  {
   "cell_type": "code",
   "execution_count": 43,
   "id": "41c78027",
   "metadata": {},
   "outputs": [],
   "source": [
    "grab_urls(first_url = 'https://www.lapatria.com/buscar#gsc.tab=0&gsc.q=farc&gsc.sort=',\n",
    "          other_url = 'https://www.lapatria.com/buscar#gsc.tab=0&gsc.q=farc&gsc.sort=&gsc.page={i}',\n",
    "          site_name = 'la_patria', max_pages = 10, paste_urls = False,\n",
    "          class_ = 'gsc-thumbnail-inside')"
   ]
  },
  {
   "cell_type": "markdown",
   "id": "591a20fa",
   "metadata": {},
   "source": [
    "# Caquetá\n",
    "Diario"
   ]
  },
  {
   "cell_type": "code",
   "execution_count": null,
   "id": "f325b26b",
   "metadata": {},
   "outputs": [],
   "source": [
    "grab_urls(first_url = '',\n",
    "          other_url = '',\n",
    "          base_url = '',\n",
    "          site_name = '',\n",
    "          max_pages = ,\n",
    "          paste_urls = True,\n",
    "          class_ = '')"
   ]
  },
  {
   "cell_type": "markdown",
   "id": "1460ea97",
   "metadata": {},
   "source": [
    "# Casanare\n",
    "Diario"
   ]
  },
  {
   "cell_type": "code",
   "execution_count": null,
   "id": "8f2a5b8e",
   "metadata": {},
   "outputs": [],
   "source": [
    "grab_urls(first_url = '',\n",
    "          other_url = '',\n",
    "          base_url = '',\n",
    "          site_name = '',\n",
    "          max_pages = ,\n",
    "          paste_urls = True,\n",
    "          class_ = '')"
   ]
  },
  {
   "cell_type": "markdown",
   "id": "317640bb",
   "metadata": {},
   "source": [
    "<h1 style=\"color:red\">Cauca</h1>\n",
    "<span style=\"color:red\">El nuevo liberal</span>"
   ]
  },
  {
   "cell_type": "code",
   "execution_count": 14,
   "id": "77545fd9",
   "metadata": {},
   "outputs": [],
   "source": [
    "grab_urls(first_url = 'https://elnuevoliberal.com/?s=farc',\n",
    "          other_url = 'https://elnuevoliberal.com/page/{i}/?s=farc',\n",
    "          site_name = 'el_nuevo_liberal',\n",
    "          max_pages = 249,\n",
    "          paste_urls = False,\n",
    "          class_ = \"entry-*\")"
   ]
  },
  {
   "cell_type": "markdown",
   "id": "ee4c291b",
   "metadata": {},
   "source": [
    "# Cesar\n",
    "\n",
    "Diario"
   ]
  },
  {
   "cell_type": "code",
   "execution_count": null,
   "id": "d3fb8ad3",
   "metadata": {},
   "outputs": [],
   "source": [
    "grab_urls(first_url = '',\n",
    "          other_url = '',\n",
    "          base_url = '',\n",
    "          site_name = '',\n",
    "          max_pages = ,\n",
    "          paste_urls = True,\n",
    "          class_ = '')"
   ]
  },
  {
   "cell_type": "markdown",
   "id": "062c2d6c",
   "metadata": {},
   "source": [
    "# Chocó\n",
    "\n",
    "Diario"
   ]
  },
  {
   "cell_type": "code",
   "execution_count": null,
   "id": "94bf1aa5",
   "metadata": {},
   "outputs": [],
   "source": [
    "grab_urls(first_url = '',\n",
    "          other_url = '',\n",
    "          base_url = '',\n",
    "          site_name = '',\n",
    "          max_pages = ,\n",
    "          paste_urls = True,\n",
    "          class_ = '')"
   ]
  },
  {
   "cell_type": "markdown",
   "id": "ea172665",
   "metadata": {},
   "source": [
    "# Córdoba\n",
    "\n",
    "Diario"
   ]
  },
  {
   "cell_type": "code",
   "execution_count": null,
   "id": "1a9aa637",
   "metadata": {},
   "outputs": [],
   "source": [
    "grab_urls(first_url = '',\n",
    "          other_url = '',\n",
    "          base_url = '',\n",
    "          site_name = '',\n",
    "          max_pages = ,\n",
    "          paste_urls = True,\n",
    "          class_ = '')"
   ]
  },
  {
   "cell_type": "markdown",
   "id": "d488ad72",
   "metadata": {},
   "source": [
    "# Cundinamarca\n",
    "\n",
    "Diario"
   ]
  },
  {
   "cell_type": "code",
   "execution_count": null,
   "id": "7bc6ce5b",
   "metadata": {},
   "outputs": [],
   "source": [
    "grab_urls(first_url = '',\n",
    "          other_url = '',\n",
    "          base_url = '',\n",
    "          site_name = '',\n",
    "          max_pages = ,\n",
    "          paste_urls = True,\n",
    "          class_ = '')"
   ]
  },
  {
   "cell_type": "markdown",
   "id": "b9997e28",
   "metadata": {},
   "source": [
    "# Guainía\n",
    "\n",
    "Diario"
   ]
  },
  {
   "cell_type": "code",
   "execution_count": null,
   "id": "8e354355",
   "metadata": {},
   "outputs": [],
   "source": [
    "grab_urls(first_url = '',\n",
    "          other_url = '',\n",
    "          base_url = '',\n",
    "          site_name = '',\n",
    "          max_pages = ,\n",
    "          paste_urls = True,\n",
    "          class_ = '')"
   ]
  },
  {
   "cell_type": "markdown",
   "id": "bbf230fc",
   "metadata": {},
   "source": [
    "# Guaviare\n",
    "\n",
    "Diario"
   ]
  },
  {
   "cell_type": "code",
   "execution_count": null,
   "id": "757c00a7",
   "metadata": {},
   "outputs": [],
   "source": [
    "grab_urls(first_url = '',\n",
    "          other_url = '',\n",
    "          base_url = '',\n",
    "          site_name = '',\n",
    "          max_pages = ,\n",
    "          paste_urls = True,\n",
    "          class_ = '')"
   ]
  },
  {
   "cell_type": "markdown",
   "id": "97247db9",
   "metadata": {},
   "source": [
    "# Huila\n",
    "\n",
    "Diario"
   ]
  },
  {
   "cell_type": "code",
   "execution_count": null,
   "id": "f2b80753",
   "metadata": {},
   "outputs": [],
   "source": [
    "grab_urls(first_url = '',\n",
    "          other_url = '',\n",
    "          base_url = '',\n",
    "          site_name = '',\n",
    "          max_pages = ,\n",
    "          paste_urls = True,\n",
    "          class_ = '')"
   ]
  },
  {
   "cell_type": "markdown",
   "id": "05d99dc7",
   "metadata": {},
   "source": [
    "# La Guajira\n",
    "\n",
    "Diario"
   ]
  },
  {
   "cell_type": "code",
   "execution_count": null,
   "id": "68d9efe0",
   "metadata": {},
   "outputs": [],
   "source": [
    "grab_urls(first_url = '',\n",
    "          other_url = '',\n",
    "          base_url = '',\n",
    "          site_name = '',\n",
    "          max_pages = ,\n",
    "          paste_urls = True,\n",
    "          class_ = '')"
   ]
  },
  {
   "cell_type": "markdown",
   "id": "3194536e",
   "metadata": {},
   "source": [
    "# Magdalena\n",
    "\n",
    "Diario"
   ]
  },
  {
   "cell_type": "code",
   "execution_count": null,
   "id": "ad3411ec",
   "metadata": {},
   "outputs": [],
   "source": [
    "grab_urls(first_url = '',\n",
    "          other_url = '',\n",
    "          base_url = '',\n",
    "          site_name = '',\n",
    "          max_pages = ,\n",
    "          paste_urls = True,\n",
    "          class_ = '')"
   ]
  },
  {
   "cell_type": "markdown",
   "id": "a426a627",
   "metadata": {},
   "source": [
    "# Meta\n",
    "\n",
    "Diario"
   ]
  },
  {
   "cell_type": "code",
   "execution_count": null,
   "id": "e4ca9e1d",
   "metadata": {},
   "outputs": [],
   "source": [
    "grab_urls(first_url = '',\n",
    "          other_url = '',\n",
    "          base_url = '',\n",
    "          site_name = '',\n",
    "          max_pages = ,\n",
    "          paste_urls = True,\n",
    "          class_ = '')"
   ]
  },
  {
   "cell_type": "markdown",
   "id": "644f2ef3",
   "metadata": {},
   "source": [
    "# Nariño\n",
    "\n",
    "Diario"
   ]
  },
  {
   "cell_type": "code",
   "execution_count": null,
   "id": "0804695b",
   "metadata": {},
   "outputs": [],
   "source": [
    "grab_urls(first_url = '',\n",
    "          other_url = '',\n",
    "          base_url = '',\n",
    "          site_name = '',\n",
    "          max_pages = ,\n",
    "          paste_urls = True,\n",
    "          class_ = '')"
   ]
  },
  {
   "cell_type": "markdown",
   "id": "9a6cc4cf",
   "metadata": {},
   "source": [
    "# Norte de Santander\n",
    "<span style=\"color:green\">La Opinion</span>"
   ]
  },
  {
   "cell_type": "code",
   "execution_count": 4,
   "id": "9f59a444",
   "metadata": {},
   "outputs": [],
   "source": [
    "grab_urls(first_url = 'https://www.laopinion.com.co/search/node?keys=FARC',\n",
    "          other_url = 'https://www.laopinion.com.co/search/node?keys=FARC&_wrapper_format=html&page={i}',\n",
    "          site_name = 'la_opinion',\n",
    "          max_pages = 177,\n",
    "          paste_urls = False,\n",
    "          class_ = \"list-group-item\")"
   ]
  },
  {
   "cell_type": "markdown",
   "id": "c12a883f",
   "metadata": {},
   "source": [
    "# Putumayo\n",
    "\n",
    "Diario"
   ]
  },
  {
   "cell_type": "code",
   "execution_count": null,
   "id": "b26c7217",
   "metadata": {},
   "outputs": [],
   "source": [
    "grab_urls(first_url = '',\n",
    "          other_url = '',\n",
    "          base_url = '',\n",
    "          site_name = '',\n",
    "          max_pages = ,\n",
    "          paste_urls = True,\n",
    "          class_ = '')"
   ]
  },
  {
   "cell_type": "markdown",
   "id": "0ef848e8",
   "metadata": {},
   "source": [
    "# Quindio\n",
    "<span style=\"color:green\">La Cronica del Quindio</span>"
   ]
  },
  {
   "cell_type": "code",
   "execution_count": 11,
   "id": "21063917",
   "metadata": {},
   "outputs": [],
   "source": [
    "grab_urls(first_url = 'https://www.cronicadelquindio.com/tags/255936/farc',\n",
    "          other_url = 'https://www.cronicadelquindio.com/tags/255919/jep?page={i}',\n",
    "          site_name = 'la_crónica_del_quíndio', max_pages = 3, paste_urls = False,\n",
    "          class_ = \"article_item news_1\")"
   ]
  },
  {
   "cell_type": "markdown",
   "id": "293fb9a1",
   "metadata": {},
   "source": [
    "# Risaralda\n",
    "<span style=\"color:green\">El Expreso</span>"
   ]
  },
  {
   "cell_type": "code",
   "execution_count": 17,
   "id": "7e045164",
   "metadata": {},
   "outputs": [],
   "source": [
    "grab_urls(first_url = 'https://www.elexpreso.co/es/ibuscar/local/?q=farc',\n",
    "          other_url = 'https://www.elexpreso.co/es/ibuscar/local/{(i-1) * 15}/?q=farc',\n",
    "          site_name = 'el_expreso',\n",
    "          max_pages = 6,\n",
    "          paste_urls = False,\n",
    "          class_ = 'media-body')"
   ]
  },
  {
   "cell_type": "markdown",
   "id": "2661eda1",
   "metadata": {},
   "source": [
    "# San Andrés y Providencia\n",
    "<span style=\"color:green\">The Archipielago Press</span>"
   ]
  },
  {
   "cell_type": "code",
   "execution_count": 18,
   "id": "3204cf77",
   "metadata": {},
   "outputs": [],
   "source": [
    "grab_urls(first_url = 'https://thearchipielagopress.co/?s=farc',\n",
    "          other_url = 'https://thearchipielagopress.co/page/{i}/?s=farc',\n",
    "          site_name = 'the_archipielago_press',\n",
    "          max_pages = 23,\n",
    "          paste_urls = False,\n",
    "          class_ = 'jeg_post_title')"
   ]
  },
  {
   "cell_type": "markdown",
   "id": "f8277e67",
   "metadata": {},
   "source": [
    "# Santander\n",
    "<span style=\"color:green\">Vanguardia Liberal</span>"
   ]
  },
  {
   "cell_type": "code",
   "execution_count": 23,
   "id": "de42f012",
   "metadata": {},
   "outputs": [],
   "source": [
    "grab_urls(first_url = 'https://www.vanguardia.com/busquedas/-/search/farc/false/false/19810114/20230114/date/true/true/0/0/meta/0/0/0/1',\n",
    "          other_url = 'https://www.vanguardia.com/busquedas/-/search/farc/false/false/19810114/20230114/date/true/true/0/0/meta/0/0/0/{i}',\n",
    "          site_name = 'vanguardia_liberal',\n",
    "          base_url = 'https://www.vanguardia.com',\n",
    "          max_pages = 2643,\n",
    "          paste_urls = True,\n",
    "          class_ = 'noticias')"
   ]
  },
  {
   "cell_type": "markdown",
   "id": "230feb99",
   "metadata": {},
   "source": [
    "<h1 style=\"color:red\">Sucre</h1>.\n",
    "\n",
    "<span style=\"color:orange\">El Meridiano (grabs first page fine, but won't continue to others)</span>"
   ]
  },
  {
   "cell_type": "code",
   "execution_count": 9,
   "id": "0c0359fc",
   "metadata": {},
   "outputs": [],
   "source": [
    "grab_urls(first_url = 'https://elmeridiano.co/?s=farc',\n",
    "          other_url = 'https://elmeridiano.co/page/{i}/?s=farc',\n",
    "          site_name = 'el_meridiano',\n",
    "          max_pages = 13,\n",
    "          paste_urls = False,\n",
    "          class_ = 'post_img')"
   ]
  },
  {
   "cell_type": "markdown",
   "id": "a9a28e4a",
   "metadata": {},
   "source": [
    "# Tolima\n",
    "<span style=\"color:green\">El Nuevo Día</span>"
   ]
  },
  {
   "cell_type": "code",
   "execution_count": 5,
   "id": "f89ad045",
   "metadata": {},
   "outputs": [],
   "source": [
    "grab_urls(first_url = 'https://www.elnuevodia.com.co/nuevodia/search/node?keys=Farc',\n",
    "          other_url = 'https://www.elnuevodia.com.co/nuevodia/search/node?keys=Farc&page={i-1}',\n",
    "          site_name = 'el_nuevo_dia',\n",
    "          max_pages = 1094,\n",
    "          paste_urls = False,\n",
    "          class_ = 'search-result__title')"
   ]
  },
  {
   "cell_type": "markdown",
   "id": "b4ccd56d",
   "metadata": {},
   "source": [
    "# Valle del Cauca\n",
    "<span style=\"color:orange\">El País"
   ]
  },
  {
   "cell_type": "code",
   "execution_count": 5,
   "id": "5bf7b85d",
   "metadata": {},
   "outputs": [
    {
     "name": "stdout",
     "output_type": "stream",
     "text": [
      "https://www.elpais.com.co/search/listing/0/[i]/farc\n",
      "https://www.elpais.com.co/search/listing/0/[i]/farc\n",
      "https://www.elpais.com.co/search/listing/0/[i]/farc\n"
     ]
    }
   ],
   "source": [
    "grab_urls(first_url = 'https://www.elpais.com.co/search/listing/0/1/farc',\n",
    "          other_url = 'https://www.elpais.com.co/search/listing/0/{i}/farc',\n",
    "          base_url = 'https://www.elpais.com.co',\n",
    "          site_name = 'el_país',\n",
    "          max_pages = 4,\n",
    "          paste_urls = False,\n",
    "          class_ = 'listing-title')"
   ]
  },
  {
   "cell_type": "markdown",
   "id": "a47f78f2",
   "metadata": {},
   "source": [
    "# Vaupés\n",
    "\n",
    "Diario"
   ]
  },
  {
   "cell_type": "code",
   "execution_count": null,
   "id": "ea48291b",
   "metadata": {},
   "outputs": [],
   "source": [
    "grab_urls(first_url = '',\n",
    "          other_url = '',\n",
    "          base_url = '',\n",
    "          site_name = '',\n",
    "          max_pages = ,\n",
    "          paste_urls = True,\n",
    "          class_ = '')"
   ]
  },
  {
   "cell_type": "markdown",
   "id": "7f00d43f",
   "metadata": {},
   "source": [
    "# Vichada\n",
    "Diario"
   ]
  },
  {
   "cell_type": "code",
   "execution_count": null,
   "id": "a3a8377a",
   "metadata": {},
   "outputs": [],
   "source": [
    "grab_urls(first_url = '',\n",
    "          other_url = '',\n",
    "          base_url = '',\n",
    "          site_name = '',\n",
    "          max_pages = ,\n",
    "          paste_urls = True,\n",
    "          class_ = '')"
   ]
  }
 ],
 "metadata": {
  "kernelspec": {
   "display_name": "Python 3 (ipykernel)",
   "language": "python",
   "name": "python3"
  },
  "language_info": {
   "codemirror_mode": {
    "name": "ipython",
    "version": 3
   },
   "file_extension": ".py",
   "mimetype": "text/x-python",
   "name": "python",
   "nbconvert_exporter": "python",
   "pygments_lexer": "ipython3",
   "version": "3.10.6"
  }
 },
 "nbformat": 4,
 "nbformat_minor": 5
}
