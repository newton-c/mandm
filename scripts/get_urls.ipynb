{
 "cells": [
  {
   "cell_type": "code",
   "execution_count": 11,
   "id": "095ec538",
   "metadata": {},
   "outputs": [],
   "source": [
    "import requests\n",
    "import re\n",
    "from bs4 import BeautifulSoup\n",
    "import warnings\n",
    "import time\n",
    "#import csv"
   ]
  },
  {
   "cell_type": "markdown",
   "id": "83ec4951",
   "metadata": {},
   "source": [
    "List of Colombian newspapers:\n",
    "https://www.prensaescrita.com/america/colombia.php\n",
    "\n",
    "## Departamentos\n",
    "*No hay periédicos locales*  \n",
    "**No funciona**  \n",
    "~~Ya lo hice~~  \n",
    "Lo tengo que empezar todavía  \n",
    "\n",
    "1. *Amazonas*\n",
    "2. ~~Antioquia~~\n",
    "3. *Arauca*\n",
    "4. **Atlántico**\n",
    "5. ~~Bolívar~~\n",
    "6. ~~Boyacá~~\n",
    "7. **Caldas**\n",
    "8. *Caquetá*\n",
    "9. *Casanare*\n",
    "10. **Cauca**\n",
    "11. ~~César~~\n",
    "12. Chocó\n",
    "13. Córdoba\n",
    "14. Cundinamarca\n",
    "15. *Guainía*\n",
    "16. *Guaviare*\n",
    "17. Huila\n",
    "18. La Guajira\n",
    "19. Magdalena\n",
    "20. Meta\n",
    "21. Nariño\n",
    "22. ~~Norte de Santander~~\n",
    "23. *Putumayo*\n",
    "24. ~~Quindío~~\n",
    "25. ~~Risaralda~~\n",
    "26. ~~San Andrés y Providencia~~\n",
    "27. ~~Santander~~\n",
    "28. ~~Sucre~~\n",
    "29. ~~Tolima~~\n",
    "30. Valle del Cauca\n",
    "31. *Vaupés*\n",
    "32. *Vichada*\n"
   ]
  },
  {
   "cell_type": "markdown",
   "id": "a05e4ed8",
   "metadata": {},
   "source": [
    "Testing code with El Colombiano"
   ]
  },
  {
   "cell_type": "code",
   "execution_count": 21,
   "id": "27d1ffc0",
   "metadata": {},
   "outputs": [],
   "source": [
    "#f = csv.writer(open('elcolombiano.csv', 'w'))\n",
    "f = open('elcolombiano.txt', 'w')\n",
    "#f.writerow(['URL'])\n",
    "\n",
    "base_url = \"https://www.elcolombiano.com\"\n",
    "i = 1\n",
    "while i != 7:\n",
    "    if i == 1:\n",
    "        page = requests.get(\n",
    "    'https://www.elcolombiano.com/cronologia/noticias/meta/jep')\n",
    "    else:\n",
    "        page = requests.get(\n",
    "    'https://www.elcolombiano.com/cronologia/noticias/meta/jep#.p:{i};')\n",
    "    \n",
    "    soup = BeautifulSoup(page.text, 'html.parser')\n",
    "    links = soup.findAll(class_='noticia-resultado')\n",
    "    i = i + 1\n",
    "    for link in links:\n",
    "        url_tail = link.find('a').get('href')\n",
    "        url = base_url + url_tail\n",
    "        #url = \"%s%s\"%(base_url, url_tail)\n",
    "        f.write(url)\n",
    "        f.write('\\n')\n",
    "        "
   ]
  },
  {
   "cell_type": "markdown",
   "id": "0b670718",
   "metadata": {},
   "source": [
    "Defining a generic function for getting the urls from a tag or search"
   ]
  },
  {
   "cell_type": "markdown",
   "id": "9c40fc53",
   "metadata": {},
   "source": [
    "grab_urls(first_url = '',\n",
    "          other_url = '',\n",
    "          base_url = '',\n",
    "          site_name = '',\n",
    "          max_pages = ,\n",
    "          paste_urls = True,\n",
    "          class_ = '')"
   ]
  },
  {
   "cell_type": "code",
   "execution_count": 9,
   "id": "6b0c21df",
   "metadata": {},
   "outputs": [],
   "source": [
    "def grab_urls(first_url, other_url, site_name, max_pages, paste_urls, class_, base_url = None):\n",
    "    file_name = site_name + \".txt\"\n",
    "    f = open(file_name, 'w')\n",
    "\n",
    "    \n",
    "    i = 1\n",
    "    while i != max_pages + 1:\n",
    "        if i == 1:\n",
    "            page = requests.get(first_url)\n",
    "        else:\n",
    "            page = requests.get(other_url)\n",
    "            print(other_url)\n",
    "            time.sleep(10)\n",
    "        soup = BeautifulSoup(page.text, 'html.parser')\n",
    "        links = soup.findAll(class_ = class_)\n",
    "        i = i + 1\n",
    "        if paste_urls == False:\n",
    "            for link in links:\n",
    "               # url = link.find('a').get('data-ctorig')\n",
    "                url = link.find('a').get('href')\n",
    "                f.write(url)\n",
    "                f.write('\\n')\n",
    "        elif paste_urls == True:\n",
    "            for link in links:\n",
    "                url_tail = link.find('a').get('href')\n",
    "                url = base_url + url_tail\n",
    "                f.write(url)\n",
    "                f.write('\\n')\n",
    "        else:\n",
    "            warnings.warn(\"paste_urls must be True or False\")"
   ]
  },
  {
   "cell_type": "code",
   "execution_count": 52,
   "id": "008adc09",
   "metadata": {},
   "outputs": [],
   "source": [
    "def grab_urls2(url_1, url_2, site_name, max_pages, class_, base_url = None, paste_urls = False):\n",
    "    file_name = site_name + \".txt\"\n",
    "    f = open(file_name, 'w')\n",
    "    headers = {\n",
    "    'User-Agent': 'Mozilla/5.0 (X11; Ubuntu; Linux x86_64; rv:60.0) Gecko/20100101 Firefox/60.0',\n",
    "    'X-Requested-With': 'XMLHttpRequest',\n",
    "    }\n",
    "    \n",
    "    i = 1\n",
    "    while i != max_pages + 1:\n",
    "        site_url = url_1 + str(i) + url_2\n",
    "        page = requests.get(site_url, headers = headers)\n",
    "        soup = BeautifulSoup(page.text, 'html.parser')\n",
    "        links = soup.findAll(class_ = class_)\n",
    "        i = i + 1\n",
    "        \n",
    "        if paste_urls == False:\n",
    "            for link in links:\n",
    "                url = link.find('a').get('href')\n",
    "                f.write(url)\n",
    "                f.write('\\n')\n",
    "        elif paste_urls == True:\n",
    "            for link in links:\n",
    "                url_tail = link.find('a').get('href')\n",
    "                url = base_url + url_tail\n",
    "                f.write(url)\n",
    "                f.write('\\n')\n",
    "        else:\n",
    "            warnings.warn(\"paste_urls must be True or False\")\n",
    "            \n",
    "        if i % 10 == 0:\n",
    "            print(str(i) + \" out of \" + str(max_pages))"
   ]
  },
  {
   "cell_type": "markdown",
   "id": "50a95a4c",
   "metadata": {},
   "source": [
    "# Amazonas\n",
    "None"
   ]
  },
  {
   "cell_type": "markdown",
   "id": "5857aee8",
   "metadata": {},
   "source": [
    "# Antioquía\n",
    "<span style=\"color:green\">El Colombiano (see above) </span>"
   ]
  },
  {
   "cell_type": "code",
   "execution_count": null,
   "id": "9b30b89e",
   "metadata": {},
   "outputs": [],
   "source": [
    "grab_urls(first_url = '',\n",
    "          other_url = '',\n",
    "          base_url = '',\n",
    "          site_name = '',\n",
    "          max_pages = ,\n",
    "          paste_urls = True,\n",
    "          class_ = '')"
   ]
  },
  {
   "cell_type": "markdown",
   "id": "041102a0",
   "metadata": {},
   "source": [
    "# Arauca\n",
    "None"
   ]
  },
  {
   "cell_type": "markdown",
   "id": "c3e712e2",
   "metadata": {},
   "source": [
    "<h1 style=\"color:red\">Atlántico</h1>\n",
    "<span style=\"color:red\">El Heraldo (Doesn't run)</span>"
   ]
  },
  {
   "cell_type": "code",
   "execution_count": 12,
   "id": "d1e43307",
   "metadata": {},
   "outputs": [
    {
     "ename": "AttributeError",
     "evalue": "'NoneType' object has no attribute 'get'",
     "output_type": "error",
     "traceback": [
      "\u001b[0;31m---------------------------------------------------------------------------\u001b[0m",
      "\u001b[0;31mAttributeError\u001b[0m                            Traceback (most recent call last)",
      "\u001b[0;32m/tmp/ipykernel_284716/1106166559.py\u001b[0m in \u001b[0;36m<module>\u001b[0;34m\u001b[0m\n\u001b[0;32m----> 1\u001b[0;31m grab_urls(first_url = 'https://www.elheraldo.co/farc-0?utm_source=ELHERALDO&utm_medium=articulo&utm_campaign=recirculacion&utm_term=temas-tratados',\n\u001b[0m\u001b[1;32m      2\u001b[0m           \u001b[0mother_url\u001b[0m \u001b[0;34m=\u001b[0m \u001b[0;34m'https://www.elheraldo.co/farc-0?utm_source=ELHERALDO&utm_medium=articulo&utm_campaign=recirculacion&utm_term=temas-tratados'\u001b[0m\u001b[0;34m,\u001b[0m\u001b[0;34m\u001b[0m\u001b[0;34m\u001b[0m\u001b[0m\n\u001b[1;32m      3\u001b[0m           \u001b[0msite_name\u001b[0m \u001b[0;34m=\u001b[0m \u001b[0;34m'el_heraldo'\u001b[0m\u001b[0;34m,\u001b[0m \u001b[0mmax_pages\u001b[0m \u001b[0;34m=\u001b[0m \u001b[0;36m2\u001b[0m\u001b[0;34m,\u001b[0m \u001b[0mpaste_urls\u001b[0m \u001b[0;34m=\u001b[0m \u001b[0;32mFalse\u001b[0m\u001b[0;34m,\u001b[0m\u001b[0;34m\u001b[0m\u001b[0;34m\u001b[0m\u001b[0m\n\u001b[1;32m      4\u001b[0m           class_ = \"icon icon-articulo 954261-widget\")\n",
      "\u001b[0;32m/tmp/ipykernel_284716/3184983997.py\u001b[0m in \u001b[0;36mgrab_urls\u001b[0;34m(first_url, other_url, site_name, max_pages, paste_urls, class_)\u001b[0m\n\u001b[1;32m     15\u001b[0m         \u001b[0;32mif\u001b[0m \u001b[0mpaste_urls\u001b[0m \u001b[0;34m==\u001b[0m \u001b[0;32mFalse\u001b[0m\u001b[0;34m:\u001b[0m\u001b[0;34m\u001b[0m\u001b[0;34m\u001b[0m\u001b[0m\n\u001b[1;32m     16\u001b[0m             \u001b[0;32mfor\u001b[0m \u001b[0mlink\u001b[0m \u001b[0;32min\u001b[0m \u001b[0mlinks\u001b[0m\u001b[0;34m:\u001b[0m\u001b[0;34m\u001b[0m\u001b[0;34m\u001b[0m\u001b[0m\n\u001b[0;32m---> 17\u001b[0;31m                 \u001b[0murl\u001b[0m \u001b[0;34m=\u001b[0m \u001b[0mlink\u001b[0m\u001b[0;34m.\u001b[0m\u001b[0mfind\u001b[0m\u001b[0;34m(\u001b[0m\u001b[0;34m'a'\u001b[0m\u001b[0;34m)\u001b[0m\u001b[0;34m.\u001b[0m\u001b[0mget\u001b[0m\u001b[0;34m(\u001b[0m\u001b[0;34m'href'\u001b[0m\u001b[0;34m)\u001b[0m\u001b[0;34m\u001b[0m\u001b[0;34m\u001b[0m\u001b[0m\n\u001b[0m\u001b[1;32m     18\u001b[0m                 \u001b[0mf\u001b[0m\u001b[0;34m.\u001b[0m\u001b[0mwrite\u001b[0m\u001b[0;34m(\u001b[0m\u001b[0murl\u001b[0m\u001b[0;34m)\u001b[0m\u001b[0;34m\u001b[0m\u001b[0;34m\u001b[0m\u001b[0m\n\u001b[1;32m     19\u001b[0m                 \u001b[0mf\u001b[0m\u001b[0;34m.\u001b[0m\u001b[0mwrite\u001b[0m\u001b[0;34m(\u001b[0m\u001b[0;34m'\\n'\u001b[0m\u001b[0;34m)\u001b[0m\u001b[0;34m\u001b[0m\u001b[0;34m\u001b[0m\u001b[0m\n",
      "\u001b[0;31mAttributeError\u001b[0m: 'NoneType' object has no attribute 'get'"
     ]
    }
   ],
   "source": [
    "grab_urls(first_url = 'https://www.elheraldo.co/farc-0?utm_source=ELHERALDO&utm_medium=articulo&utm_campaign=recirculacion&utm_term=temas-tratados',\n",
    "          other_url = 'https://www.elheraldo.co/farc-0?utm_source=ELHERALDO&utm_medium=articulo&utm_campaign=recirculacion&utm_term=temas-tratados',\n",
    "          site_name = 'el_heraldo', max_pages = 2, paste_urls = False,\n",
    "          class_ = \"icon icon-articulo 954261-widget\")"
   ]
  },
  {
   "cell_type": "markdown",
   "id": "56794e7b",
   "metadata": {},
   "source": [
    "# Bolívar\n",
    "<span style=\"color:green\">El Universal (grabs some but only a few (probably first page)</span>"
   ]
  },
  {
   "cell_type": "code",
   "execution_count": 54,
   "id": "af289145",
   "metadata": {},
   "outputs": [
    {
     "name": "stdout",
     "output_type": "stream",
     "text": [
      "10 out of 1876\n",
      "20 out of 1876\n",
      "30 out of 1876\n",
      "40 out of 1876\n",
      "50 out of 1876\n",
      "60 out of 1876\n",
      "70 out of 1876\n",
      "80 out of 1876\n",
      "90 out of 1876\n",
      "100 out of 1876\n",
      "110 out of 1876\n",
      "120 out of 1876\n",
      "130 out of 1876\n",
      "140 out of 1876\n",
      "150 out of 1876\n",
      "160 out of 1876\n",
      "170 out of 1876\n",
      "180 out of 1876\n",
      "190 out of 1876\n",
      "200 out of 1876\n",
      "210 out of 1876\n",
      "220 out of 1876\n",
      "230 out of 1876\n",
      "240 out of 1876\n",
      "250 out of 1876\n",
      "260 out of 1876\n",
      "270 out of 1876\n",
      "280 out of 1876\n",
      "290 out of 1876\n",
      "300 out of 1876\n",
      "310 out of 1876\n",
      "320 out of 1876\n",
      "330 out of 1876\n",
      "340 out of 1876\n",
      "350 out of 1876\n",
      "360 out of 1876\n",
      "370 out of 1876\n",
      "380 out of 1876\n",
      "390 out of 1876\n",
      "400 out of 1876\n",
      "410 out of 1876\n",
      "420 out of 1876\n",
      "430 out of 1876\n",
      "440 out of 1876\n",
      "450 out of 1876\n",
      "460 out of 1876\n",
      "470 out of 1876\n",
      "480 out of 1876\n",
      "490 out of 1876\n",
      "500 out of 1876\n",
      "510 out of 1876\n",
      "520 out of 1876\n",
      "530 out of 1876\n",
      "540 out of 1876\n",
      "550 out of 1876\n",
      "560 out of 1876\n",
      "570 out of 1876\n",
      "580 out of 1876\n",
      "590 out of 1876\n",
      "600 out of 1876\n",
      "610 out of 1876\n",
      "620 out of 1876\n",
      "630 out of 1876\n",
      "640 out of 1876\n",
      "650 out of 1876\n",
      "660 out of 1876\n",
      "670 out of 1876\n",
      "680 out of 1876\n",
      "690 out of 1876\n",
      "700 out of 1876\n",
      "710 out of 1876\n",
      "720 out of 1876\n",
      "730 out of 1876\n",
      "740 out of 1876\n",
      "750 out of 1876\n",
      "760 out of 1876\n",
      "770 out of 1876\n",
      "780 out of 1876\n",
      "790 out of 1876\n",
      "800 out of 1876\n",
      "810 out of 1876\n",
      "820 out of 1876\n",
      "830 out of 1876\n",
      "840 out of 1876\n",
      "850 out of 1876\n",
      "860 out of 1876\n",
      "870 out of 1876\n",
      "880 out of 1876\n",
      "890 out of 1876\n",
      "900 out of 1876\n",
      "910 out of 1876\n",
      "920 out of 1876\n",
      "930 out of 1876\n",
      "940 out of 1876\n",
      "950 out of 1876\n",
      "960 out of 1876\n",
      "970 out of 1876\n",
      "980 out of 1876\n",
      "990 out of 1876\n",
      "1000 out of 1876\n",
      "1010 out of 1876\n",
      "1020 out of 1876\n",
      "1030 out of 1876\n",
      "1040 out of 1876\n",
      "1050 out of 1876\n",
      "1060 out of 1876\n",
      "1070 out of 1876\n",
      "1080 out of 1876\n",
      "1090 out of 1876\n",
      "1100 out of 1876\n",
      "1110 out of 1876\n",
      "1120 out of 1876\n",
      "1130 out of 1876\n",
      "1140 out of 1876\n",
      "1150 out of 1876\n",
      "1160 out of 1876\n",
      "1170 out of 1876\n",
      "1180 out of 1876\n",
      "1190 out of 1876\n",
      "1200 out of 1876\n",
      "1210 out of 1876\n",
      "1220 out of 1876\n",
      "1230 out of 1876\n",
      "1240 out of 1876\n",
      "1250 out of 1876\n",
      "1260 out of 1876\n",
      "1270 out of 1876\n",
      "1280 out of 1876\n",
      "1290 out of 1876\n",
      "1300 out of 1876\n",
      "1310 out of 1876\n",
      "1320 out of 1876\n",
      "1330 out of 1876\n",
      "1340 out of 1876\n",
      "1350 out of 1876\n",
      "1360 out of 1876\n",
      "1370 out of 1876\n",
      "1380 out of 1876\n",
      "1390 out of 1876\n",
      "1400 out of 1876\n",
      "1410 out of 1876\n",
      "1420 out of 1876\n",
      "1430 out of 1876\n",
      "1440 out of 1876\n",
      "1450 out of 1876\n",
      "1460 out of 1876\n",
      "1470 out of 1876\n",
      "1480 out of 1876\n",
      "1490 out of 1876\n",
      "1500 out of 1876\n",
      "1510 out of 1876\n",
      "1520 out of 1876\n",
      "1530 out of 1876\n",
      "1540 out of 1876\n",
      "1550 out of 1876\n",
      "1560 out of 1876\n",
      "1570 out of 1876\n",
      "1580 out of 1876\n",
      "1590 out of 1876\n",
      "1600 out of 1876\n",
      "1610 out of 1876\n",
      "1620 out of 1876\n",
      "1630 out of 1876\n",
      "1640 out of 1876\n",
      "1650 out of 1876\n",
      "1660 out of 1876\n",
      "1670 out of 1876\n",
      "1680 out of 1876\n",
      "1690 out of 1876\n",
      "1700 out of 1876\n",
      "1710 out of 1876\n",
      "1720 out of 1876\n",
      "1730 out of 1876\n",
      "1740 out of 1876\n",
      "1750 out of 1876\n",
      "1760 out of 1876\n",
      "1770 out of 1876\n",
      "1780 out of 1876\n",
      "1790 out of 1876\n",
      "1800 out of 1876\n",
      "1810 out of 1876\n",
      "1820 out of 1876\n",
      "1830 out of 1876\n",
      "1840 out of 1876\n",
      "1850 out of 1876\n",
      "1860 out of 1876\n",
      "1870 out of 1876\n"
     ]
    }
   ],
   "source": [
    "grab_urls2(url_1 = \"https://www.eluniversal.com.co/busqueda/-/search/%22Las%20farc%22/false/false/19810109/20230109/date/true/true/0/0/meta/0/0/0/\",\n",
    "    url_2 = \"\",\n",
    "    site_name = 'el_universal',\n",
    "    max_pages = 1876,\n",
    "    class_ = 'info',\n",
    "    base_url = 'https://www.eluniversal.com.co',\n",
    "    paste_urls = True)"
   ]
  },
  {
   "cell_type": "markdown",
   "id": "2d19ca0b",
   "metadata": {},
   "source": [
    "# Boyaca\n",
    "<span style=\"color:green\">El Diario</span>"
   ]
  },
  {
   "cell_type": "code",
   "execution_count": 25,
   "id": "5122195b",
   "metadata": {},
   "outputs": [],
   "source": [
    "grab_urls(first_url = 'https://periodicoeldiario.com/?s=farc',\n",
    "          other_url = 'https://periodicoeldiario.com/page/{i}/?s=farc',\n",
    "          site_name = 'el_diario', max_pages = 12, paste_urls = False,\n",
    "          class_ = 'entry-title td-module-title')"
   ]
  },
  {
   "cell_type": "markdown",
   "id": "57550f4f",
   "metadata": {},
   "source": [
    "<h1 style=\"color:red\">Caldas</h1>\n",
    "<span style=\"color:red\">La Patria (Doesn't work)</span>"
   ]
  },
  {
   "cell_type": "code",
   "execution_count": 43,
   "id": "41c78027",
   "metadata": {},
   "outputs": [],
   "source": [
    "grab_urls(first_url = 'https://www.lapatria.com/buscar#gsc.tab=0&gsc.q=farc&gsc.sort=',\n",
    "          other_url = 'https://www.lapatria.com/buscar#gsc.tab=0&gsc.q=farc&gsc.sort=&gsc.page={i}',\n",
    "          site_name = 'la_patria', max_pages = 10, paste_urls = False,\n",
    "          class_ = 'gsc-thumbnail-inside')"
   ]
  },
  {
   "cell_type": "markdown",
   "id": "b564976b",
   "metadata": {},
   "source": [
    "# Caquetá\n",
    "None"
   ]
  },
  {
   "cell_type": "markdown",
   "id": "55830458",
   "metadata": {},
   "source": [
    "# Casanare\n",
    "None"
   ]
  },
  {
   "cell_type": "markdown",
   "id": "317640bb",
   "metadata": {},
   "source": [
    "<h1 style=\"color:red\">Cauca</h1>\n",
    "<span style=\"color:red\">El nuevo liberal</span>"
   ]
  },
  {
   "cell_type": "code",
   "execution_count": 14,
   "id": "77545fd9",
   "metadata": {},
   "outputs": [],
   "source": [
    "grab_urls(first_url = 'https://elnuevoliberal.com/?s=farc',\n",
    "          other_url = 'https://elnuevoliberal.com/page/{i}/?s=farc',\n",
    "          site_name = 'el_nuevo_liberal',\n",
    "          max_pages = 249,\n",
    "          paste_urls = False,\n",
    "          class_ = \"entry-*\")"
   ]
  },
  {
   "cell_type": "markdown",
   "id": "8b7a1917",
   "metadata": {},
   "source": [
    "# César\n",
    "\n",
    "<span style=\"color:green\">Diario del César</span>"
   ]
  },
  {
   "cell_type": "code",
   "execution_count": 34,
   "id": "cef8a2b7",
   "metadata": {},
   "outputs": [],
   "source": [
    "grab_urls2(url_1 = \"https://www.diariodelcesar.com/page/\",\n",
    "    url_2 = \"/?s=farc\",\n",
    "    site_name = 'diario_del_césar',\n",
    "    max_pages = 198,\n",
    "    class_ = 'title')"
   ]
  },
  {
   "cell_type": "markdown",
   "id": "6eab66bb",
   "metadata": {},
   "source": [
    "# Chocó\n",
    "\n",
    "Diario"
   ]
  },
  {
   "cell_type": "code",
   "execution_count": null,
   "id": "524f1ec7",
   "metadata": {},
   "outputs": [],
   "source": [
    "grab_urls(first_url = '',\n",
    "          other_url = '',\n",
    "          base_url = '',\n",
    "          site_name = '',\n",
    "          max_pages = ,\n",
    "          paste_urls = True,\n",
    "          class_ = '')"
   ]
  },
  {
   "cell_type": "markdown",
   "id": "93c0c212",
   "metadata": {},
   "source": [
    "# Córdoba\n",
    "\n",
    "Diario"
   ]
  },
  {
   "cell_type": "code",
   "execution_count": null,
   "id": "67afb98e",
   "metadata": {},
   "outputs": [],
   "source": [
    "grab_urls(first_url = '',\n",
    "          other_url = '',\n",
    "          base_url = '',\n",
    "          site_name = '',\n",
    "          max_pages = ,\n",
    "          paste_urls = True,\n",
    "          class_ = '')"
   ]
  },
  {
   "cell_type": "markdown",
   "id": "8bf8ac20",
   "metadata": {},
   "source": [
    "# Cundinamarca\n",
    "\n",
    "Diario"
   ]
  },
  {
   "cell_type": "code",
   "execution_count": null,
   "id": "c4e52305",
   "metadata": {},
   "outputs": [],
   "source": [
    "grab_urls(first_url = '',\n",
    "          other_url = '',\n",
    "          base_url = '',\n",
    "          site_name = '',\n",
    "          max_pages = ,\n",
    "          paste_urls = True,\n",
    "          class_ = '')"
   ]
  },
  {
   "cell_type": "markdown",
   "id": "48aba049",
   "metadata": {},
   "source": [
    "# Guainía\n",
    "\n",
    "Diario"
   ]
  },
  {
   "cell_type": "code",
   "execution_count": null,
   "id": "8755eb5c",
   "metadata": {},
   "outputs": [],
   "source": [
    "grab_urls(first_url = '',\n",
    "          other_url = '',\n",
    "          base_url = '',\n",
    "          site_name = '',\n",
    "          max_pages = ,\n",
    "          paste_urls = True,\n",
    "          class_ = '')"
   ]
  },
  {
   "cell_type": "markdown",
   "id": "c8c15c6c",
   "metadata": {},
   "source": [
    "# Guaviare\n",
    "\n",
    "Diario"
   ]
  },
  {
   "cell_type": "code",
   "execution_count": null,
   "id": "bce3b963",
   "metadata": {},
   "outputs": [],
   "source": [
    "grab_urls(first_url = '',\n",
    "          other_url = '',\n",
    "          base_url = '',\n",
    "          site_name = '',\n",
    "          max_pages = ,\n",
    "          paste_urls = True,\n",
    "          class_ = '')"
   ]
  },
  {
   "cell_type": "markdown",
   "id": "05d612e1",
   "metadata": {},
   "source": [
    "# Huila\n",
    "\n",
    "Diario"
   ]
  },
  {
   "cell_type": "code",
   "execution_count": null,
   "id": "7a4a52a3",
   "metadata": {},
   "outputs": [],
   "source": [
    "grab_urls(first_url = '',\n",
    "          other_url = '',\n",
    "          base_url = '',\n",
    "          site_name = '',\n",
    "          max_pages = ,\n",
    "          paste_urls = True,\n",
    "          class_ = '')"
   ]
  },
  {
   "cell_type": "markdown",
   "id": "e9af270d",
   "metadata": {},
   "source": [
    "# La Guajira\n",
    "\n",
    "Diario"
   ]
  },
  {
   "cell_type": "code",
   "execution_count": null,
   "id": "dd34192f",
   "metadata": {},
   "outputs": [],
   "source": [
    "grab_urls(first_url = '',\n",
    "          other_url = '',\n",
    "          base_url = '',\n",
    "          site_name = '',\n",
    "          max_pages = ,\n",
    "          paste_urls = True,\n",
    "          class_ = '')"
   ]
  },
  {
   "cell_type": "markdown",
   "id": "34bd97ee",
   "metadata": {},
   "source": [
    "# Magdalena\n",
    "\n",
    "Diario"
   ]
  },
  {
   "cell_type": "code",
   "execution_count": null,
   "id": "a9435645",
   "metadata": {},
   "outputs": [],
   "source": [
    "grab_urls(first_url = '',\n",
    "          other_url = '',\n",
    "          base_url = '',\n",
    "          site_name = '',\n",
    "          max_pages = ,\n",
    "          paste_urls = True,\n",
    "          class_ = '')"
   ]
  },
  {
   "cell_type": "markdown",
   "id": "03e35d0f",
   "metadata": {},
   "source": [
    "# Meta\n",
    "\n",
    "Diario"
   ]
  },
  {
   "cell_type": "code",
   "execution_count": null,
   "id": "c2423845",
   "metadata": {},
   "outputs": [],
   "source": [
    "grab_urls(first_url = '',\n",
    "          other_url = '',\n",
    "          base_url = '',\n",
    "          site_name = '',\n",
    "          max_pages = ,\n",
    "          paste_urls = True,\n",
    "          class_ = '')"
   ]
  },
  {
   "cell_type": "markdown",
   "id": "da140778",
   "metadata": {},
   "source": [
    "# Nariño\n",
    "\n",
    "Diario"
   ]
  },
  {
   "cell_type": "code",
   "execution_count": null,
   "id": "467be435",
   "metadata": {},
   "outputs": [],
   "source": [
    "grab_urls(first_url = '',\n",
    "          other_url = '',\n",
    "          base_url = '',\n",
    "          site_name = '',\n",
    "          max_pages = ,\n",
    "          paste_urls = True,\n",
    "          class_ = '')"
   ]
  },
  {
   "cell_type": "markdown",
   "id": "9a6cc4cf",
   "metadata": {},
   "source": [
    "# Norte de Santander\n",
    "<span style=\"color:green\">La Opinion</span>"
   ]
  },
  {
   "cell_type": "code",
   "execution_count": 4,
   "id": "9f59a444",
   "metadata": {},
   "outputs": [],
   "source": [
    "grab_urls(first_url = 'https://www.laopinion.com.co/search/node?keys=FARC',\n",
    "          other_url = 'https://www.laopinion.com.co/search/node?keys=FARC&_wrapper_format=html&page={i}',\n",
    "          site_name = 'la_opinion',\n",
    "          max_pages = 177,\n",
    "          paste_urls = False,\n",
    "          class_ = \"list-group-item\")"
   ]
  },
  {
   "cell_type": "markdown",
   "id": "05e6a8e0",
   "metadata": {},
   "source": [
    "# Putumayo\n",
    "\n",
    "Diario"
   ]
  },
  {
   "cell_type": "code",
   "execution_count": null,
   "id": "8944f556",
   "metadata": {},
   "outputs": [],
   "source": [
    "grab_urls(first_url = '',\n",
    "          other_url = '',\n",
    "          base_url = '',\n",
    "          site_name = '',\n",
    "          max_pages = ,\n",
    "          paste_urls = True,\n",
    "          class_ = '')"
   ]
  },
  {
   "cell_type": "markdown",
   "id": "e495c007",
   "metadata": {},
   "source": [
    "# Quindio\n",
    "<span style=\"color:green\">La Cronica del Quindio</span>"
   ]
  },
  {
   "cell_type": "code",
   "execution_count": 11,
   "id": "8c7bc243",
   "metadata": {},
   "outputs": [],
   "source": [
    "grab_urls(first_url = 'https://www.cronicadelquindio.com/tags/255936/farc',\n",
    "          other_url = 'https://www.cronicadelquindio.com/tags/255919/jep?page={i}',\n",
    "          site_name = 'la_crónica_del_quíndio', max_pages = 3, paste_urls = False,\n",
    "          class_ = \"article_item news_1\")"
   ]
  },
  {
   "cell_type": "markdown",
   "id": "293fb9a1",
   "metadata": {},
   "source": [
    "# Risaralda\n",
    "<span style=\"color:green\">El Expreso</span>"
   ]
  },
  {
   "cell_type": "code",
   "execution_count": 17,
   "id": "7e045164",
   "metadata": {},
   "outputs": [],
   "source": [
    "grab_urls(first_url = 'https://www.elexpreso.co/es/ibuscar/local/?q=farc',\n",
    "          other_url = 'https://www.elexpreso.co/es/ibuscar/local/{(i-1) * 15}/?q=farc',\n",
    "          site_name = 'el_expreso',\n",
    "          max_pages = 6,\n",
    "          paste_urls = False,\n",
    "          class_ = 'media-body')"
   ]
  },
  {
   "cell_type": "markdown",
   "id": "2661eda1",
   "metadata": {},
   "source": [
    "# San Andrés y Providencia\n",
    "<span style=\"color:green\">The Archipielago Press</span>"
   ]
  },
  {
   "cell_type": "code",
   "execution_count": 18,
   "id": "3204cf77",
   "metadata": {},
   "outputs": [],
   "source": [
    "grab_urls(first_url = 'https://thearchipielagopress.co/?s=farc',\n",
    "          other_url = 'https://thearchipielagopress.co/page/{i}/?s=farc',\n",
    "          site_name = 'the_archipielago_press',\n",
    "          max_pages = 23,\n",
    "          paste_urls = False,\n",
    "          class_ = 'jeg_post_title')"
   ]
  },
  {
   "cell_type": "markdown",
   "id": "f8277e67",
   "metadata": {},
   "source": [
    "# Santander\n",
    "<span style=\"color:green\">Vanguardia Liberal</span>"
   ]
  },
  {
   "cell_type": "code",
   "execution_count": 23,
   "id": "de42f012",
   "metadata": {},
   "outputs": [],
   "source": [
    "grab_urls(first_url = 'https://www.vanguardia.com/busquedas/-/search/farc/false/false/19810114/20230114/date/true/true/0/0/meta/0/0/0/1',\n",
    "          other_url = 'https://www.vanguardia.com/busquedas/-/search/farc/false/false/19810114/20230114/date/true/true/0/0/meta/0/0/0/{i}',\n",
    "          site_name = 'vanguardia_liberal',\n",
    "          base_url = 'https://www.vanguardia.com',\n",
    "          max_pages = 2643,\n",
    "          paste_urls = True,\n",
    "          class_ = 'noticias')"
   ]
  },
  {
   "cell_type": "markdown",
   "id": "230feb99",
   "metadata": {},
   "source": [
    "# Sucre\n",
    "\n",
    "<span style=\"color:green\">El Meridiano (grabs first page fine, but won't continue to others)</span>"
   ]
  },
  {
   "cell_type": "code",
   "execution_count": 44,
   "id": "0c0359fc",
   "metadata": {},
   "outputs": [
    {
     "name": "stdout",
     "output_type": "stream",
     "text": [
      "10 out of 13\n"
     ]
    }
   ],
   "source": [
    "grab_urls2(url_1 = \"https://elmeridiano.co/page/\",\n",
    "    url_2 = \"/?s=farc\",\n",
    "    site_name = 'el_meridiano',\n",
    "    max_pages = 13,\n",
    "    class_ = 'post_img')"
   ]
  },
  {
   "cell_type": "markdown",
   "id": "a9a28e4a",
   "metadata": {},
   "source": [
    "# Tolima\n",
    "<span style=\"color:green\">El Nuevo Día</span>"
   ]
  },
  {
   "cell_type": "code",
   "execution_count": 5,
   "id": "f89ad045",
   "metadata": {},
   "outputs": [],
   "source": [
    "grab_urls(first_url = 'https://www.elnuevodia.com.co/nuevodia/search/node?keys=Farc',\n",
    "          other_url = 'https://www.elnuevodia.com.co/nuevodia/search/node?keys=Farc&page={i-1}',\n",
    "          site_name = 'el_nuevo_dia',\n",
    "          max_pages = 1094,\n",
    "          paste_urls = False,\n",
    "          class_ = 'search-result__title')"
   ]
  },
  {
   "cell_type": "markdown",
   "id": "07e2cc55",
   "metadata": {},
   "source": [
    "# Valle del Cauca\n",
    "<span style=\"color:orange\">El País (grabs first page fine, but won't continue to others)</span>"
   ]
  },
  {
   "cell_type": "code",
   "execution_count": 53,
   "id": "f29d37a9",
   "metadata": {},
   "outputs": [
    {
     "name": "stdout",
     "output_type": "stream",
     "text": [
      "10 out of 2429\n",
      "20 out of 2429\n",
      "30 out of 2429\n",
      "40 out of 2429\n",
      "50 out of 2429\n",
      "60 out of 2429\n",
      "70 out of 2429\n",
      "80 out of 2429\n",
      "90 out of 2429\n",
      "100 out of 2429\n",
      "110 out of 2429\n",
      "120 out of 2429\n",
      "130 out of 2429\n",
      "140 out of 2429\n",
      "150 out of 2429\n",
      "160 out of 2429\n",
      "170 out of 2429\n",
      "180 out of 2429\n",
      "190 out of 2429\n",
      "200 out of 2429\n",
      "210 out of 2429\n",
      "220 out of 2429\n",
      "230 out of 2429\n",
      "240 out of 2429\n",
      "250 out of 2429\n",
      "260 out of 2429\n",
      "270 out of 2429\n",
      "280 out of 2429\n",
      "290 out of 2429\n",
      "300 out of 2429\n",
      "310 out of 2429\n",
      "320 out of 2429\n",
      "330 out of 2429\n",
      "340 out of 2429\n",
      "350 out of 2429\n",
      "360 out of 2429\n",
      "370 out of 2429\n",
      "380 out of 2429\n",
      "390 out of 2429\n",
      "400 out of 2429\n",
      "410 out of 2429\n",
      "420 out of 2429\n",
      "430 out of 2429\n",
      "440 out of 2429\n",
      "450 out of 2429\n",
      "460 out of 2429\n",
      "470 out of 2429\n",
      "480 out of 2429\n",
      "490 out of 2429\n",
      "500 out of 2429\n",
      "510 out of 2429\n",
      "520 out of 2429\n",
      "530 out of 2429\n",
      "540 out of 2429\n",
      "550 out of 2429\n",
      "560 out of 2429\n",
      "570 out of 2429\n",
      "580 out of 2429\n",
      "590 out of 2429\n",
      "600 out of 2429\n",
      "610 out of 2429\n",
      "620 out of 2429\n",
      "630 out of 2429\n",
      "640 out of 2429\n",
      "650 out of 2429\n",
      "660 out of 2429\n",
      "670 out of 2429\n",
      "680 out of 2429\n",
      "690 out of 2429\n",
      "700 out of 2429\n",
      "710 out of 2429\n",
      "720 out of 2429\n",
      "730 out of 2429\n",
      "740 out of 2429\n",
      "750 out of 2429\n",
      "760 out of 2429\n",
      "770 out of 2429\n",
      "780 out of 2429\n",
      "790 out of 2429\n",
      "800 out of 2429\n",
      "810 out of 2429\n",
      "820 out of 2429\n",
      "830 out of 2429\n",
      "840 out of 2429\n",
      "850 out of 2429\n",
      "860 out of 2429\n",
      "870 out of 2429\n",
      "880 out of 2429\n",
      "890 out of 2429\n",
      "900 out of 2429\n",
      "910 out of 2429\n",
      "920 out of 2429\n",
      "930 out of 2429\n",
      "940 out of 2429\n",
      "950 out of 2429\n",
      "960 out of 2429\n",
      "970 out of 2429\n",
      "980 out of 2429\n",
      "990 out of 2429\n",
      "1000 out of 2429\n",
      "1010 out of 2429\n",
      "1020 out of 2429\n",
      "1030 out of 2429\n",
      "1040 out of 2429\n",
      "1050 out of 2429\n",
      "1060 out of 2429\n",
      "1070 out of 2429\n",
      "1080 out of 2429\n",
      "1090 out of 2429\n",
      "1100 out of 2429\n",
      "1110 out of 2429\n",
      "1120 out of 2429\n",
      "1130 out of 2429\n",
      "1140 out of 2429\n",
      "1150 out of 2429\n",
      "1160 out of 2429\n",
      "1170 out of 2429\n",
      "1180 out of 2429\n",
      "1190 out of 2429\n",
      "1200 out of 2429\n",
      "1210 out of 2429\n",
      "1220 out of 2429\n",
      "1230 out of 2429\n",
      "1240 out of 2429\n"
     ]
    },
    {
     "ename": "ChunkedEncodingError",
     "evalue": "('Connection broken: IncompleteRead(5732 bytes read, 4508 more expected)', IncompleteRead(5732 bytes read, 4508 more expected))",
     "output_type": "error",
     "traceback": [
      "\u001b[0;31m---------------------------------------------------------------------------\u001b[0m",
      "\u001b[0;31mIncompleteRead\u001b[0m                            Traceback (most recent call last)",
      "\u001b[0;32m/usr/lib/python3/dist-packages/urllib3/response.py\u001b[0m in \u001b[0;36m_error_catcher\u001b[0;34m(self)\u001b[0m\n\u001b[1;32m    437\u001b[0m             \u001b[0;32mtry\u001b[0m\u001b[0;34m:\u001b[0m\u001b[0;34m\u001b[0m\u001b[0;34m\u001b[0m\u001b[0m\n\u001b[0;32m--> 438\u001b[0;31m                 \u001b[0;32myield\u001b[0m\u001b[0;34m\u001b[0m\u001b[0;34m\u001b[0m\u001b[0m\n\u001b[0m\u001b[1;32m    439\u001b[0m \u001b[0;34m\u001b[0m\u001b[0m\n",
      "\u001b[0;32m/usr/lib/python3/dist-packages/urllib3/response.py\u001b[0m in \u001b[0;36mread_chunked\u001b[0;34m(self, amt, decode_content)\u001b[0m\n\u001b[1;32m    766\u001b[0m                     \u001b[0;32mbreak\u001b[0m\u001b[0;34m\u001b[0m\u001b[0;34m\u001b[0m\u001b[0m\n\u001b[0;32m--> 767\u001b[0;31m                 \u001b[0mchunk\u001b[0m \u001b[0;34m=\u001b[0m \u001b[0mself\u001b[0m\u001b[0;34m.\u001b[0m\u001b[0m_handle_chunk\u001b[0m\u001b[0;34m(\u001b[0m\u001b[0mamt\u001b[0m\u001b[0;34m)\u001b[0m\u001b[0;34m\u001b[0m\u001b[0;34m\u001b[0m\u001b[0m\n\u001b[0m\u001b[1;32m    768\u001b[0m                 decoded = self._decode(\n",
      "\u001b[0;32m/usr/lib/python3/dist-packages/urllib3/response.py\u001b[0m in \u001b[0;36m_handle_chunk\u001b[0;34m(self, amt)\u001b[0m\n\u001b[1;32m    710\u001b[0m         \u001b[0;32melif\u001b[0m \u001b[0mamt\u001b[0m \u001b[0;34m<\u001b[0m \u001b[0mself\u001b[0m\u001b[0;34m.\u001b[0m\u001b[0mchunk_left\u001b[0m\u001b[0;34m:\u001b[0m\u001b[0;34m\u001b[0m\u001b[0;34m\u001b[0m\u001b[0m\n\u001b[0;32m--> 711\u001b[0;31m             \u001b[0mvalue\u001b[0m \u001b[0;34m=\u001b[0m \u001b[0mself\u001b[0m\u001b[0;34m.\u001b[0m\u001b[0m_fp\u001b[0m\u001b[0;34m.\u001b[0m\u001b[0m_safe_read\u001b[0m\u001b[0;34m(\u001b[0m\u001b[0mamt\u001b[0m\u001b[0;34m)\u001b[0m\u001b[0;34m\u001b[0m\u001b[0;34m\u001b[0m\u001b[0m\n\u001b[0m\u001b[1;32m    712\u001b[0m             \u001b[0mself\u001b[0m\u001b[0;34m.\u001b[0m\u001b[0mchunk_left\u001b[0m \u001b[0;34m=\u001b[0m \u001b[0mself\u001b[0m\u001b[0;34m.\u001b[0m\u001b[0mchunk_left\u001b[0m \u001b[0;34m-\u001b[0m \u001b[0mamt\u001b[0m\u001b[0;34m\u001b[0m\u001b[0;34m\u001b[0m\u001b[0m\n",
      "\u001b[0;32m/usr/lib/python3.10/http/client.py\u001b[0m in \u001b[0;36m_safe_read\u001b[0;34m(self, amt)\u001b[0m\n\u001b[1;32m    631\u001b[0m         \u001b[0;32mif\u001b[0m \u001b[0mlen\u001b[0m\u001b[0;34m(\u001b[0m\u001b[0mdata\u001b[0m\u001b[0;34m)\u001b[0m \u001b[0;34m<\u001b[0m \u001b[0mamt\u001b[0m\u001b[0;34m:\u001b[0m\u001b[0;34m\u001b[0m\u001b[0;34m\u001b[0m\u001b[0m\n\u001b[0;32m--> 632\u001b[0;31m             \u001b[0;32mraise\u001b[0m \u001b[0mIncompleteRead\u001b[0m\u001b[0;34m(\u001b[0m\u001b[0mdata\u001b[0m\u001b[0;34m,\u001b[0m \u001b[0mamt\u001b[0m\u001b[0;34m-\u001b[0m\u001b[0mlen\u001b[0m\u001b[0;34m(\u001b[0m\u001b[0mdata\u001b[0m\u001b[0;34m)\u001b[0m\u001b[0;34m)\u001b[0m\u001b[0;34m\u001b[0m\u001b[0;34m\u001b[0m\u001b[0m\n\u001b[0m\u001b[1;32m    633\u001b[0m         \u001b[0;32mreturn\u001b[0m \u001b[0mdata\u001b[0m\u001b[0;34m\u001b[0m\u001b[0;34m\u001b[0m\u001b[0m\n",
      "\u001b[0;31mIncompleteRead\u001b[0m: IncompleteRead(5732 bytes read, 4508 more expected)",
      "\nDuring handling of the above exception, another exception occurred:\n",
      "\u001b[0;31mProtocolError\u001b[0m                             Traceback (most recent call last)",
      "\u001b[0;32m/usr/lib/python3/dist-packages/requests/models.py\u001b[0m in \u001b[0;36mgenerate\u001b[0;34m()\u001b[0m\n\u001b[1;32m    752\u001b[0m                 \u001b[0;32mtry\u001b[0m\u001b[0;34m:\u001b[0m\u001b[0;34m\u001b[0m\u001b[0;34m\u001b[0m\u001b[0m\n\u001b[0;32m--> 753\u001b[0;31m                     \u001b[0;32mfor\u001b[0m \u001b[0mchunk\u001b[0m \u001b[0;32min\u001b[0m \u001b[0mself\u001b[0m\u001b[0;34m.\u001b[0m\u001b[0mraw\u001b[0m\u001b[0;34m.\u001b[0m\u001b[0mstream\u001b[0m\u001b[0;34m(\u001b[0m\u001b[0mchunk_size\u001b[0m\u001b[0;34m,\u001b[0m \u001b[0mdecode_content\u001b[0m\u001b[0;34m=\u001b[0m\u001b[0;32mTrue\u001b[0m\u001b[0;34m)\u001b[0m\u001b[0;34m:\u001b[0m\u001b[0;34m\u001b[0m\u001b[0;34m\u001b[0m\u001b[0m\n\u001b[0m\u001b[1;32m    754\u001b[0m                         \u001b[0;32myield\u001b[0m \u001b[0mchunk\u001b[0m\u001b[0;34m\u001b[0m\u001b[0;34m\u001b[0m\u001b[0m\n",
      "\u001b[0;32m/usr/lib/python3/dist-packages/urllib3/response.py\u001b[0m in \u001b[0;36mstream\u001b[0;34m(self, amt, decode_content)\u001b[0m\n\u001b[1;32m    571\u001b[0m         \u001b[0;32mif\u001b[0m \u001b[0mself\u001b[0m\u001b[0;34m.\u001b[0m\u001b[0mchunked\u001b[0m \u001b[0;32mand\u001b[0m \u001b[0mself\u001b[0m\u001b[0;34m.\u001b[0m\u001b[0msupports_chunked_reads\u001b[0m\u001b[0;34m(\u001b[0m\u001b[0;34m)\u001b[0m\u001b[0;34m:\u001b[0m\u001b[0;34m\u001b[0m\u001b[0;34m\u001b[0m\u001b[0m\n\u001b[0;32m--> 572\u001b[0;31m             \u001b[0;32mfor\u001b[0m \u001b[0mline\u001b[0m \u001b[0;32min\u001b[0m \u001b[0mself\u001b[0m\u001b[0;34m.\u001b[0m\u001b[0mread_chunked\u001b[0m\u001b[0;34m(\u001b[0m\u001b[0mamt\u001b[0m\u001b[0;34m,\u001b[0m \u001b[0mdecode_content\u001b[0m\u001b[0;34m=\u001b[0m\u001b[0mdecode_content\u001b[0m\u001b[0;34m)\u001b[0m\u001b[0;34m:\u001b[0m\u001b[0;34m\u001b[0m\u001b[0;34m\u001b[0m\u001b[0m\n\u001b[0m\u001b[1;32m    573\u001b[0m                 \u001b[0;32myield\u001b[0m \u001b[0mline\u001b[0m\u001b[0;34m\u001b[0m\u001b[0;34m\u001b[0m\u001b[0m\n",
      "\u001b[0;32m/usr/lib/python3/dist-packages/urllib3/response.py\u001b[0m in \u001b[0;36mread_chunked\u001b[0;34m(self, amt, decode_content)\u001b[0m\n\u001b[1;32m    751\u001b[0m \u001b[0;34m\u001b[0m\u001b[0m\n\u001b[0;32m--> 752\u001b[0;31m         \u001b[0;32mwith\u001b[0m \u001b[0mself\u001b[0m\u001b[0;34m.\u001b[0m\u001b[0m_error_catcher\u001b[0m\u001b[0;34m(\u001b[0m\u001b[0;34m)\u001b[0m\u001b[0;34m:\u001b[0m\u001b[0;34m\u001b[0m\u001b[0;34m\u001b[0m\u001b[0m\n\u001b[0m\u001b[1;32m    753\u001b[0m             \u001b[0;31m# Don't bother reading the body of a HEAD request.\u001b[0m\u001b[0;34m\u001b[0m\u001b[0;34m\u001b[0m\u001b[0m\n",
      "\u001b[0;32m/usr/lib/python3.10/contextlib.py\u001b[0m in \u001b[0;36m__exit__\u001b[0;34m(self, typ, value, traceback)\u001b[0m\n\u001b[1;32m    152\u001b[0m             \u001b[0;32mtry\u001b[0m\u001b[0;34m:\u001b[0m\u001b[0;34m\u001b[0m\u001b[0;34m\u001b[0m\u001b[0m\n\u001b[0;32m--> 153\u001b[0;31m                 \u001b[0mself\u001b[0m\u001b[0;34m.\u001b[0m\u001b[0mgen\u001b[0m\u001b[0;34m.\u001b[0m\u001b[0mthrow\u001b[0m\u001b[0;34m(\u001b[0m\u001b[0mtyp\u001b[0m\u001b[0;34m,\u001b[0m \u001b[0mvalue\u001b[0m\u001b[0;34m,\u001b[0m \u001b[0mtraceback\u001b[0m\u001b[0;34m)\u001b[0m\u001b[0;34m\u001b[0m\u001b[0;34m\u001b[0m\u001b[0m\n\u001b[0m\u001b[1;32m    154\u001b[0m             \u001b[0;32mexcept\u001b[0m \u001b[0mStopIteration\u001b[0m \u001b[0;32mas\u001b[0m \u001b[0mexc\u001b[0m\u001b[0;34m:\u001b[0m\u001b[0;34m\u001b[0m\u001b[0;34m\u001b[0m\u001b[0m\n",
      "\u001b[0;32m/usr/lib/python3/dist-packages/urllib3/response.py\u001b[0m in \u001b[0;36m_error_catcher\u001b[0;34m(self)\u001b[0m\n\u001b[1;32m    454\u001b[0m                 \u001b[0;31m# This includes IncompleteRead.\u001b[0m\u001b[0;34m\u001b[0m\u001b[0;34m\u001b[0m\u001b[0m\n\u001b[0;32m--> 455\u001b[0;31m                 \u001b[0;32mraise\u001b[0m \u001b[0mProtocolError\u001b[0m\u001b[0;34m(\u001b[0m\u001b[0;34m\"Connection broken: %r\"\u001b[0m \u001b[0;34m%\u001b[0m \u001b[0me\u001b[0m\u001b[0;34m,\u001b[0m \u001b[0me\u001b[0m\u001b[0;34m)\u001b[0m\u001b[0;34m\u001b[0m\u001b[0;34m\u001b[0m\u001b[0m\n\u001b[0m\u001b[1;32m    456\u001b[0m \u001b[0;34m\u001b[0m\u001b[0m\n",
      "\u001b[0;31mProtocolError\u001b[0m: ('Connection broken: IncompleteRead(5732 bytes read, 4508 more expected)', IncompleteRead(5732 bytes read, 4508 more expected))",
      "\nDuring handling of the above exception, another exception occurred:\n",
      "\u001b[0;31mChunkedEncodingError\u001b[0m                      Traceback (most recent call last)",
      "\u001b[0;32m/tmp/ipykernel_5476/1660981308.py\u001b[0m in \u001b[0;36m<module>\u001b[0;34m\u001b[0m\n\u001b[0;32m----> 1\u001b[0;31m grab_urls2(url_1 = \"https://www.elpais.com.co/search/listing/0/\",\n\u001b[0m\u001b[1;32m      2\u001b[0m     \u001b[0murl_2\u001b[0m \u001b[0;34m=\u001b[0m \u001b[0;34m\"/farc\"\u001b[0m\u001b[0;34m,\u001b[0m\u001b[0;34m\u001b[0m\u001b[0;34m\u001b[0m\u001b[0m\n\u001b[1;32m      3\u001b[0m     \u001b[0msite_name\u001b[0m \u001b[0;34m=\u001b[0m \u001b[0;34m'el_país'\u001b[0m\u001b[0;34m,\u001b[0m\u001b[0;34m\u001b[0m\u001b[0;34m\u001b[0m\u001b[0m\n\u001b[1;32m      4\u001b[0m     \u001b[0mmax_pages\u001b[0m \u001b[0;34m=\u001b[0m \u001b[0;36m2429\u001b[0m\u001b[0;34m,\u001b[0m\u001b[0;34m\u001b[0m\u001b[0;34m\u001b[0m\u001b[0m\n\u001b[1;32m      5\u001b[0m     \u001b[0mclass_\u001b[0m \u001b[0;34m=\u001b[0m \u001b[0;34m'listing-title'\u001b[0m\u001b[0;34m,\u001b[0m\u001b[0;34m\u001b[0m\u001b[0;34m\u001b[0m\u001b[0m\n",
      "\u001b[0;32m/tmp/ipykernel_5476/730213187.py\u001b[0m in \u001b[0;36mgrab_urls2\u001b[0;34m(url_1, url_2, site_name, max_pages, class_, base_url, paste_urls)\u001b[0m\n\u001b[1;32m     10\u001b[0m     \u001b[0;32mwhile\u001b[0m \u001b[0mi\u001b[0m \u001b[0;34m!=\u001b[0m \u001b[0mmax_pages\u001b[0m \u001b[0;34m+\u001b[0m \u001b[0;36m1\u001b[0m\u001b[0;34m:\u001b[0m\u001b[0;34m\u001b[0m\u001b[0;34m\u001b[0m\u001b[0m\n\u001b[1;32m     11\u001b[0m         \u001b[0msite_url\u001b[0m \u001b[0;34m=\u001b[0m \u001b[0murl_1\u001b[0m \u001b[0;34m+\u001b[0m \u001b[0mstr\u001b[0m\u001b[0;34m(\u001b[0m\u001b[0mi\u001b[0m\u001b[0;34m)\u001b[0m \u001b[0;34m+\u001b[0m \u001b[0murl_2\u001b[0m\u001b[0;34m\u001b[0m\u001b[0;34m\u001b[0m\u001b[0m\n\u001b[0;32m---> 12\u001b[0;31m         \u001b[0mpage\u001b[0m \u001b[0;34m=\u001b[0m \u001b[0mrequests\u001b[0m\u001b[0;34m.\u001b[0m\u001b[0mget\u001b[0m\u001b[0;34m(\u001b[0m\u001b[0msite_url\u001b[0m\u001b[0;34m,\u001b[0m \u001b[0mheaders\u001b[0m \u001b[0;34m=\u001b[0m \u001b[0mheaders\u001b[0m\u001b[0;34m)\u001b[0m\u001b[0;34m\u001b[0m\u001b[0;34m\u001b[0m\u001b[0m\n\u001b[0m\u001b[1;32m     13\u001b[0m         \u001b[0msoup\u001b[0m \u001b[0;34m=\u001b[0m \u001b[0mBeautifulSoup\u001b[0m\u001b[0;34m(\u001b[0m\u001b[0mpage\u001b[0m\u001b[0;34m.\u001b[0m\u001b[0mtext\u001b[0m\u001b[0;34m,\u001b[0m \u001b[0;34m'html.parser'\u001b[0m\u001b[0;34m)\u001b[0m\u001b[0;34m\u001b[0m\u001b[0;34m\u001b[0m\u001b[0m\n\u001b[1;32m     14\u001b[0m         \u001b[0mlinks\u001b[0m \u001b[0;34m=\u001b[0m \u001b[0msoup\u001b[0m\u001b[0;34m.\u001b[0m\u001b[0mfindAll\u001b[0m\u001b[0;34m(\u001b[0m\u001b[0mclass_\u001b[0m \u001b[0;34m=\u001b[0m \u001b[0mclass_\u001b[0m\u001b[0;34m)\u001b[0m\u001b[0;34m\u001b[0m\u001b[0;34m\u001b[0m\u001b[0m\n",
      "\u001b[0;32m/usr/lib/python3/dist-packages/requests/api.py\u001b[0m in \u001b[0;36mget\u001b[0;34m(url, params, **kwargs)\u001b[0m\n\u001b[1;32m     74\u001b[0m \u001b[0;34m\u001b[0m\u001b[0m\n\u001b[1;32m     75\u001b[0m     \u001b[0mkwargs\u001b[0m\u001b[0;34m.\u001b[0m\u001b[0msetdefault\u001b[0m\u001b[0;34m(\u001b[0m\u001b[0;34m'allow_redirects'\u001b[0m\u001b[0;34m,\u001b[0m \u001b[0;32mTrue\u001b[0m\u001b[0;34m)\u001b[0m\u001b[0;34m\u001b[0m\u001b[0;34m\u001b[0m\u001b[0m\n\u001b[0;32m---> 76\u001b[0;31m     \u001b[0;32mreturn\u001b[0m \u001b[0mrequest\u001b[0m\u001b[0;34m(\u001b[0m\u001b[0;34m'get'\u001b[0m\u001b[0;34m,\u001b[0m \u001b[0murl\u001b[0m\u001b[0;34m,\u001b[0m \u001b[0mparams\u001b[0m\u001b[0;34m=\u001b[0m\u001b[0mparams\u001b[0m\u001b[0;34m,\u001b[0m \u001b[0;34m**\u001b[0m\u001b[0mkwargs\u001b[0m\u001b[0;34m)\u001b[0m\u001b[0;34m\u001b[0m\u001b[0;34m\u001b[0m\u001b[0m\n\u001b[0m\u001b[1;32m     77\u001b[0m \u001b[0;34m\u001b[0m\u001b[0m\n\u001b[1;32m     78\u001b[0m \u001b[0;34m\u001b[0m\u001b[0m\n",
      "\u001b[0;32m/usr/lib/python3/dist-packages/requests/api.py\u001b[0m in \u001b[0;36mrequest\u001b[0;34m(method, url, **kwargs)\u001b[0m\n\u001b[1;32m     59\u001b[0m     \u001b[0;31m# cases, and look like a memory leak in others.\u001b[0m\u001b[0;34m\u001b[0m\u001b[0;34m\u001b[0m\u001b[0m\n\u001b[1;32m     60\u001b[0m     \u001b[0;32mwith\u001b[0m \u001b[0msessions\u001b[0m\u001b[0;34m.\u001b[0m\u001b[0mSession\u001b[0m\u001b[0;34m(\u001b[0m\u001b[0;34m)\u001b[0m \u001b[0;32mas\u001b[0m \u001b[0msession\u001b[0m\u001b[0;34m:\u001b[0m\u001b[0;34m\u001b[0m\u001b[0;34m\u001b[0m\u001b[0m\n\u001b[0;32m---> 61\u001b[0;31m         \u001b[0;32mreturn\u001b[0m \u001b[0msession\u001b[0m\u001b[0;34m.\u001b[0m\u001b[0mrequest\u001b[0m\u001b[0;34m(\u001b[0m\u001b[0mmethod\u001b[0m\u001b[0;34m=\u001b[0m\u001b[0mmethod\u001b[0m\u001b[0;34m,\u001b[0m \u001b[0murl\u001b[0m\u001b[0;34m=\u001b[0m\u001b[0murl\u001b[0m\u001b[0;34m,\u001b[0m \u001b[0;34m**\u001b[0m\u001b[0mkwargs\u001b[0m\u001b[0;34m)\u001b[0m\u001b[0;34m\u001b[0m\u001b[0;34m\u001b[0m\u001b[0m\n\u001b[0m\u001b[1;32m     62\u001b[0m \u001b[0;34m\u001b[0m\u001b[0m\n\u001b[1;32m     63\u001b[0m \u001b[0;34m\u001b[0m\u001b[0m\n",
      "\u001b[0;32m/usr/lib/python3/dist-packages/requests/sessions.py\u001b[0m in \u001b[0;36mrequest\u001b[0;34m(self, method, url, params, data, headers, cookies, files, auth, timeout, allow_redirects, proxies, hooks, stream, verify, cert, json)\u001b[0m\n\u001b[1;32m    540\u001b[0m         }\n\u001b[1;32m    541\u001b[0m         \u001b[0msend_kwargs\u001b[0m\u001b[0;34m.\u001b[0m\u001b[0mupdate\u001b[0m\u001b[0;34m(\u001b[0m\u001b[0msettings\u001b[0m\u001b[0;34m)\u001b[0m\u001b[0;34m\u001b[0m\u001b[0;34m\u001b[0m\u001b[0m\n\u001b[0;32m--> 542\u001b[0;31m         \u001b[0mresp\u001b[0m \u001b[0;34m=\u001b[0m \u001b[0mself\u001b[0m\u001b[0;34m.\u001b[0m\u001b[0msend\u001b[0m\u001b[0;34m(\u001b[0m\u001b[0mprep\u001b[0m\u001b[0;34m,\u001b[0m \u001b[0;34m**\u001b[0m\u001b[0msend_kwargs\u001b[0m\u001b[0;34m)\u001b[0m\u001b[0;34m\u001b[0m\u001b[0;34m\u001b[0m\u001b[0m\n\u001b[0m\u001b[1;32m    543\u001b[0m \u001b[0;34m\u001b[0m\u001b[0m\n\u001b[1;32m    544\u001b[0m         \u001b[0;32mreturn\u001b[0m \u001b[0mresp\u001b[0m\u001b[0;34m\u001b[0m\u001b[0;34m\u001b[0m\u001b[0m\n",
      "\u001b[0;32m/usr/lib/python3/dist-packages/requests/sessions.py\u001b[0m in \u001b[0;36msend\u001b[0;34m(self, request, **kwargs)\u001b[0m\n\u001b[1;32m    695\u001b[0m \u001b[0;34m\u001b[0m\u001b[0m\n\u001b[1;32m    696\u001b[0m         \u001b[0;32mif\u001b[0m \u001b[0;32mnot\u001b[0m \u001b[0mstream\u001b[0m\u001b[0;34m:\u001b[0m\u001b[0;34m\u001b[0m\u001b[0;34m\u001b[0m\u001b[0m\n\u001b[0;32m--> 697\u001b[0;31m             \u001b[0mr\u001b[0m\u001b[0;34m.\u001b[0m\u001b[0mcontent\u001b[0m\u001b[0;34m\u001b[0m\u001b[0;34m\u001b[0m\u001b[0m\n\u001b[0m\u001b[1;32m    698\u001b[0m \u001b[0;34m\u001b[0m\u001b[0m\n\u001b[1;32m    699\u001b[0m         \u001b[0;32mreturn\u001b[0m \u001b[0mr\u001b[0m\u001b[0;34m\u001b[0m\u001b[0;34m\u001b[0m\u001b[0m\n",
      "\u001b[0;32m/usr/lib/python3/dist-packages/requests/models.py\u001b[0m in \u001b[0;36mcontent\u001b[0;34m(self)\u001b[0m\n\u001b[1;32m    829\u001b[0m                 \u001b[0mself\u001b[0m\u001b[0;34m.\u001b[0m\u001b[0m_content\u001b[0m \u001b[0;34m=\u001b[0m \u001b[0;32mNone\u001b[0m\u001b[0;34m\u001b[0m\u001b[0;34m\u001b[0m\u001b[0m\n\u001b[1;32m    830\u001b[0m             \u001b[0;32melse\u001b[0m\u001b[0;34m:\u001b[0m\u001b[0;34m\u001b[0m\u001b[0;34m\u001b[0m\u001b[0m\n\u001b[0;32m--> 831\u001b[0;31m                 \u001b[0mself\u001b[0m\u001b[0;34m.\u001b[0m\u001b[0m_content\u001b[0m \u001b[0;34m=\u001b[0m \u001b[0;34mb''\u001b[0m\u001b[0;34m.\u001b[0m\u001b[0mjoin\u001b[0m\u001b[0;34m(\u001b[0m\u001b[0mself\u001b[0m\u001b[0;34m.\u001b[0m\u001b[0miter_content\u001b[0m\u001b[0;34m(\u001b[0m\u001b[0mCONTENT_CHUNK_SIZE\u001b[0m\u001b[0;34m)\u001b[0m\u001b[0;34m)\u001b[0m \u001b[0;32mor\u001b[0m \u001b[0;34mb''\u001b[0m\u001b[0;34m\u001b[0m\u001b[0;34m\u001b[0m\u001b[0m\n\u001b[0m\u001b[1;32m    832\u001b[0m \u001b[0;34m\u001b[0m\u001b[0m\n\u001b[1;32m    833\u001b[0m         \u001b[0mself\u001b[0m\u001b[0;34m.\u001b[0m\u001b[0m_content_consumed\u001b[0m \u001b[0;34m=\u001b[0m \u001b[0;32mTrue\u001b[0m\u001b[0;34m\u001b[0m\u001b[0;34m\u001b[0m\u001b[0m\n",
      "\u001b[0;32m/usr/lib/python3/dist-packages/requests/models.py\u001b[0m in \u001b[0;36mgenerate\u001b[0;34m()\u001b[0m\n\u001b[1;32m    754\u001b[0m                         \u001b[0;32myield\u001b[0m \u001b[0mchunk\u001b[0m\u001b[0;34m\u001b[0m\u001b[0;34m\u001b[0m\u001b[0m\n\u001b[1;32m    755\u001b[0m                 \u001b[0;32mexcept\u001b[0m \u001b[0mProtocolError\u001b[0m \u001b[0;32mas\u001b[0m \u001b[0me\u001b[0m\u001b[0;34m:\u001b[0m\u001b[0;34m\u001b[0m\u001b[0;34m\u001b[0m\u001b[0m\n\u001b[0;32m--> 756\u001b[0;31m                     \u001b[0;32mraise\u001b[0m \u001b[0mChunkedEncodingError\u001b[0m\u001b[0;34m(\u001b[0m\u001b[0me\u001b[0m\u001b[0;34m)\u001b[0m\u001b[0;34m\u001b[0m\u001b[0;34m\u001b[0m\u001b[0m\n\u001b[0m\u001b[1;32m    757\u001b[0m                 \u001b[0;32mexcept\u001b[0m \u001b[0mDecodeError\u001b[0m \u001b[0;32mas\u001b[0m \u001b[0me\u001b[0m\u001b[0;34m:\u001b[0m\u001b[0;34m\u001b[0m\u001b[0;34m\u001b[0m\u001b[0m\n\u001b[1;32m    758\u001b[0m                     \u001b[0;32mraise\u001b[0m \u001b[0mContentDecodingError\u001b[0m\u001b[0;34m(\u001b[0m\u001b[0me\u001b[0m\u001b[0;34m)\u001b[0m\u001b[0;34m\u001b[0m\u001b[0;34m\u001b[0m\u001b[0m\n",
      "\u001b[0;31mChunkedEncodingError\u001b[0m: ('Connection broken: IncompleteRead(5732 bytes read, 4508 more expected)', IncompleteRead(5732 bytes read, 4508 more expected))"
     ]
    }
   ],
   "source": [
    "grab_urls2(url_1 = \"https://www.elpais.com.co/search/listing/0/\",\n",
    "    url_2 = \"/farc\",\n",
    "    site_name = 'el_país',\n",
    "    max_pages = 2429,\n",
    "    class_ = 'listing-title',\n",
    "    paste_urls = True,\n",
    "    base_url = \"https://www.elpais.com.co\")"
   ]
  },
  {
   "cell_type": "markdown",
   "id": "d96b2499",
   "metadata": {},
   "source": [
    "# Vaupés\n",
    "\n",
    "None"
   ]
  },
  {
   "cell_type": "markdown",
   "id": "5865bda2",
   "metadata": {},
   "source": [
    "# Vichada\n",
    "None"
   ]
  }
 ],
 "metadata": {
  "kernelspec": {
   "display_name": "Python 3 (ipykernel)",
   "language": "python",
   "name": "python3"
  },
  "language_info": {
   "codemirror_mode": {
    "name": "ipython",
    "version": 3
   },
   "file_extension": ".py",
   "mimetype": "text/x-python",
   "name": "python",
   "nbconvert_exporter": "python",
   "pygments_lexer": "ipython3",
   "version": "3.10.6"
  }
 },
 "nbformat": 4,
 "nbformat_minor": 5
}
