{
 "cells": [
  {
   "cell_type": "code",
   "execution_count": 26,
   "id": "095ec538",
   "metadata": {},
   "outputs": [],
   "source": [
    "import requests\n",
    "import re\n",
    "from bs4 import BeautifulSoup\n",
    "import warnings\n",
    "import time\n",
    "import random\n",
    "#import csv"
   ]
  },
  {
   "cell_type": "markdown",
   "id": "83ec4951",
   "metadata": {},
   "source": [
    "List of Colombian newspapers:\n",
    "https://www.prensaescrita.com/america/colombia.php\n",
    "\n",
    "## Departamentos\n",
    "*No hay periédicos locales*  \n",
    "**No funciona**  \n",
    "~~Ya lo hice~~  \n",
    "Lo tengo que empezar todavía  \n",
    "\n",
    "1. *Amazonas*\n",
    "2. ~~Antioquia~~\n",
    "3. *Arauca*\n",
    "4. ~~Atlántico~~\n",
    "5. ~~Bolívar~~\n",
    "6. ~~Boyacá~~\n",
    "7. **Caldas**\n",
    "8. *Caquetá*\n",
    "9. *Casanare*\n",
    "10. ~~Cauca~~\n",
    "11. ~~César~~\n",
    "12. ~~Chocó~~\n",
    "13. ~~Córdoba~~\n",
    "14. ~~Cundinamarca~~\n",
    "15. *Guainía*\n",
    "16. *Guaviare*\n",
    "17. ~~Huila~~\n",
    "18. ~~La Guajira~~\n",
    "19. ~~Magdalena~~\n",
    "20. ~~Meta~~\n",
    "21. ~~Nariño~~\n",
    "22. ~~Norte de Santander~~\n",
    "23. *Putumayo*\n",
    "24. ~~Quindío~~\n",
    "25. ~~Risaralda~~\n",
    "26. ~~San Andrés y Providencia~~\n",
    "27. ~~Santander~~\n",
    "28. ~~Sucre~~\n",
    "29. ~~Tolima~~\n",
    "30. **Valle del Cauca**\n",
    "31. *Vaupés*\n",
    "32. *Vichada*\n"
   ]
  },
  {
   "cell_type": "markdown",
   "id": "a05e4ed8",
   "metadata": {},
   "source": [
    "Testing code with El Colombiano"
   ]
  },
  {
   "cell_type": "code",
   "execution_count": 3,
   "id": "27d1ffc0",
   "metadata": {},
   "outputs": [],
   "source": [
    "#f = csv.writer(open('elcolombiano.csv', 'w'))\n",
    "f = open('elcolombiano.txt', 'w')\n",
    "#f.writerow(['URL'])\n",
    "\n",
    "base_url = \"https://www.elcolombiano.com\"\n",
    "i = 1\n",
    "while i != 7:\n",
    "    if i == 1:\n",
    "        page = requests.get(\n",
    "    'https://www.elcolombiano.com/cronologia/noticias/meta/jep')\n",
    "    else:\n",
    "        page = requests.get(\n",
    "    'https://www.elcolombiano.com/cronologia/noticias/meta/jep#.p:{i};')\n",
    "    \n",
    "    soup = BeautifulSoup(page.text, 'html.parser')\n",
    "    links = soup.findAll(class_='noticia-resultado')\n",
    "    i = i + 1\n",
    "    for link in links:\n",
    "        url_tail = link.find('a').get('href')\n",
    "        url = base_url + url_tail\n",
    "        #url = \"%s%s\"%(base_url, url_tail)\n",
    "        f.write(url)\n",
    "        f.write('\\n')\n",
    "        "
   ]
  },
  {
   "cell_type": "markdown",
   "id": "0b670718",
   "metadata": {},
   "source": [
    "Defining a generic function for getting the urls from a tag or search"
   ]
  },
  {
   "cell_type": "markdown",
   "id": "9c40fc53",
   "metadata": {},
   "source": [
    "grab_urls(first_url = '',\n",
    "          other_url = '',\n",
    "          base_url = '',\n",
    "          site_name = '',\n",
    "          max_pages = ,\n",
    "          paste_urls = True,\n",
    "          class_ = '')"
   ]
  },
  {
   "cell_type": "code",
   "execution_count": 27,
   "id": "6b0c21df",
   "metadata": {},
   "outputs": [],
   "source": [
    "def grab_urls(first_url, other_url, site_name, max_pages, paste_urls, class_, base_url = None):\n",
    "    file_name = site_name + \".txt\"\n",
    "    f = open(file_name, 'w')\n",
    "\n",
    "    \n",
    "    i = 1\n",
    "    while i != max_pages + 1:\n",
    "        if i == 1:\n",
    "            page = requests.get(first_url)\n",
    "        else:\n",
    "            page = requests.get(other_url)\n",
    "            #print(other_url)\n",
    "            time.sleep(10)\n",
    "        soup = BeautifulSoup(page.text, 'html.parser')\n",
    "        links = soup.findAll(class_ = class_)\n",
    "        i = i + 1\n",
    "        if paste_urls == False:\n",
    "            for link in links:\n",
    "               # url = link.find('a').get('data-ctorig')\n",
    "                url = link.find('a').get('href')\n",
    "                f.write(url)\n",
    "                f.write('\\n')\n",
    "        elif paste_urls == True:\n",
    "            for link in links:\n",
    "                url_tail = link.find('a')#.get('href')\n",
    "                url = base_url + url_tail\n",
    "                f.write(url)\n",
    "                f.write('\\n')\n",
    "                print(link)\n",
    "        else:\n",
    "            warnings.warn(\"paste_urls must be True or False\")"
   ]
  },
  {
   "cell_type": "code",
   "execution_count": 28,
   "id": "e88696e4",
   "metadata": {},
   "outputs": [],
   "source": [
    "def grab_urls2(url_1, url_2, site_name, max_pages, class_, base_url = None, paste_urls = False):\n",
    "    file_name = site_name + \".txt\"\n",
    "    f = open(file_name, 'w')\n",
    "    headers = {\n",
    "    'User-Agent': 'Mozilla/5.0 (X11; Ubuntu; Linux x86_64; rv:60.0) Gecko/20100101 Firefox/60.0',\n",
    "    'X-Requested-With': 'XMLHttpRequest',\n",
    "    }\n",
    "    \n",
    "    i = 1\n",
    "    while i != max_pages + 1:\n",
    "        site_url = url_1 + str(i) + url_2\n",
    "        page = requests.get(site_url, headers = headers)\n",
    "        soup = BeautifulSoup(page.text, 'html.parser')\n",
    "        links = soup.findAll(class_ = class_)\n",
    "        i = i + 1\n",
    "        \n",
    "        if paste_urls == False:\n",
    "            for link in links:\n",
    "                url = link.find('a').get('href')\n",
    "                f.write(url)\n",
    "                f.write('\\n')\n",
    "        elif paste_urls == True:\n",
    "            for link in links:\n",
    "                url_tail = link.find('a').get('href')\n",
    "                url = base_url + url_tail\n",
    "                f.write(url)\n",
    "                f.write('\\n')\n",
    "        else:\n",
    "            warnings.warn(\"paste_urls must be True or False\")\n",
    "        \n",
    "       # time.sleep(random.randint(7, 43))\n",
    "        if i % 10 == 0:\n",
    "            print(str(i) + \" out of \" + str(max_pages))"
   ]
  },
  {
   "cell_type": "code",
   "execution_count": 29,
   "id": "bbff6401",
   "metadata": {},
   "outputs": [],
   "source": [
    "# a more functional approach\n",
    "def get_links():\n",
    "    url = link.find('a').get('href')\n",
    "    f.write(url)\n",
    "    f.write('\\n')\n",
    "    \n",
    "def grab_urls3(url_1, url_2, site_name, max_pages, class_, base_url = None, paste_urls = False):\n",
    "    file_name = site_name + \".txt\"\n",
    "    f = open(file_name, 'w')\n",
    "    headers = {\n",
    "    'User-Agent': 'Mozilla/5.0 (X11; Ubuntu; Linux x86_64; rv:60.0) Gecko/20100101 Firefox/60.0',\n",
    "    'X-Requested-With': 'XMLHttpRequest',\n",
    "    }\n",
    "    \n",
    "    i = 1\n",
    "    while i != max_pages + 1:\n",
    "        site_url = url_1 + str(i) + url_2\n",
    "        page = requests.get(site_url, headers = headers)\n",
    "        soup = BeautifulSoup(page.text, 'html.parser')\n",
    "        links = soup.findAll(class_ = class_)\n",
    "        i = i + 1   \n",
    "        map(get_links, links)\n"
   ]
  },
  {
   "cell_type": "code",
   "execution_count": 30,
   "id": "36f4cca2",
   "metadata": {},
   "outputs": [],
   "source": [
    "def grab_urls4(first_url, other_url, site_name, max_pages, paste_urls, class_, base_url = None):\n",
    "    file_name = site_name + \".txt\"\n",
    "    f = open(file_name, 'w')\n",
    "\n",
    "    \n",
    "    i = 1\n",
    "    while i != max_pages + 1:\n",
    "        if i == 1:\n",
    "            page = requests.get(first_url)\n",
    "        else:\n",
    "            page = requests.get(other_url)\n",
    "            #print(other_url)\n",
    "            time.sleep(10)\n",
    "        soup = BeautifulSoup(page.text, 'html.parser')\n",
    "        links = soup.findAll(class_ = class_)\n",
    "        i = i + 1\n",
    "        if paste_urls == False:\n",
    "            for link in links:\n",
    "               # url = link.find('a').get('data-ctorig')\n",
    "                url = link.find('h1').find('a').get('href')\n",
    "                f.write(url)\n",
    "                f.write('\\n')\n",
    "        elif paste_urls == True:\n",
    "            for link in links:\n",
    "                url_tail = link.find('h1').find('a').get('href')\n",
    "                url = base_url + url_tail\n",
    "                f.write(url)\n",
    "                f.write('\\n')\n",
    "        else:\n",
    "            warnings.warn(\"paste_urls must be True or False\")\n",
    "            \n",
    "def grab_urls5(first_url, other_url, site_name, max_pages, paste_urls, class_, find_1, find_2, base_url = None):\n",
    "    file_name = site_name + \".txt\"\n",
    "    f = open(file_name, 'w')\n",
    "\n",
    "    \n",
    "    i = 1\n",
    "    while i != max_pages + 1:\n",
    "        if i == 1:\n",
    "            page = requests.get(first_url)\n",
    "        else:\n",
    "            page = requests.get(other_url)\n",
    "            #print(other_url)\n",
    "            time.sleep(10)\n",
    "        soup = BeautifulSoup(page.text, 'html.parser')\n",
    "        links = soup.findAll(class_ = class_)\n",
    "        i = i + 1\n",
    "        if paste_urls == False:\n",
    "            for link in links:\n",
    "               # url = link.find('a').get('data-ctorig')\n",
    "                url = link.find(find_1).find(find_2).get('href')\n",
    "                f.write(url)\n",
    "                f.write('\\n')\n",
    "        elif paste_urls == True:\n",
    "            for link in links:\n",
    "                url_tail = link.find(find_1).find(find_2).get('href')\n",
    "                url = base_url + url_tail\n",
    "                f.write(url)\n",
    "                f.write('\\n')\n",
    "        else:\n",
    "            warnings.warn(\"paste_urls must be True or False\")"
   ]
  },
  {
   "cell_type": "markdown",
   "id": "50a95a4c",
   "metadata": {},
   "source": [
    "# Amazonas\n",
    "None"
   ]
  },
  {
   "cell_type": "markdown",
   "id": "5857aee8",
   "metadata": {},
   "source": [
    "# Antioquía\n",
    "<span style=\"color:green\">El Colombiano (see above) </span>"
   ]
  },
  {
   "cell_type": "code",
   "execution_count": null,
   "id": "9b30b89e",
   "metadata": {},
   "outputs": [],
   "source": [
    "grab_urls(first_url = '',\n",
    "          other_url = '',\n",
    "          base_url = '',\n",
    "          site_name = '',\n",
    "          max_pages = ,\n",
    "          paste_urls = True,\n",
    "          class_ = '')"
   ]
  },
  {
   "cell_type": "markdown",
   "id": "041102a0",
   "metadata": {},
   "source": [
    "# Arauca\n",
    "None"
   ]
  },
  {
   "cell_type": "markdown",
   "id": "c3e712e2",
   "metadata": {},
   "source": [
    "<h1 style=\"color:black\">Atlántico</h1>\n",
    "<span style=\"color:green\">El Heraldo (Doesn't run)</span>"
   ]
  },
  {
   "cell_type": "code",
   "execution_count": 39,
   "id": "d1e43307",
   "metadata": {},
   "outputs": [],
   "source": [
    "grab_urls4(first_url = 'https://www.elheraldo.co/farc-0',\n",
    "           other_url = 'https://www.elheraldo.co/farc-0?page={i}',\n",
    "           site_name = 'el_heraldo', max_pages = 240, paste_urls = True,\n",
    "           base_url = \"https://www.elheraldo.co\",\n",
    "           class_ = \"text\")"
   ]
  },
  {
   "cell_type": "markdown",
   "id": "56794e7b",
   "metadata": {},
   "source": [
    "# Bolívar\n",
    "<span style=\"color:green\">El Universal (grabs some but only a few (probably first page)</span>"
   ]
  },
  {
   "cell_type": "code",
   "execution_count": 54,
   "id": "af289145",
   "metadata": {},
   "outputs": [
    {
     "name": "stdout",
     "output_type": "stream",
     "text": [
      "10 out of 1876\n",
      "20 out of 1876\n",
      "30 out of 1876\n",
      "40 out of 1876\n",
      "50 out of 1876\n",
      "60 out of 1876\n",
      "70 out of 1876\n",
      "80 out of 1876\n",
      "90 out of 1876\n",
      "100 out of 1876\n",
      "110 out of 1876\n",
      "120 out of 1876\n",
      "130 out of 1876\n",
      "140 out of 1876\n",
      "150 out of 1876\n",
      "160 out of 1876\n",
      "170 out of 1876\n",
      "180 out of 1876\n",
      "190 out of 1876\n",
      "200 out of 1876\n",
      "210 out of 1876\n",
      "220 out of 1876\n",
      "230 out of 1876\n",
      "240 out of 1876\n",
      "250 out of 1876\n",
      "260 out of 1876\n",
      "270 out of 1876\n",
      "280 out of 1876\n",
      "290 out of 1876\n",
      "300 out of 1876\n",
      "310 out of 1876\n",
      "320 out of 1876\n",
      "330 out of 1876\n",
      "340 out of 1876\n",
      "350 out of 1876\n",
      "360 out of 1876\n",
      "370 out of 1876\n",
      "380 out of 1876\n",
      "390 out of 1876\n",
      "400 out of 1876\n",
      "410 out of 1876\n",
      "420 out of 1876\n",
      "430 out of 1876\n",
      "440 out of 1876\n",
      "450 out of 1876\n",
      "460 out of 1876\n",
      "470 out of 1876\n",
      "480 out of 1876\n",
      "490 out of 1876\n",
      "500 out of 1876\n",
      "510 out of 1876\n",
      "520 out of 1876\n",
      "530 out of 1876\n",
      "540 out of 1876\n",
      "550 out of 1876\n",
      "560 out of 1876\n",
      "570 out of 1876\n",
      "580 out of 1876\n",
      "590 out of 1876\n",
      "600 out of 1876\n",
      "610 out of 1876\n",
      "620 out of 1876\n",
      "630 out of 1876\n",
      "640 out of 1876\n",
      "650 out of 1876\n",
      "660 out of 1876\n",
      "670 out of 1876\n",
      "680 out of 1876\n",
      "690 out of 1876\n",
      "700 out of 1876\n",
      "710 out of 1876\n",
      "720 out of 1876\n",
      "730 out of 1876\n",
      "740 out of 1876\n",
      "750 out of 1876\n",
      "760 out of 1876\n",
      "770 out of 1876\n",
      "780 out of 1876\n",
      "790 out of 1876\n",
      "800 out of 1876\n",
      "810 out of 1876\n",
      "820 out of 1876\n",
      "830 out of 1876\n",
      "840 out of 1876\n",
      "850 out of 1876\n",
      "860 out of 1876\n",
      "870 out of 1876\n",
      "880 out of 1876\n",
      "890 out of 1876\n",
      "900 out of 1876\n",
      "910 out of 1876\n",
      "920 out of 1876\n",
      "930 out of 1876\n",
      "940 out of 1876\n",
      "950 out of 1876\n",
      "960 out of 1876\n",
      "970 out of 1876\n",
      "980 out of 1876\n",
      "990 out of 1876\n",
      "1000 out of 1876\n",
      "1010 out of 1876\n",
      "1020 out of 1876\n",
      "1030 out of 1876\n",
      "1040 out of 1876\n",
      "1050 out of 1876\n",
      "1060 out of 1876\n",
      "1070 out of 1876\n",
      "1080 out of 1876\n",
      "1090 out of 1876\n",
      "1100 out of 1876\n",
      "1110 out of 1876\n",
      "1120 out of 1876\n",
      "1130 out of 1876\n",
      "1140 out of 1876\n",
      "1150 out of 1876\n",
      "1160 out of 1876\n",
      "1170 out of 1876\n",
      "1180 out of 1876\n",
      "1190 out of 1876\n",
      "1200 out of 1876\n",
      "1210 out of 1876\n",
      "1220 out of 1876\n",
      "1230 out of 1876\n",
      "1240 out of 1876\n",
      "1250 out of 1876\n",
      "1260 out of 1876\n",
      "1270 out of 1876\n",
      "1280 out of 1876\n",
      "1290 out of 1876\n",
      "1300 out of 1876\n",
      "1310 out of 1876\n",
      "1320 out of 1876\n",
      "1330 out of 1876\n",
      "1340 out of 1876\n",
      "1350 out of 1876\n",
      "1360 out of 1876\n",
      "1370 out of 1876\n",
      "1380 out of 1876\n",
      "1390 out of 1876\n",
      "1400 out of 1876\n",
      "1410 out of 1876\n",
      "1420 out of 1876\n",
      "1430 out of 1876\n",
      "1440 out of 1876\n",
      "1450 out of 1876\n",
      "1460 out of 1876\n",
      "1470 out of 1876\n",
      "1480 out of 1876\n",
      "1490 out of 1876\n",
      "1500 out of 1876\n",
      "1510 out of 1876\n",
      "1520 out of 1876\n",
      "1530 out of 1876\n",
      "1540 out of 1876\n",
      "1550 out of 1876\n",
      "1560 out of 1876\n",
      "1570 out of 1876\n",
      "1580 out of 1876\n",
      "1590 out of 1876\n",
      "1600 out of 1876\n",
      "1610 out of 1876\n",
      "1620 out of 1876\n",
      "1630 out of 1876\n",
      "1640 out of 1876\n",
      "1650 out of 1876\n",
      "1660 out of 1876\n",
      "1670 out of 1876\n",
      "1680 out of 1876\n",
      "1690 out of 1876\n",
      "1700 out of 1876\n",
      "1710 out of 1876\n",
      "1720 out of 1876\n",
      "1730 out of 1876\n",
      "1740 out of 1876\n",
      "1750 out of 1876\n",
      "1760 out of 1876\n",
      "1770 out of 1876\n",
      "1780 out of 1876\n",
      "1790 out of 1876\n",
      "1800 out of 1876\n",
      "1810 out of 1876\n",
      "1820 out of 1876\n",
      "1830 out of 1876\n",
      "1840 out of 1876\n",
      "1850 out of 1876\n",
      "1860 out of 1876\n",
      "1870 out of 1876\n"
     ]
    }
   ],
   "source": [
    "grab_urls2(url_1 = \"https://www.eluniversal.com.co/busqueda/-/search/%22Las%20farc%22/false/false/19810109/20230109/date/true/true/0/0/meta/0/0/0/\",\n",
    "    url_2 = \"\",\n",
    "    site_name = 'el_universal',\n",
    "    max_pages = 1876,\n",
    "    class_ = 'info',\n",
    "    base_url = 'https://www.eluniversal.com.co',\n",
    "    paste_urls = True)"
   ]
  },
  {
   "cell_type": "markdown",
   "id": "2d19ca0b",
   "metadata": {},
   "source": [
    "# Boyaca\n",
    "<span style=\"color:green\">El Diario</span>"
   ]
  },
  {
   "cell_type": "code",
   "execution_count": 25,
   "id": "5122195b",
   "metadata": {},
   "outputs": [],
   "source": [
    "grab_urls(first_url = 'https://periodicoeldiario.com/?s=farc',\n",
    "          other_url = 'https://periodicoeldiario.com/page/{i}/?s=farc',\n",
    "          site_name = 'el_diario', max_pages = 12, paste_urls = False,\n",
    "          class_ = 'entry-title td-module-title')"
   ]
  },
  {
   "cell_type": "markdown",
   "id": "57550f4f",
   "metadata": {},
   "source": [
    "<h1 style=\"color:red\">Caldas</h1>\n",
    "<span style=\"color:red\">La Patria (Doesn't work)</span>"
   ]
  },
  {
   "cell_type": "code",
   "execution_count": 43,
   "id": "41c78027",
   "metadata": {},
   "outputs": [],
   "source": [
    "grab_urls(first_url = 'https://www.lapatria.com/buscar#gsc.tab=0&gsc.q=farc&gsc.sort=',\n",
    "          other_url = 'https://www.lapatria.com/buscar#gsc.tab=0&gsc.q=farc&gsc.sort=&gsc.page={i}',\n",
    "          site_name = 'la_patria', max_pages = 10, paste_urls = False,\n",
    "          class_ = 'gsc-thumbnail-inside')"
   ]
  },
  {
   "cell_type": "code",
   "execution_count": 41,
   "id": "c993611d",
   "metadata": {},
   "outputs": [
    {
     "name": "stdout",
     "output_type": "stream",
     "text": [
      "10 out of 1688\n",
      "20 out of 1688\n",
      "30 out of 1688\n",
      "40 out of 1688\n",
      "50 out of 1688\n",
      "60 out of 1688\n",
      "70 out of 1688\n",
      "80 out of 1688\n"
     ]
    },
    {
     "ename": "TypeError",
     "evalue": "write() argument must be str, not None",
     "output_type": "error",
     "traceback": [
      "\u001b[0;31m---------------------------------------------------------------------------\u001b[0m",
      "\u001b[0;31mTypeError\u001b[0m                                 Traceback (most recent call last)",
      "\u001b[0;32m/tmp/ipykernel_10967/2519308801.py\u001b[0m in \u001b[0;36m<module>\u001b[0;34m\u001b[0m\n\u001b[0;32m----> 1\u001b[0;31m grab_urls2(url_1 = 'https://www.eje21.com.co/page/',\n\u001b[0m\u001b[1;32m      2\u001b[0m           \u001b[0murl_2\u001b[0m \u001b[0;34m=\u001b[0m \u001b[0;34m'/?s=farc'\u001b[0m\u001b[0;34m,\u001b[0m\u001b[0;34m\u001b[0m\u001b[0;34m\u001b[0m\u001b[0m\n\u001b[1;32m      3\u001b[0m           \u001b[0msite_name\u001b[0m \u001b[0;34m=\u001b[0m \u001b[0;34m'eje21'\u001b[0m\u001b[0;34m,\u001b[0m\u001b[0;34m\u001b[0m\u001b[0;34m\u001b[0m\u001b[0m\n\u001b[1;32m      4\u001b[0m           \u001b[0mmax_pages\u001b[0m \u001b[0;34m=\u001b[0m \u001b[0;36m1688\u001b[0m\u001b[0;34m,\u001b[0m\u001b[0;34m\u001b[0m\u001b[0;34m\u001b[0m\u001b[0m\n\u001b[1;32m      5\u001b[0m           class_ = 'info')\n",
      "\u001b[0;32m/tmp/ipykernel_10967/2612477651.py\u001b[0m in \u001b[0;36mgrab_urls2\u001b[0;34m(url_1, url_2, site_name, max_pages, class_, base_url, paste_urls)\u001b[0m\n\u001b[1;32m     18\u001b[0m             \u001b[0;32mfor\u001b[0m \u001b[0mlink\u001b[0m \u001b[0;32min\u001b[0m \u001b[0mlinks\u001b[0m\u001b[0;34m:\u001b[0m\u001b[0;34m\u001b[0m\u001b[0;34m\u001b[0m\u001b[0m\n\u001b[1;32m     19\u001b[0m                 \u001b[0murl\u001b[0m \u001b[0;34m=\u001b[0m \u001b[0mlink\u001b[0m\u001b[0;34m.\u001b[0m\u001b[0mfind\u001b[0m\u001b[0;34m(\u001b[0m\u001b[0;34m'a'\u001b[0m\u001b[0;34m)\u001b[0m\u001b[0;34m.\u001b[0m\u001b[0mget\u001b[0m\u001b[0;34m(\u001b[0m\u001b[0;34m'href'\u001b[0m\u001b[0;34m)\u001b[0m\u001b[0;34m\u001b[0m\u001b[0;34m\u001b[0m\u001b[0m\n\u001b[0;32m---> 20\u001b[0;31m                 \u001b[0mf\u001b[0m\u001b[0;34m.\u001b[0m\u001b[0mwrite\u001b[0m\u001b[0;34m(\u001b[0m\u001b[0murl\u001b[0m\u001b[0;34m)\u001b[0m\u001b[0;34m\u001b[0m\u001b[0;34m\u001b[0m\u001b[0m\n\u001b[0m\u001b[1;32m     21\u001b[0m                 \u001b[0mf\u001b[0m\u001b[0;34m.\u001b[0m\u001b[0mwrite\u001b[0m\u001b[0;34m(\u001b[0m\u001b[0;34m'\\n'\u001b[0m\u001b[0;34m)\u001b[0m\u001b[0;34m\u001b[0m\u001b[0;34m\u001b[0m\u001b[0m\n\u001b[1;32m     22\u001b[0m         \u001b[0;32melif\u001b[0m \u001b[0mpaste_urls\u001b[0m \u001b[0;34m==\u001b[0m \u001b[0;32mTrue\u001b[0m\u001b[0;34m:\u001b[0m\u001b[0;34m\u001b[0m\u001b[0;34m\u001b[0m\u001b[0m\n",
      "\u001b[0;31mTypeError\u001b[0m: write() argument must be str, not None"
     ]
    }
   ],
   "source": [
    "grab_urls2(url_1 = 'https://www.eje21.com.co/page/', #stoped at 80\n",
    "          url_2 = '/?s=farc',\n",
    "          site_name = 'eje21',\n",
    "          max_pages = 1688,\n",
    "          class_ = 'info')"
   ]
  },
  {
   "cell_type": "code",
   "execution_count": 47,
   "id": "2539b57c",
   "metadata": {},
   "outputs": [],
   "source": [
    "def eje21(url_1, url_2, site_name, max_pages, class_, start_page, base_url = None, paste_urls = False):\n",
    "    file_name = site_name + \".txt\"\n",
    "    f = open(file_name, 'w')\n",
    "    headers = {\n",
    "    'User-Agent': 'Mozilla/5.0 (X11; Ubuntu; Linux x86_64; rv:60.0) Gecko/20100101 Firefox/60.0',\n",
    "    'X-Requested-With': 'XMLHttpRequest',\n",
    "    }\n",
    "    \n",
    "    i = start_page\n",
    "    while i != max_pages + 1:\n",
    "        site_url = url_1 + str(i) + url_2\n",
    "        page = requests.get(site_url, headers = headers)\n",
    "        soup = BeautifulSoup(page.text, 'html.parser')\n",
    "        links = soup.findAll(class_ = class_)\n",
    "        i = i + 1\n",
    "        \n",
    "        if paste_urls == False:\n",
    "            for link in links:\n",
    "                url = link.find('a').get('href')\n",
    "                if type(url) == str:\n",
    "                    f.write(url)\n",
    "                    f.write('\\n')\n",
    "                else:\n",
    "                    f.write()\n",
    "        elif paste_urls == True:\n",
    "            for link in links:\n",
    "                url_tail = link.find('a').get('href')\n",
    "                url = base_url + url_tail\n",
    "                f.write(url)\n",
    "                f.write('\\n')\n",
    "        else:\n",
    "            warnings.warn(\"paste_urls must be True or False\")\n",
    "        \n",
    "       # time.sleep(random.randint(7, 43))\n",
    "        if i % 10 == 0:\n",
    "            print(str(i) + \" out of \" + str(max_pages))"
   ]
  },
  {
   "cell_type": "code",
   "execution_count": null,
   "id": "cfab31fb",
   "metadata": {},
   "outputs": [],
   "source": [
    "eje21(url_1 = 'https://www.eje21.com.co/page/', #stoped at 80\n",
    "      url_2 = '/?s=farc',\n",
    "      site_name = 'eje21',\n",
    "      start_page = 1,\n",
    "      max_pages = 1688,\n",
    "      class_ = 'info')"
   ]
  },
  {
   "cell_type": "markdown",
   "id": "b564976b",
   "metadata": {},
   "source": [
    "# Caquetá\n",
    "None"
   ]
  },
  {
   "cell_type": "markdown",
   "id": "55830458",
   "metadata": {},
   "source": [
    "# Casanare\n",
    "None"
   ]
  },
  {
   "cell_type": "markdown",
   "id": "317640bb",
   "metadata": {},
   "source": [
    "<h1 style=\"color:black\">Cauca</h1>\n",
    "<span style=\"color:green\">El nuevo liberal</span>"
   ]
  },
  {
   "cell_type": "code",
   "execution_count": 24,
   "id": "77545fd9",
   "metadata": {},
   "outputs": [
    {
     "name": "stdout",
     "output_type": "stream",
     "text": [
      "10 out of 249\n",
      "20 out of 249\n",
      "30 out of 249\n",
      "40 out of 249\n",
      "50 out of 249\n",
      "60 out of 249\n",
      "70 out of 249\n",
      "80 out of 249\n",
      "90 out of 249\n",
      "100 out of 249\n",
      "110 out of 249\n",
      "120 out of 249\n",
      "130 out of 249\n",
      "140 out of 249\n",
      "150 out of 249\n",
      "160 out of 249\n",
      "170 out of 249\n",
      "180 out of 249\n",
      "190 out of 249\n",
      "200 out of 249\n",
      "210 out of 249\n",
      "220 out of 249\n",
      "230 out of 249\n",
      "240 out of 249\n",
      "250 out of 249\n"
     ]
    }
   ],
   "source": [
    "grab_urls2(url_1 = 'https://elnuevoliberal.com/page/',\n",
    "           url_2 = '/?s=farc',\n",
    "           site_name = 'el_nuevo_liberal',\n",
    "           max_pages = 249,\n",
    "           #paste_urls = False,\n",
    "           class_ = \"post-featured-image post-img-wrap\")"
   ]
  },
  {
   "cell_type": "markdown",
   "id": "8b7a1917",
   "metadata": {},
   "source": [
    "# César\n",
    "\n",
    "<span style=\"color:green\">Diario del César</span>"
   ]
  },
  {
   "cell_type": "code",
   "execution_count": 34,
   "id": "cef8a2b7",
   "metadata": {},
   "outputs": [],
   "source": [
    "grab_urls2(url_1 = \"https://www.diariodelcesar.com/page/\",\n",
    "    url_2 = \"/?s=farc\",\n",
    "    site_name = 'diario_del_césar',\n",
    "    max_pages = 198,\n",
    "    class_ = 'title')"
   ]
  },
  {
   "cell_type": "markdown",
   "id": "6eab66bb",
   "metadata": {},
   "source": [
    "# Chocó\n",
    "\n",
    "<span style=\"color:green\">El Manduco</span>"
   ]
  },
  {
   "cell_type": "code",
   "execution_count": 31,
   "id": "524f1ec7",
   "metadata": {},
   "outputs": [],
   "source": [
    "grab_urls2(url_1 = \"https://elmanduco.com.co/page/\",\n",
    "    url_2 = \"/?s=farc\",\n",
    "    site_name = 'el_manduco',\n",
    "    max_pages = 3,\n",
    "    class_ = \"article-title article-title-1\")"
   ]
  },
  {
   "cell_type": "markdown",
   "id": "93c0c212",
   "metadata": {},
   "source": [
    "# Córdoba\n",
    "\n",
    "<span style=\"color:green\">El Meridiano</span>"
   ]
  },
  {
   "cell_type": "code",
   "execution_count": 62,
   "id": "67afb98e",
   "metadata": {},
   "outputs": [
    {
     "name": "stdout",
     "output_type": "stream",
     "text": [
      "10 out of 13\n"
     ]
    }
   ],
   "source": [
    "grab_urls2(url_1 = \"https://elmeridiano.co/page/\",\n",
    "    url_2 = \"/?s=farc\",\n",
    "    site_name = 'el_meridiano',\n",
    "    max_pages = 13,\n",
    "    class_ = \"meta3\")"
   ]
  },
  {
   "cell_type": "markdown",
   "id": "8bf8ac20",
   "metadata": {},
   "source": [
    "# Cundinamarca\n",
    "\n",
    "<span style=\"color:green\">Periodismo Público</span>"
   ]
  },
  {
   "cell_type": "code",
   "execution_count": 63,
   "id": "c4e52305",
   "metadata": {},
   "outputs": [
    {
     "name": "stdout",
     "output_type": "stream",
     "text": [
      "10 out of 45\n",
      "20 out of 45\n",
      "30 out of 45\n",
      "40 out of 45\n"
     ]
    }
   ],
   "source": [
    "grab_urls2(url_1 = \"https://periodismopublico.com/page/\",\n",
    "    url_2 = \"?s=farc\",\n",
    "    site_name = 'periodismo_público',\n",
    "    max_pages = 45,\n",
    "    class_ = \"entry-title\")"
   ]
  },
  {
   "cell_type": "markdown",
   "id": "48aba049",
   "metadata": {},
   "source": [
    "# Guainía\n",
    "\n",
    "None"
   ]
  },
  {
   "cell_type": "markdown",
   "id": "c8c15c6c",
   "metadata": {},
   "source": [
    "# Guaviare\n",
    "\n",
    "None"
   ]
  },
  {
   "cell_type": "markdown",
   "id": "05d612e1",
   "metadata": {},
   "source": [
    "# Huila\n",
    "\n",
    "<span style=\"color:green\">La Nación</span>"
   ]
  },
  {
   "cell_type": "code",
   "execution_count": 64,
   "id": "7a4a52a3",
   "metadata": {},
   "outputs": [
    {
     "name": "stdout",
     "output_type": "stream",
     "text": [
      "10 out of 1040\n",
      "20 out of 1040\n",
      "30 out of 1040\n",
      "40 out of 1040\n",
      "50 out of 1040\n",
      "60 out of 1040\n",
      "70 out of 1040\n",
      "80 out of 1040\n",
      "90 out of 1040\n",
      "100 out of 1040\n",
      "110 out of 1040\n",
      "120 out of 1040\n",
      "130 out of 1040\n",
      "140 out of 1040\n",
      "150 out of 1040\n",
      "160 out of 1040\n",
      "170 out of 1040\n",
      "180 out of 1040\n",
      "190 out of 1040\n",
      "200 out of 1040\n",
      "210 out of 1040\n",
      "220 out of 1040\n",
      "230 out of 1040\n",
      "240 out of 1040\n",
      "250 out of 1040\n",
      "260 out of 1040\n",
      "270 out of 1040\n",
      "280 out of 1040\n",
      "290 out of 1040\n",
      "300 out of 1040\n",
      "310 out of 1040\n",
      "320 out of 1040\n",
      "330 out of 1040\n",
      "340 out of 1040\n",
      "350 out of 1040\n",
      "360 out of 1040\n",
      "370 out of 1040\n",
      "380 out of 1040\n",
      "390 out of 1040\n",
      "400 out of 1040\n",
      "410 out of 1040\n",
      "420 out of 1040\n",
      "430 out of 1040\n",
      "440 out of 1040\n",
      "450 out of 1040\n",
      "460 out of 1040\n",
      "470 out of 1040\n",
      "480 out of 1040\n",
      "490 out of 1040\n",
      "500 out of 1040\n",
      "510 out of 1040\n",
      "520 out of 1040\n",
      "530 out of 1040\n",
      "540 out of 1040\n",
      "550 out of 1040\n",
      "560 out of 1040\n",
      "570 out of 1040\n",
      "580 out of 1040\n",
      "590 out of 1040\n",
      "600 out of 1040\n",
      "610 out of 1040\n",
      "620 out of 1040\n",
      "630 out of 1040\n",
      "640 out of 1040\n",
      "650 out of 1040\n",
      "660 out of 1040\n",
      "670 out of 1040\n",
      "680 out of 1040\n",
      "690 out of 1040\n",
      "700 out of 1040\n",
      "710 out of 1040\n",
      "720 out of 1040\n",
      "730 out of 1040\n",
      "740 out of 1040\n",
      "750 out of 1040\n",
      "760 out of 1040\n",
      "770 out of 1040\n",
      "780 out of 1040\n",
      "790 out of 1040\n",
      "800 out of 1040\n",
      "810 out of 1040\n",
      "820 out of 1040\n",
      "830 out of 1040\n",
      "840 out of 1040\n",
      "850 out of 1040\n",
      "860 out of 1040\n",
      "870 out of 1040\n",
      "880 out of 1040\n",
      "890 out of 1040\n",
      "900 out of 1040\n",
      "910 out of 1040\n",
      "920 out of 1040\n",
      "930 out of 1040\n",
      "940 out of 1040\n",
      "950 out of 1040\n",
      "960 out of 1040\n",
      "970 out of 1040\n",
      "980 out of 1040\n",
      "990 out of 1040\n",
      "1000 out of 1040\n",
      "1010 out of 1040\n",
      "1020 out of 1040\n",
      "1030 out of 1040\n",
      "1040 out of 1040\n"
     ]
    }
   ],
   "source": [
    "grab_urls2(url_1 = \"https://www.lanacion.com.co/page/\",\n",
    "    url_2 = \"/?s=farc\",\n",
    "    site_name = 'la_nación',\n",
    "    max_pages = 1040,\n",
    "    class_ = \"entry-title\")"
   ]
  },
  {
   "cell_type": "markdown",
   "id": "e9af270d",
   "metadata": {},
   "source": [
    "# La Guajira\n",
    "\n",
    "<span style=\"color:green\">Diario del Norte</span>"
   ]
  },
  {
   "cell_type": "code",
   "execution_count": 65,
   "id": "dd34192f",
   "metadata": {},
   "outputs": [
    {
     "name": "stdout",
     "output_type": "stream",
     "text": [
      "10 out of 20\n",
      "20 out of 20\n"
     ]
    }
   ],
   "source": [
    "grab_urls2(url_1 = \"https://www.diariodelnorte.net/?paged=\",\n",
    "    url_2 = \"&s=farc\",\n",
    "    site_name = 'diario_del_norte',\n",
    "    max_pages = 20,\n",
    "    class_ = \"entry-title\")"
   ]
  },
  {
   "cell_type": "markdown",
   "id": "34bd97ee",
   "metadata": {},
   "source": [
    "# Magdalena\n",
    "\n",
    "<span style=\"color:green\">Hoy Diario de Magdalena</span>"
   ]
  },
  {
   "cell_type": "code",
   "execution_count": 68,
   "id": "a9435645",
   "metadata": {},
   "outputs": [
    {
     "name": "stdout",
     "output_type": "stream",
     "text": [
      "10 out of 480\n",
      "20 out of 480\n",
      "30 out of 480\n",
      "40 out of 480\n",
      "50 out of 480\n",
      "60 out of 480\n",
      "70 out of 480\n",
      "80 out of 480\n",
      "90 out of 480\n",
      "100 out of 480\n",
      "110 out of 480\n",
      "120 out of 480\n",
      "130 out of 480\n",
      "140 out of 480\n",
      "150 out of 480\n",
      "160 out of 480\n",
      "170 out of 480\n",
      "180 out of 480\n",
      "190 out of 480\n",
      "200 out of 480\n",
      "210 out of 480\n",
      "220 out of 480\n",
      "230 out of 480\n",
      "240 out of 480\n",
      "250 out of 480\n",
      "260 out of 480\n",
      "270 out of 480\n",
      "280 out of 480\n",
      "290 out of 480\n",
      "300 out of 480\n",
      "310 out of 480\n",
      "320 out of 480\n",
      "330 out of 480\n",
      "340 out of 480\n",
      "350 out of 480\n",
      "360 out of 480\n",
      "370 out of 480\n",
      "380 out of 480\n",
      "390 out of 480\n",
      "400 out of 480\n",
      "410 out of 480\n",
      "420 out of 480\n",
      "430 out of 480\n",
      "440 out of 480\n",
      "450 out of 480\n",
      "460 out of 480\n",
      "470 out of 480\n",
      "480 out of 480\n"
     ]
    }
   ],
   "source": [
    "grab_urls2(url_1 = \"https://www.hoydiariodelmagdalena.com.co/page/\",\n",
    "    url_2 = \"/?s=farc\",\n",
    "    site_name = 'hoy_diario_de_magdalena',\n",
    "    max_pages = 480,\n",
    "    class_ = \"title\")"
   ]
  },
  {
   "cell_type": "markdown",
   "id": "03e35d0f",
   "metadata": {},
   "source": [
    "# Meta\n",
    "\n",
    "<span style=\"color:green\">Llano Siete Dias</span>"
   ]
  },
  {
   "cell_type": "code",
   "execution_count": 69,
   "id": "c2423845",
   "metadata": {},
   "outputs": [
    {
     "name": "stdout",
     "output_type": "stream",
     "text": [
      "10 out of 25\n",
      "20 out of 25\n"
     ]
    }
   ],
   "source": [
    "grab_urls2(url_1 = \"https://llanosietedias.com/page/\",\n",
    "    url_2 = \"/?s=farc\",\n",
    "    site_name = 'llano_siete_dias',\n",
    "    max_pages = 25,\n",
    "    class_ = \"entry-title\")"
   ]
  },
  {
   "cell_type": "markdown",
   "id": "da140778",
   "metadata": {},
   "source": [
    "# Nariño\n",
    "\n",
    "<span style=\"color:green\">Diario del Sur</span>"
   ]
  },
  {
   "cell_type": "code",
   "execution_count": 33,
   "id": "467be435",
   "metadata": {},
   "outputs": [
    {
     "name": "stdout",
     "output_type": "stream",
     "text": [
      "10 out of 47\n",
      "20 out of 47\n",
      "30 out of 47\n",
      "40 out of 47\n"
     ]
    }
   ],
   "source": [
    "grab_urls2(url_1 = \"https://www.diariodelsur.com.co/page/\",\n",
    "    url_2 = \"/?s=farc\",\n",
    "    site_name = 'diario_del_sur',\n",
    "    max_pages = 47,\n",
    "    class_ = \"entry-title\")"
   ]
  },
  {
   "cell_type": "markdown",
   "id": "9a6cc4cf",
   "metadata": {},
   "source": [
    "# Norte de Santander\n",
    "<span style=\"color:green\">La Opinion</span>"
   ]
  },
  {
   "cell_type": "code",
   "execution_count": 4,
   "id": "9f59a444",
   "metadata": {},
   "outputs": [],
   "source": [
    "grab_urls(first_url = 'https://www.laopinion.com.co/search/node?keys=FARC',\n",
    "          other_url = 'https://www.laopinion.com.co/search/node?keys=FARC&_wrapper_format=html&page={i}',\n",
    "          site_name = 'la_opinion',\n",
    "          max_pages = 177,\n",
    "          paste_urls = False,\n",
    "          class_ = \"list-group-item\")"
   ]
  },
  {
   "cell_type": "markdown",
   "id": "05e6a8e0",
   "metadata": {},
   "source": [
    "# Putumayo\n",
    "\n",
    "Diario"
   ]
  },
  {
   "cell_type": "code",
   "execution_count": null,
   "id": "8944f556",
   "metadata": {},
   "outputs": [],
   "source": [
    "grab_urls(first_url = '',\n",
    "          other_url = '',\n",
    "          base_url = '',\n",
    "          site_name = '',\n",
    "          max_pages = ,\n",
    "          paste_urls = True,\n",
    "          class_ = '')"
   ]
  },
  {
   "cell_type": "markdown",
   "id": "e495c007",
   "metadata": {},
   "source": [
    "# Quindio\n",
    "<span style=\"color:green\">La Cronica del Quindio</span>"
   ]
  },
  {
   "cell_type": "code",
   "execution_count": 11,
   "id": "8c7bc243",
   "metadata": {},
   "outputs": [],
   "source": [
    "grab_urls(first_url = 'https://www.cronicadelquindio.com/tags/255936/farc',\n",
    "          other_url = 'https://www.cronicadelquindio.com/tags/255919/jep?page={i}',\n",
    "          site_name = 'la_crónica_del_quíndio', max_pages = 3, paste_urls = False,\n",
    "          class_ = \"article_item news_1\")"
   ]
  },
  {
   "cell_type": "markdown",
   "id": "293fb9a1",
   "metadata": {},
   "source": [
    "# Risaralda\n",
    "<span style=\"color:green\">El Expreso</span>"
   ]
  },
  {
   "cell_type": "code",
   "execution_count": 17,
   "id": "7e045164",
   "metadata": {},
   "outputs": [],
   "source": [
    "grab_urls(first_url = 'https://www.elexpreso.co/es/ibuscar/local/?q=farc',\n",
    "          other_url = 'https://www.elexpreso.co/es/ibuscar/local/{(i-1) * 15}/?q=farc',\n",
    "          site_name = 'el_expreso',\n",
    "          max_pages = 6,\n",
    "          paste_urls = False,\n",
    "          class_ = 'media-body')"
   ]
  },
  {
   "cell_type": "markdown",
   "id": "2661eda1",
   "metadata": {},
   "source": [
    "# San Andrés y Providencia\n",
    "<span style=\"color:green\">The Archipielago Press</span>"
   ]
  },
  {
   "cell_type": "code",
   "execution_count": 18,
   "id": "3204cf77",
   "metadata": {},
   "outputs": [],
   "source": [
    "grab_urls(first_url = 'https://thearchipielagopress.co/?s=farc',\n",
    "          other_url = 'https://thearchipielagopress.co/page/{i}/?s=farc',\n",
    "          site_name = 'the_archipielago_press',\n",
    "          max_pages = 23,\n",
    "          paste_urls = False,\n",
    "          class_ = 'jeg_post_title')"
   ]
  },
  {
   "cell_type": "markdown",
   "id": "f8277e67",
   "metadata": {},
   "source": [
    "# Santander\n",
    "<span style=\"color:green\">Vanguardia Liberal</span>"
   ]
  },
  {
   "cell_type": "code",
   "execution_count": 23,
   "id": "de42f012",
   "metadata": {},
   "outputs": [],
   "source": [
    "grab_urls(first_url = 'https://www.vanguardia.com/busquedas/-/search/farc/false/false/19810114/20230114/date/true/true/0/0/meta/0/0/0/1',\n",
    "          other_url = 'https://www.vanguardia.com/busquedas/-/search/farc/false/false/19810114/20230114/date/true/true/0/0/meta/0/0/0/{i}',\n",
    "          site_name = 'vanguardia_liberal',\n",
    "          base_url = 'https://www.vanguardia.com',\n",
    "          max_pages = 2643,\n",
    "          paste_urls = True,\n",
    "          class_ = 'noticias')"
   ]
  },
  {
   "cell_type": "markdown",
   "id": "230feb99",
   "metadata": {},
   "source": [
    "# Sucre\n",
    "\n",
    "<span style=\"color:green\">El Meridiano (grabs first page fine, but won't continue to others)</span>"
   ]
  },
  {
   "cell_type": "code",
   "execution_count": 44,
   "id": "0c0359fc",
   "metadata": {},
   "outputs": [
    {
     "name": "stdout",
     "output_type": "stream",
     "text": [
      "10 out of 13\n"
     ]
    }
   ],
   "source": [
    "grab_urls2(url_1 = \"https://elmeridiano.co/page/\",\n",
    "    url_2 = \"/?s=farc\",\n",
    "    site_name = 'el_meridiano',\n",
    "    max_pages = 13,\n",
    "    class_ = 'post_img')"
   ]
  },
  {
   "cell_type": "markdown",
   "id": "a9a28e4a",
   "metadata": {},
   "source": [
    "# Tolima\n",
    "<span style=\"color:green\">El Nuevo Día</span>"
   ]
  },
  {
   "cell_type": "code",
   "execution_count": 5,
   "id": "f89ad045",
   "metadata": {},
   "outputs": [],
   "source": [
    "grab_urls(first_url = 'https://www.elnuevodia.com.co/nuevodia/search/node?keys=Farc',\n",
    "          other_url = 'https://www.elnuevodia.com.co/nuevodia/search/node?keys=Farc&page={i-1}',\n",
    "          site_name = 'el_nuevo_dia',\n",
    "          max_pages = 1094,\n",
    "          paste_urls = False,\n",
    "          class_ = 'search-result__title')"
   ]
  },
  {
   "cell_type": "markdown",
   "id": "07e2cc55",
   "metadata": {},
   "source": [
    "# Valle del Cauca\n",
    "<span style=\"color:orange\">El País (grabs first page fine, but won't continue to others)</span>"
   ]
  },
  {
   "cell_type": "code",
   "execution_count": 79,
   "id": "f29d37a9",
   "metadata": {},
   "outputs": [
    {
     "name": "stdout",
     "output_type": "stream",
     "text": [
      "10 out of 2429\n",
      "20 out of 2429\n",
      "30 out of 2429\n",
      "40 out of 2429\n",
      "50 out of 2429\n",
      "60 out of 2429\n",
      "70 out of 2429\n",
      "80 out of 2429\n",
      "90 out of 2429\n",
      "100 out of 2429\n",
      "110 out of 2429\n",
      "120 out of 2429\n",
      "130 out of 2429\n",
      "140 out of 2429\n",
      "150 out of 2429\n",
      "160 out of 2429\n",
      "170 out of 2429\n",
      "180 out of 2429\n",
      "190 out of 2429\n",
      "200 out of 2429\n",
      "210 out of 2429\n",
      "220 out of 2429\n",
      "230 out of 2429\n",
      "240 out of 2429\n",
      "250 out of 2429\n",
      "260 out of 2429\n",
      "270 out of 2429\n",
      "280 out of 2429\n",
      "290 out of 2429\n",
      "300 out of 2429\n",
      "310 out of 2429\n",
      "320 out of 2429\n",
      "330 out of 2429\n",
      "340 out of 2429\n",
      "350 out of 2429\n",
      "360 out of 2429\n",
      "370 out of 2429\n",
      "380 out of 2429\n",
      "390 out of 2429\n",
      "400 out of 2429\n",
      "410 out of 2429\n",
      "420 out of 2429\n",
      "430 out of 2429\n",
      "440 out of 2429\n",
      "450 out of 2429\n",
      "460 out of 2429\n",
      "470 out of 2429\n",
      "480 out of 2429\n",
      "490 out of 2429\n",
      "500 out of 2429\n",
      "510 out of 2429\n",
      "520 out of 2429\n",
      "530 out of 2429\n",
      "540 out of 2429\n",
      "550 out of 2429\n",
      "560 out of 2429\n",
      "570 out of 2429\n",
      "580 out of 2429\n",
      "590 out of 2429\n",
      "600 out of 2429\n",
      "610 out of 2429\n",
      "620 out of 2429\n",
      "630 out of 2429\n",
      "640 out of 2429\n",
      "650 out of 2429\n",
      "660 out of 2429\n",
      "670 out of 2429\n",
      "680 out of 2429\n",
      "690 out of 2429\n",
      "700 out of 2429\n",
      "710 out of 2429\n",
      "720 out of 2429\n",
      "730 out of 2429\n",
      "740 out of 2429\n",
      "750 out of 2429\n",
      "760 out of 2429\n",
      "770 out of 2429\n",
      "780 out of 2429\n",
      "790 out of 2429\n",
      "800 out of 2429\n",
      "810 out of 2429\n",
      "820 out of 2429\n",
      "830 out of 2429\n",
      "840 out of 2429\n",
      "850 out of 2429\n",
      "860 out of 2429\n",
      "870 out of 2429\n",
      "880 out of 2429\n",
      "890 out of 2429\n",
      "900 out of 2429\n",
      "910 out of 2429\n",
      "920 out of 2429\n",
      "930 out of 2429\n",
      "940 out of 2429\n",
      "950 out of 2429\n",
      "960 out of 2429\n",
      "970 out of 2429\n",
      "980 out of 2429\n",
      "990 out of 2429\n",
      "1000 out of 2429\n",
      "1010 out of 2429\n",
      "1020 out of 2429\n",
      "1030 out of 2429\n",
      "1040 out of 2429\n",
      "1050 out of 2429\n",
      "1060 out of 2429\n",
      "1070 out of 2429\n",
      "1080 out of 2429\n",
      "1090 out of 2429\n",
      "1100 out of 2429\n",
      "1110 out of 2429\n",
      "1120 out of 2429\n",
      "1130 out of 2429\n",
      "1140 out of 2429\n",
      "1150 out of 2429\n",
      "1160 out of 2429\n",
      "1170 out of 2429\n",
      "1180 out of 2429\n",
      "1190 out of 2429\n",
      "1200 out of 2429\n",
      "1210 out of 2429\n",
      "1220 out of 2429\n",
      "1230 out of 2429\n",
      "1240 out of 2429\n",
      "1250 out of 2429\n",
      "1260 out of 2429\n",
      "1270 out of 2429\n",
      "1280 out of 2429\n",
      "1290 out of 2429\n",
      "1300 out of 2429\n",
      "1310 out of 2429\n",
      "1320 out of 2429\n",
      "1330 out of 2429\n",
      "1340 out of 2429\n",
      "1350 out of 2429\n",
      "1360 out of 2429\n",
      "1370 out of 2429\n",
      "1380 out of 2429\n",
      "1390 out of 2429\n",
      "1400 out of 2429\n",
      "1410 out of 2429\n",
      "1420 out of 2429\n",
      "1430 out of 2429\n",
      "1440 out of 2429\n",
      "1450 out of 2429\n",
      "1460 out of 2429\n",
      "1470 out of 2429\n",
      "1480 out of 2429\n",
      "1490 out of 2429\n",
      "1500 out of 2429\n",
      "1510 out of 2429\n",
      "1520 out of 2429\n",
      "1530 out of 2429\n",
      "1540 out of 2429\n",
      "1550 out of 2429\n",
      "1560 out of 2429\n",
      "1570 out of 2429\n",
      "1580 out of 2429\n",
      "1590 out of 2429\n",
      "1600 out of 2429\n",
      "1610 out of 2429\n",
      "1620 out of 2429\n",
      "1630 out of 2429\n",
      "1640 out of 2429\n",
      "1650 out of 2429\n",
      "1660 out of 2429\n",
      "1670 out of 2429\n",
      "1680 out of 2429\n",
      "1690 out of 2429\n",
      "1700 out of 2429\n",
      "1710 out of 2429\n",
      "1720 out of 2429\n",
      "1730 out of 2429\n",
      "1740 out of 2429\n",
      "1750 out of 2429\n",
      "1760 out of 2429\n",
      "1770 out of 2429\n",
      "1780 out of 2429\n",
      "1790 out of 2429\n",
      "1800 out of 2429\n",
      "1810 out of 2429\n",
      "1820 out of 2429\n",
      "1830 out of 2429\n",
      "1840 out of 2429\n",
      "1850 out of 2429\n",
      "1860 out of 2429\n",
      "1870 out of 2429\n",
      "1880 out of 2429\n",
      "1890 out of 2429\n",
      "1900 out of 2429\n",
      "1910 out of 2429\n",
      "1920 out of 2429\n",
      "1930 out of 2429\n",
      "1940 out of 2429\n",
      "1950 out of 2429\n",
      "1960 out of 2429\n",
      "1970 out of 2429\n",
      "1980 out of 2429\n",
      "1990 out of 2429\n",
      "2000 out of 2429\n",
      "2010 out of 2429\n",
      "2020 out of 2429\n",
      "2030 out of 2429\n",
      "2040 out of 2429\n",
      "2050 out of 2429\n",
      "2060 out of 2429\n",
      "2070 out of 2429\n"
     ]
    },
    {
     "ename": "ConnectionError",
     "evalue": "('Connection aborted.', ConnectionResetError(104, 'Connection reset by peer'))",
     "output_type": "error",
     "traceback": [
      "\u001b[0;31m---------------------------------------------------------------------------\u001b[0m",
      "\u001b[0;31mConnectionResetError\u001b[0m                      Traceback (most recent call last)",
      "\u001b[0;32m/usr/lib/python3/dist-packages/urllib3/connectionpool.py\u001b[0m in \u001b[0;36murlopen\u001b[0;34m(self, method, url, body, headers, retries, redirect, assert_same_host, timeout, pool_timeout, release_conn, chunked, body_pos, **response_kw)\u001b[0m\n\u001b[1;32m    698\u001b[0m             \u001b[0;31m# Make the request on the httplib connection object.\u001b[0m\u001b[0;34m\u001b[0m\u001b[0;34m\u001b[0m\u001b[0m\n\u001b[0;32m--> 699\u001b[0;31m             httplib_response = self._make_request(\n\u001b[0m\u001b[1;32m    700\u001b[0m                 \u001b[0mconn\u001b[0m\u001b[0;34m,\u001b[0m\u001b[0;34m\u001b[0m\u001b[0;34m\u001b[0m\u001b[0m\n",
      "\u001b[0;32m/usr/lib/python3/dist-packages/urllib3/connectionpool.py\u001b[0m in \u001b[0;36m_make_request\u001b[0;34m(self, conn, method, url, timeout, chunked, **httplib_request_kw)\u001b[0m\n\u001b[1;32m    381\u001b[0m         \u001b[0;32mtry\u001b[0m\u001b[0;34m:\u001b[0m\u001b[0;34m\u001b[0m\u001b[0;34m\u001b[0m\u001b[0m\n\u001b[0;32m--> 382\u001b[0;31m             \u001b[0mself\u001b[0m\u001b[0;34m.\u001b[0m\u001b[0m_validate_conn\u001b[0m\u001b[0;34m(\u001b[0m\u001b[0mconn\u001b[0m\u001b[0;34m)\u001b[0m\u001b[0;34m\u001b[0m\u001b[0;34m\u001b[0m\u001b[0m\n\u001b[0m\u001b[1;32m    383\u001b[0m         \u001b[0;32mexcept\u001b[0m \u001b[0;34m(\u001b[0m\u001b[0mSocketTimeout\u001b[0m\u001b[0;34m,\u001b[0m \u001b[0mBaseSSLError\u001b[0m\u001b[0;34m)\u001b[0m \u001b[0;32mas\u001b[0m \u001b[0me\u001b[0m\u001b[0;34m:\u001b[0m\u001b[0;34m\u001b[0m\u001b[0;34m\u001b[0m\u001b[0m\n",
      "\u001b[0;32m/usr/lib/python3/dist-packages/urllib3/connectionpool.py\u001b[0m in \u001b[0;36m_validate_conn\u001b[0;34m(self, conn)\u001b[0m\n\u001b[1;32m   1011\u001b[0m         \u001b[0;32mif\u001b[0m \u001b[0;32mnot\u001b[0m \u001b[0mgetattr\u001b[0m\u001b[0;34m(\u001b[0m\u001b[0mconn\u001b[0m\u001b[0;34m,\u001b[0m \u001b[0;34m\"sock\"\u001b[0m\u001b[0;34m,\u001b[0m \u001b[0;32mNone\u001b[0m\u001b[0;34m)\u001b[0m\u001b[0;34m:\u001b[0m  \u001b[0;31m# AppEngine might not have  `.sock`\u001b[0m\u001b[0;34m\u001b[0m\u001b[0;34m\u001b[0m\u001b[0m\n\u001b[0;32m-> 1012\u001b[0;31m             \u001b[0mconn\u001b[0m\u001b[0;34m.\u001b[0m\u001b[0mconnect\u001b[0m\u001b[0;34m(\u001b[0m\u001b[0;34m)\u001b[0m\u001b[0;34m\u001b[0m\u001b[0;34m\u001b[0m\u001b[0m\n\u001b[0m\u001b[1;32m   1013\u001b[0m \u001b[0;34m\u001b[0m\u001b[0m\n",
      "\u001b[0;32m/usr/lib/python3/dist-packages/urllib3/connection.py\u001b[0m in \u001b[0;36mconnect\u001b[0;34m(self)\u001b[0m\n\u001b[1;32m    410\u001b[0m \u001b[0;34m\u001b[0m\u001b[0m\n\u001b[0;32m--> 411\u001b[0;31m         self.sock = ssl_wrap_socket(\n\u001b[0m\u001b[1;32m    412\u001b[0m             \u001b[0msock\u001b[0m\u001b[0;34m=\u001b[0m\u001b[0mconn\u001b[0m\u001b[0;34m,\u001b[0m\u001b[0;34m\u001b[0m\u001b[0;34m\u001b[0m\u001b[0m\n",
      "\u001b[0;32m/usr/lib/python3/dist-packages/urllib3/util/ssl_.py\u001b[0m in \u001b[0;36mssl_wrap_socket\u001b[0;34m(sock, keyfile, certfile, cert_reqs, ca_certs, server_hostname, ssl_version, ciphers, ssl_context, ca_cert_dir, key_password, ca_cert_data, tls_in_tls)\u001b[0m\n\u001b[1;32m    448\u001b[0m     \u001b[0;32mif\u001b[0m \u001b[0msend_sni\u001b[0m\u001b[0;34m:\u001b[0m\u001b[0;34m\u001b[0m\u001b[0;34m\u001b[0m\u001b[0m\n\u001b[0;32m--> 449\u001b[0;31m         ssl_sock = _ssl_wrap_socket_impl(\n\u001b[0m\u001b[1;32m    450\u001b[0m             \u001b[0msock\u001b[0m\u001b[0;34m,\u001b[0m \u001b[0mcontext\u001b[0m\u001b[0;34m,\u001b[0m \u001b[0mtls_in_tls\u001b[0m\u001b[0;34m,\u001b[0m \u001b[0mserver_hostname\u001b[0m\u001b[0;34m=\u001b[0m\u001b[0mserver_hostname\u001b[0m\u001b[0;34m\u001b[0m\u001b[0;34m\u001b[0m\u001b[0m\n",
      "\u001b[0;32m/usr/lib/python3/dist-packages/urllib3/util/ssl_.py\u001b[0m in \u001b[0;36m_ssl_wrap_socket_impl\u001b[0;34m(sock, ssl_context, tls_in_tls, server_hostname)\u001b[0m\n\u001b[1;32m    492\u001b[0m     \u001b[0;32mif\u001b[0m \u001b[0mserver_hostname\u001b[0m\u001b[0;34m:\u001b[0m\u001b[0;34m\u001b[0m\u001b[0;34m\u001b[0m\u001b[0m\n\u001b[0;32m--> 493\u001b[0;31m         \u001b[0;32mreturn\u001b[0m \u001b[0mssl_context\u001b[0m\u001b[0;34m.\u001b[0m\u001b[0mwrap_socket\u001b[0m\u001b[0;34m(\u001b[0m\u001b[0msock\u001b[0m\u001b[0;34m,\u001b[0m \u001b[0mserver_hostname\u001b[0m\u001b[0;34m=\u001b[0m\u001b[0mserver_hostname\u001b[0m\u001b[0;34m)\u001b[0m\u001b[0;34m\u001b[0m\u001b[0;34m\u001b[0m\u001b[0m\n\u001b[0m\u001b[1;32m    494\u001b[0m     \u001b[0;32melse\u001b[0m\u001b[0;34m:\u001b[0m\u001b[0;34m\u001b[0m\u001b[0;34m\u001b[0m\u001b[0m\n",
      "\u001b[0;32m/usr/lib/python3.10/ssl.py\u001b[0m in \u001b[0;36mwrap_socket\u001b[0;34m(self, sock, server_side, do_handshake_on_connect, suppress_ragged_eofs, server_hostname, session)\u001b[0m\n\u001b[1;32m    512\u001b[0m         \u001b[0;31m# ctx._wrap_socket()\u001b[0m\u001b[0;34m\u001b[0m\u001b[0;34m\u001b[0m\u001b[0m\n\u001b[0;32m--> 513\u001b[0;31m         return self.sslsocket_class._create(\n\u001b[0m\u001b[1;32m    514\u001b[0m             \u001b[0msock\u001b[0m\u001b[0;34m=\u001b[0m\u001b[0msock\u001b[0m\u001b[0;34m,\u001b[0m\u001b[0;34m\u001b[0m\u001b[0;34m\u001b[0m\u001b[0m\n",
      "\u001b[0;32m/usr/lib/python3.10/ssl.py\u001b[0m in \u001b[0;36m_create\u001b[0;34m(cls, sock, server_side, do_handshake_on_connect, suppress_ragged_eofs, server_hostname, context, session)\u001b[0m\n\u001b[1;32m   1070\u001b[0m                         \u001b[0;32mraise\u001b[0m \u001b[0mValueError\u001b[0m\u001b[0;34m(\u001b[0m\u001b[0;34m\"do_handshake_on_connect should not be specified for non-blocking sockets\"\u001b[0m\u001b[0;34m)\u001b[0m\u001b[0;34m\u001b[0m\u001b[0;34m\u001b[0m\u001b[0m\n\u001b[0;32m-> 1071\u001b[0;31m                     \u001b[0mself\u001b[0m\u001b[0;34m.\u001b[0m\u001b[0mdo_handshake\u001b[0m\u001b[0;34m(\u001b[0m\u001b[0;34m)\u001b[0m\u001b[0;34m\u001b[0m\u001b[0;34m\u001b[0m\u001b[0m\n\u001b[0m\u001b[1;32m   1072\u001b[0m             \u001b[0;32mexcept\u001b[0m \u001b[0;34m(\u001b[0m\u001b[0mOSError\u001b[0m\u001b[0;34m,\u001b[0m \u001b[0mValueError\u001b[0m\u001b[0;34m)\u001b[0m\u001b[0;34m:\u001b[0m\u001b[0;34m\u001b[0m\u001b[0;34m\u001b[0m\u001b[0m\n",
      "\u001b[0;32m/usr/lib/python3.10/ssl.py\u001b[0m in \u001b[0;36mdo_handshake\u001b[0;34m(self, block)\u001b[0m\n\u001b[1;32m   1341\u001b[0m                 \u001b[0mself\u001b[0m\u001b[0;34m.\u001b[0m\u001b[0msettimeout\u001b[0m\u001b[0;34m(\u001b[0m\u001b[0;32mNone\u001b[0m\u001b[0;34m)\u001b[0m\u001b[0;34m\u001b[0m\u001b[0;34m\u001b[0m\u001b[0m\n\u001b[0;32m-> 1342\u001b[0;31m             \u001b[0mself\u001b[0m\u001b[0;34m.\u001b[0m\u001b[0m_sslobj\u001b[0m\u001b[0;34m.\u001b[0m\u001b[0mdo_handshake\u001b[0m\u001b[0;34m(\u001b[0m\u001b[0;34m)\u001b[0m\u001b[0;34m\u001b[0m\u001b[0;34m\u001b[0m\u001b[0m\n\u001b[0m\u001b[1;32m   1343\u001b[0m         \u001b[0;32mfinally\u001b[0m\u001b[0;34m:\u001b[0m\u001b[0;34m\u001b[0m\u001b[0;34m\u001b[0m\u001b[0m\n",
      "\u001b[0;31mConnectionResetError\u001b[0m: [Errno 104] Connection reset by peer",
      "\nDuring handling of the above exception, another exception occurred:\n",
      "\u001b[0;31mProtocolError\u001b[0m                             Traceback (most recent call last)",
      "\u001b[0;32m/usr/lib/python3/dist-packages/requests/adapters.py\u001b[0m in \u001b[0;36msend\u001b[0;34m(self, request, stream, timeout, verify, cert, proxies)\u001b[0m\n\u001b[1;32m    438\u001b[0m             \u001b[0;32mif\u001b[0m \u001b[0;32mnot\u001b[0m \u001b[0mchunked\u001b[0m\u001b[0;34m:\u001b[0m\u001b[0;34m\u001b[0m\u001b[0;34m\u001b[0m\u001b[0m\n\u001b[0;32m--> 439\u001b[0;31m                 resp = conn.urlopen(\n\u001b[0m\u001b[1;32m    440\u001b[0m                     \u001b[0mmethod\u001b[0m\u001b[0;34m=\u001b[0m\u001b[0mrequest\u001b[0m\u001b[0;34m.\u001b[0m\u001b[0mmethod\u001b[0m\u001b[0;34m,\u001b[0m\u001b[0;34m\u001b[0m\u001b[0;34m\u001b[0m\u001b[0m\n",
      "\u001b[0;32m/usr/lib/python3/dist-packages/urllib3/connectionpool.py\u001b[0m in \u001b[0;36murlopen\u001b[0;34m(self, method, url, body, headers, retries, redirect, assert_same_host, timeout, pool_timeout, release_conn, chunked, body_pos, **response_kw)\u001b[0m\n\u001b[1;32m    754\u001b[0m \u001b[0;34m\u001b[0m\u001b[0m\n\u001b[0;32m--> 755\u001b[0;31m             retries = retries.increment(\n\u001b[0m\u001b[1;32m    756\u001b[0m                 \u001b[0mmethod\u001b[0m\u001b[0;34m,\u001b[0m \u001b[0murl\u001b[0m\u001b[0;34m,\u001b[0m \u001b[0merror\u001b[0m\u001b[0;34m=\u001b[0m\u001b[0me\u001b[0m\u001b[0;34m,\u001b[0m \u001b[0m_pool\u001b[0m\u001b[0;34m=\u001b[0m\u001b[0mself\u001b[0m\u001b[0;34m,\u001b[0m \u001b[0m_stacktrace\u001b[0m\u001b[0;34m=\u001b[0m\u001b[0msys\u001b[0m\u001b[0;34m.\u001b[0m\u001b[0mexc_info\u001b[0m\u001b[0;34m(\u001b[0m\u001b[0;34m)\u001b[0m\u001b[0;34m[\u001b[0m\u001b[0;36m2\u001b[0m\u001b[0;34m]\u001b[0m\u001b[0;34m\u001b[0m\u001b[0;34m\u001b[0m\u001b[0m\n",
      "\u001b[0;32m/usr/lib/python3/dist-packages/urllib3/util/retry.py\u001b[0m in \u001b[0;36mincrement\u001b[0;34m(self, method, url, response, error, _pool, _stacktrace)\u001b[0m\n\u001b[1;32m    531\u001b[0m             \u001b[0;32mif\u001b[0m \u001b[0mread\u001b[0m \u001b[0;32mis\u001b[0m \u001b[0;32mFalse\u001b[0m \u001b[0;32mor\u001b[0m \u001b[0;32mnot\u001b[0m \u001b[0mself\u001b[0m\u001b[0;34m.\u001b[0m\u001b[0m_is_method_retryable\u001b[0m\u001b[0;34m(\u001b[0m\u001b[0mmethod\u001b[0m\u001b[0;34m)\u001b[0m\u001b[0;34m:\u001b[0m\u001b[0;34m\u001b[0m\u001b[0;34m\u001b[0m\u001b[0m\n\u001b[0;32m--> 532\u001b[0;31m                 \u001b[0;32mraise\u001b[0m \u001b[0msix\u001b[0m\u001b[0;34m.\u001b[0m\u001b[0mreraise\u001b[0m\u001b[0;34m(\u001b[0m\u001b[0mtype\u001b[0m\u001b[0;34m(\u001b[0m\u001b[0merror\u001b[0m\u001b[0;34m)\u001b[0m\u001b[0;34m,\u001b[0m \u001b[0merror\u001b[0m\u001b[0;34m,\u001b[0m \u001b[0m_stacktrace\u001b[0m\u001b[0;34m)\u001b[0m\u001b[0;34m\u001b[0m\u001b[0;34m\u001b[0m\u001b[0m\n\u001b[0m\u001b[1;32m    533\u001b[0m             \u001b[0;32melif\u001b[0m \u001b[0mread\u001b[0m \u001b[0;32mis\u001b[0m \u001b[0;32mnot\u001b[0m \u001b[0;32mNone\u001b[0m\u001b[0;34m:\u001b[0m\u001b[0;34m\u001b[0m\u001b[0;34m\u001b[0m\u001b[0m\n",
      "\u001b[0;32m/usr/lib/python3/dist-packages/six.py\u001b[0m in \u001b[0;36mreraise\u001b[0;34m(tp, value, tb)\u001b[0m\n\u001b[1;32m    717\u001b[0m             \u001b[0;32mif\u001b[0m \u001b[0mvalue\u001b[0m\u001b[0;34m.\u001b[0m\u001b[0m__traceback__\u001b[0m \u001b[0;32mis\u001b[0m \u001b[0;32mnot\u001b[0m \u001b[0mtb\u001b[0m\u001b[0;34m:\u001b[0m\u001b[0;34m\u001b[0m\u001b[0;34m\u001b[0m\u001b[0m\n\u001b[0;32m--> 718\u001b[0;31m                 \u001b[0;32mraise\u001b[0m \u001b[0mvalue\u001b[0m\u001b[0;34m.\u001b[0m\u001b[0mwith_traceback\u001b[0m\u001b[0;34m(\u001b[0m\u001b[0mtb\u001b[0m\u001b[0;34m)\u001b[0m\u001b[0;34m\u001b[0m\u001b[0;34m\u001b[0m\u001b[0m\n\u001b[0m\u001b[1;32m    719\u001b[0m             \u001b[0;32mraise\u001b[0m \u001b[0mvalue\u001b[0m\u001b[0;34m\u001b[0m\u001b[0;34m\u001b[0m\u001b[0m\n",
      "\u001b[0;32m/usr/lib/python3/dist-packages/urllib3/connectionpool.py\u001b[0m in \u001b[0;36murlopen\u001b[0;34m(self, method, url, body, headers, retries, redirect, assert_same_host, timeout, pool_timeout, release_conn, chunked, body_pos, **response_kw)\u001b[0m\n\u001b[1;32m    698\u001b[0m             \u001b[0;31m# Make the request on the httplib connection object.\u001b[0m\u001b[0;34m\u001b[0m\u001b[0;34m\u001b[0m\u001b[0m\n\u001b[0;32m--> 699\u001b[0;31m             httplib_response = self._make_request(\n\u001b[0m\u001b[1;32m    700\u001b[0m                 \u001b[0mconn\u001b[0m\u001b[0;34m,\u001b[0m\u001b[0;34m\u001b[0m\u001b[0;34m\u001b[0m\u001b[0m\n",
      "\u001b[0;32m/usr/lib/python3/dist-packages/urllib3/connectionpool.py\u001b[0m in \u001b[0;36m_make_request\u001b[0;34m(self, conn, method, url, timeout, chunked, **httplib_request_kw)\u001b[0m\n\u001b[1;32m    381\u001b[0m         \u001b[0;32mtry\u001b[0m\u001b[0;34m:\u001b[0m\u001b[0;34m\u001b[0m\u001b[0;34m\u001b[0m\u001b[0m\n\u001b[0;32m--> 382\u001b[0;31m             \u001b[0mself\u001b[0m\u001b[0;34m.\u001b[0m\u001b[0m_validate_conn\u001b[0m\u001b[0;34m(\u001b[0m\u001b[0mconn\u001b[0m\u001b[0;34m)\u001b[0m\u001b[0;34m\u001b[0m\u001b[0;34m\u001b[0m\u001b[0m\n\u001b[0m\u001b[1;32m    383\u001b[0m         \u001b[0;32mexcept\u001b[0m \u001b[0;34m(\u001b[0m\u001b[0mSocketTimeout\u001b[0m\u001b[0;34m,\u001b[0m \u001b[0mBaseSSLError\u001b[0m\u001b[0;34m)\u001b[0m \u001b[0;32mas\u001b[0m \u001b[0me\u001b[0m\u001b[0;34m:\u001b[0m\u001b[0;34m\u001b[0m\u001b[0;34m\u001b[0m\u001b[0m\n",
      "\u001b[0;32m/usr/lib/python3/dist-packages/urllib3/connectionpool.py\u001b[0m in \u001b[0;36m_validate_conn\u001b[0;34m(self, conn)\u001b[0m\n\u001b[1;32m   1011\u001b[0m         \u001b[0;32mif\u001b[0m \u001b[0;32mnot\u001b[0m \u001b[0mgetattr\u001b[0m\u001b[0;34m(\u001b[0m\u001b[0mconn\u001b[0m\u001b[0;34m,\u001b[0m \u001b[0;34m\"sock\"\u001b[0m\u001b[0;34m,\u001b[0m \u001b[0;32mNone\u001b[0m\u001b[0;34m)\u001b[0m\u001b[0;34m:\u001b[0m  \u001b[0;31m# AppEngine might not have  `.sock`\u001b[0m\u001b[0;34m\u001b[0m\u001b[0;34m\u001b[0m\u001b[0m\n\u001b[0;32m-> 1012\u001b[0;31m             \u001b[0mconn\u001b[0m\u001b[0;34m.\u001b[0m\u001b[0mconnect\u001b[0m\u001b[0;34m(\u001b[0m\u001b[0;34m)\u001b[0m\u001b[0;34m\u001b[0m\u001b[0;34m\u001b[0m\u001b[0m\n\u001b[0m\u001b[1;32m   1013\u001b[0m \u001b[0;34m\u001b[0m\u001b[0m\n",
      "\u001b[0;32m/usr/lib/python3/dist-packages/urllib3/connection.py\u001b[0m in \u001b[0;36mconnect\u001b[0;34m(self)\u001b[0m\n\u001b[1;32m    410\u001b[0m \u001b[0;34m\u001b[0m\u001b[0m\n\u001b[0;32m--> 411\u001b[0;31m         self.sock = ssl_wrap_socket(\n\u001b[0m\u001b[1;32m    412\u001b[0m             \u001b[0msock\u001b[0m\u001b[0;34m=\u001b[0m\u001b[0mconn\u001b[0m\u001b[0;34m,\u001b[0m\u001b[0;34m\u001b[0m\u001b[0;34m\u001b[0m\u001b[0m\n",
      "\u001b[0;32m/usr/lib/python3/dist-packages/urllib3/util/ssl_.py\u001b[0m in \u001b[0;36mssl_wrap_socket\u001b[0;34m(sock, keyfile, certfile, cert_reqs, ca_certs, server_hostname, ssl_version, ciphers, ssl_context, ca_cert_dir, key_password, ca_cert_data, tls_in_tls)\u001b[0m\n\u001b[1;32m    448\u001b[0m     \u001b[0;32mif\u001b[0m \u001b[0msend_sni\u001b[0m\u001b[0;34m:\u001b[0m\u001b[0;34m\u001b[0m\u001b[0;34m\u001b[0m\u001b[0m\n\u001b[0;32m--> 449\u001b[0;31m         ssl_sock = _ssl_wrap_socket_impl(\n\u001b[0m\u001b[1;32m    450\u001b[0m             \u001b[0msock\u001b[0m\u001b[0;34m,\u001b[0m \u001b[0mcontext\u001b[0m\u001b[0;34m,\u001b[0m \u001b[0mtls_in_tls\u001b[0m\u001b[0;34m,\u001b[0m \u001b[0mserver_hostname\u001b[0m\u001b[0;34m=\u001b[0m\u001b[0mserver_hostname\u001b[0m\u001b[0;34m\u001b[0m\u001b[0;34m\u001b[0m\u001b[0m\n",
      "\u001b[0;32m/usr/lib/python3/dist-packages/urllib3/util/ssl_.py\u001b[0m in \u001b[0;36m_ssl_wrap_socket_impl\u001b[0;34m(sock, ssl_context, tls_in_tls, server_hostname)\u001b[0m\n\u001b[1;32m    492\u001b[0m     \u001b[0;32mif\u001b[0m \u001b[0mserver_hostname\u001b[0m\u001b[0;34m:\u001b[0m\u001b[0;34m\u001b[0m\u001b[0;34m\u001b[0m\u001b[0m\n\u001b[0;32m--> 493\u001b[0;31m         \u001b[0;32mreturn\u001b[0m \u001b[0mssl_context\u001b[0m\u001b[0;34m.\u001b[0m\u001b[0mwrap_socket\u001b[0m\u001b[0;34m(\u001b[0m\u001b[0msock\u001b[0m\u001b[0;34m,\u001b[0m \u001b[0mserver_hostname\u001b[0m\u001b[0;34m=\u001b[0m\u001b[0mserver_hostname\u001b[0m\u001b[0;34m)\u001b[0m\u001b[0;34m\u001b[0m\u001b[0;34m\u001b[0m\u001b[0m\n\u001b[0m\u001b[1;32m    494\u001b[0m     \u001b[0;32melse\u001b[0m\u001b[0;34m:\u001b[0m\u001b[0;34m\u001b[0m\u001b[0;34m\u001b[0m\u001b[0m\n",
      "\u001b[0;32m/usr/lib/python3.10/ssl.py\u001b[0m in \u001b[0;36mwrap_socket\u001b[0;34m(self, sock, server_side, do_handshake_on_connect, suppress_ragged_eofs, server_hostname, session)\u001b[0m\n\u001b[1;32m    512\u001b[0m         \u001b[0;31m# ctx._wrap_socket()\u001b[0m\u001b[0;34m\u001b[0m\u001b[0;34m\u001b[0m\u001b[0m\n\u001b[0;32m--> 513\u001b[0;31m         return self.sslsocket_class._create(\n\u001b[0m\u001b[1;32m    514\u001b[0m             \u001b[0msock\u001b[0m\u001b[0;34m=\u001b[0m\u001b[0msock\u001b[0m\u001b[0;34m,\u001b[0m\u001b[0;34m\u001b[0m\u001b[0;34m\u001b[0m\u001b[0m\n",
      "\u001b[0;32m/usr/lib/python3.10/ssl.py\u001b[0m in \u001b[0;36m_create\u001b[0;34m(cls, sock, server_side, do_handshake_on_connect, suppress_ragged_eofs, server_hostname, context, session)\u001b[0m\n\u001b[1;32m   1070\u001b[0m                         \u001b[0;32mraise\u001b[0m \u001b[0mValueError\u001b[0m\u001b[0;34m(\u001b[0m\u001b[0;34m\"do_handshake_on_connect should not be specified for non-blocking sockets\"\u001b[0m\u001b[0;34m)\u001b[0m\u001b[0;34m\u001b[0m\u001b[0;34m\u001b[0m\u001b[0m\n\u001b[0;32m-> 1071\u001b[0;31m                     \u001b[0mself\u001b[0m\u001b[0;34m.\u001b[0m\u001b[0mdo_handshake\u001b[0m\u001b[0;34m(\u001b[0m\u001b[0;34m)\u001b[0m\u001b[0;34m\u001b[0m\u001b[0;34m\u001b[0m\u001b[0m\n\u001b[0m\u001b[1;32m   1072\u001b[0m             \u001b[0;32mexcept\u001b[0m \u001b[0;34m(\u001b[0m\u001b[0mOSError\u001b[0m\u001b[0;34m,\u001b[0m \u001b[0mValueError\u001b[0m\u001b[0;34m)\u001b[0m\u001b[0;34m:\u001b[0m\u001b[0;34m\u001b[0m\u001b[0;34m\u001b[0m\u001b[0m\n",
      "\u001b[0;32m/usr/lib/python3.10/ssl.py\u001b[0m in \u001b[0;36mdo_handshake\u001b[0;34m(self, block)\u001b[0m\n\u001b[1;32m   1341\u001b[0m                 \u001b[0mself\u001b[0m\u001b[0;34m.\u001b[0m\u001b[0msettimeout\u001b[0m\u001b[0;34m(\u001b[0m\u001b[0;32mNone\u001b[0m\u001b[0;34m)\u001b[0m\u001b[0;34m\u001b[0m\u001b[0;34m\u001b[0m\u001b[0m\n\u001b[0;32m-> 1342\u001b[0;31m             \u001b[0mself\u001b[0m\u001b[0;34m.\u001b[0m\u001b[0m_sslobj\u001b[0m\u001b[0;34m.\u001b[0m\u001b[0mdo_handshake\u001b[0m\u001b[0;34m(\u001b[0m\u001b[0;34m)\u001b[0m\u001b[0;34m\u001b[0m\u001b[0;34m\u001b[0m\u001b[0m\n\u001b[0m\u001b[1;32m   1343\u001b[0m         \u001b[0;32mfinally\u001b[0m\u001b[0;34m:\u001b[0m\u001b[0;34m\u001b[0m\u001b[0;34m\u001b[0m\u001b[0m\n",
      "\u001b[0;31mProtocolError\u001b[0m: ('Connection aborted.', ConnectionResetError(104, 'Connection reset by peer'))",
      "\nDuring handling of the above exception, another exception occurred:\n",
      "\u001b[0;31mConnectionError\u001b[0m                           Traceback (most recent call last)",
      "\u001b[0;32m/tmp/ipykernel_5476/1660981308.py\u001b[0m in \u001b[0;36m<module>\u001b[0;34m\u001b[0m\n\u001b[0;32m----> 1\u001b[0;31m grab_urls2(url_1 = \"https://www.elpais.com.co/search/listing/0/\",\n\u001b[0m\u001b[1;32m      2\u001b[0m     \u001b[0murl_2\u001b[0m \u001b[0;34m=\u001b[0m \u001b[0;34m\"/farc\"\u001b[0m\u001b[0;34m,\u001b[0m\u001b[0;34m\u001b[0m\u001b[0;34m\u001b[0m\u001b[0m\n\u001b[1;32m      3\u001b[0m     \u001b[0msite_name\u001b[0m \u001b[0;34m=\u001b[0m \u001b[0;34m'el_país'\u001b[0m\u001b[0;34m,\u001b[0m\u001b[0;34m\u001b[0m\u001b[0;34m\u001b[0m\u001b[0m\n\u001b[1;32m      4\u001b[0m     \u001b[0mmax_pages\u001b[0m \u001b[0;34m=\u001b[0m \u001b[0;36m2429\u001b[0m\u001b[0;34m,\u001b[0m\u001b[0;34m\u001b[0m\u001b[0;34m\u001b[0m\u001b[0m\n\u001b[1;32m      5\u001b[0m     \u001b[0mclass_\u001b[0m \u001b[0;34m=\u001b[0m \u001b[0;34m'listing-title'\u001b[0m\u001b[0;34m,\u001b[0m\u001b[0;34m\u001b[0m\u001b[0;34m\u001b[0m\u001b[0m\n",
      "\u001b[0;32m/tmp/ipykernel_5476/664570348.py\u001b[0m in \u001b[0;36mgrab_urls2\u001b[0;34m(url_1, url_2, site_name, max_pages, class_, base_url, paste_urls)\u001b[0m\n\u001b[1;32m     10\u001b[0m     \u001b[0;32mwhile\u001b[0m \u001b[0mi\u001b[0m \u001b[0;34m!=\u001b[0m \u001b[0mmax_pages\u001b[0m \u001b[0;34m+\u001b[0m \u001b[0;36m1\u001b[0m\u001b[0;34m:\u001b[0m\u001b[0;34m\u001b[0m\u001b[0;34m\u001b[0m\u001b[0m\n\u001b[1;32m     11\u001b[0m         \u001b[0msite_url\u001b[0m \u001b[0;34m=\u001b[0m \u001b[0murl_1\u001b[0m \u001b[0;34m+\u001b[0m \u001b[0mstr\u001b[0m\u001b[0;34m(\u001b[0m\u001b[0mi\u001b[0m\u001b[0;34m)\u001b[0m \u001b[0;34m+\u001b[0m \u001b[0murl_2\u001b[0m\u001b[0;34m\u001b[0m\u001b[0;34m\u001b[0m\u001b[0m\n\u001b[0;32m---> 12\u001b[0;31m         \u001b[0mpage\u001b[0m \u001b[0;34m=\u001b[0m \u001b[0mrequests\u001b[0m\u001b[0;34m.\u001b[0m\u001b[0mget\u001b[0m\u001b[0;34m(\u001b[0m\u001b[0msite_url\u001b[0m\u001b[0;34m,\u001b[0m \u001b[0mheaders\u001b[0m \u001b[0;34m=\u001b[0m \u001b[0mheaders\u001b[0m\u001b[0;34m)\u001b[0m\u001b[0;34m\u001b[0m\u001b[0;34m\u001b[0m\u001b[0m\n\u001b[0m\u001b[1;32m     13\u001b[0m         \u001b[0msoup\u001b[0m \u001b[0;34m=\u001b[0m \u001b[0mBeautifulSoup\u001b[0m\u001b[0;34m(\u001b[0m\u001b[0mpage\u001b[0m\u001b[0;34m.\u001b[0m\u001b[0mtext\u001b[0m\u001b[0;34m,\u001b[0m \u001b[0;34m'html.parser'\u001b[0m\u001b[0;34m)\u001b[0m\u001b[0;34m\u001b[0m\u001b[0;34m\u001b[0m\u001b[0m\n\u001b[1;32m     14\u001b[0m         \u001b[0mlinks\u001b[0m \u001b[0;34m=\u001b[0m \u001b[0msoup\u001b[0m\u001b[0;34m.\u001b[0m\u001b[0mfindAll\u001b[0m\u001b[0;34m(\u001b[0m\u001b[0mclass_\u001b[0m \u001b[0;34m=\u001b[0m \u001b[0mclass_\u001b[0m\u001b[0;34m)\u001b[0m\u001b[0;34m\u001b[0m\u001b[0;34m\u001b[0m\u001b[0m\n",
      "\u001b[0;32m/usr/lib/python3/dist-packages/requests/api.py\u001b[0m in \u001b[0;36mget\u001b[0;34m(url, params, **kwargs)\u001b[0m\n\u001b[1;32m     74\u001b[0m \u001b[0;34m\u001b[0m\u001b[0m\n\u001b[1;32m     75\u001b[0m     \u001b[0mkwargs\u001b[0m\u001b[0;34m.\u001b[0m\u001b[0msetdefault\u001b[0m\u001b[0;34m(\u001b[0m\u001b[0;34m'allow_redirects'\u001b[0m\u001b[0;34m,\u001b[0m \u001b[0;32mTrue\u001b[0m\u001b[0;34m)\u001b[0m\u001b[0;34m\u001b[0m\u001b[0;34m\u001b[0m\u001b[0m\n\u001b[0;32m---> 76\u001b[0;31m     \u001b[0;32mreturn\u001b[0m \u001b[0mrequest\u001b[0m\u001b[0;34m(\u001b[0m\u001b[0;34m'get'\u001b[0m\u001b[0;34m,\u001b[0m \u001b[0murl\u001b[0m\u001b[0;34m,\u001b[0m \u001b[0mparams\u001b[0m\u001b[0;34m=\u001b[0m\u001b[0mparams\u001b[0m\u001b[0;34m,\u001b[0m \u001b[0;34m**\u001b[0m\u001b[0mkwargs\u001b[0m\u001b[0;34m)\u001b[0m\u001b[0;34m\u001b[0m\u001b[0;34m\u001b[0m\u001b[0m\n\u001b[0m\u001b[1;32m     77\u001b[0m \u001b[0;34m\u001b[0m\u001b[0m\n\u001b[1;32m     78\u001b[0m \u001b[0;34m\u001b[0m\u001b[0m\n",
      "\u001b[0;32m/usr/lib/python3/dist-packages/requests/api.py\u001b[0m in \u001b[0;36mrequest\u001b[0;34m(method, url, **kwargs)\u001b[0m\n\u001b[1;32m     59\u001b[0m     \u001b[0;31m# cases, and look like a memory leak in others.\u001b[0m\u001b[0;34m\u001b[0m\u001b[0;34m\u001b[0m\u001b[0m\n\u001b[1;32m     60\u001b[0m     \u001b[0;32mwith\u001b[0m \u001b[0msessions\u001b[0m\u001b[0;34m.\u001b[0m\u001b[0mSession\u001b[0m\u001b[0;34m(\u001b[0m\u001b[0;34m)\u001b[0m \u001b[0;32mas\u001b[0m \u001b[0msession\u001b[0m\u001b[0;34m:\u001b[0m\u001b[0;34m\u001b[0m\u001b[0;34m\u001b[0m\u001b[0m\n\u001b[0;32m---> 61\u001b[0;31m         \u001b[0;32mreturn\u001b[0m \u001b[0msession\u001b[0m\u001b[0;34m.\u001b[0m\u001b[0mrequest\u001b[0m\u001b[0;34m(\u001b[0m\u001b[0mmethod\u001b[0m\u001b[0;34m=\u001b[0m\u001b[0mmethod\u001b[0m\u001b[0;34m,\u001b[0m \u001b[0murl\u001b[0m\u001b[0;34m=\u001b[0m\u001b[0murl\u001b[0m\u001b[0;34m,\u001b[0m \u001b[0;34m**\u001b[0m\u001b[0mkwargs\u001b[0m\u001b[0;34m)\u001b[0m\u001b[0;34m\u001b[0m\u001b[0;34m\u001b[0m\u001b[0m\n\u001b[0m\u001b[1;32m     62\u001b[0m \u001b[0;34m\u001b[0m\u001b[0m\n\u001b[1;32m     63\u001b[0m \u001b[0;34m\u001b[0m\u001b[0m\n",
      "\u001b[0;32m/usr/lib/python3/dist-packages/requests/sessions.py\u001b[0m in \u001b[0;36mrequest\u001b[0;34m(self, method, url, params, data, headers, cookies, files, auth, timeout, allow_redirects, proxies, hooks, stream, verify, cert, json)\u001b[0m\n\u001b[1;32m    540\u001b[0m         }\n\u001b[1;32m    541\u001b[0m         \u001b[0msend_kwargs\u001b[0m\u001b[0;34m.\u001b[0m\u001b[0mupdate\u001b[0m\u001b[0;34m(\u001b[0m\u001b[0msettings\u001b[0m\u001b[0;34m)\u001b[0m\u001b[0;34m\u001b[0m\u001b[0;34m\u001b[0m\u001b[0m\n\u001b[0;32m--> 542\u001b[0;31m         \u001b[0mresp\u001b[0m \u001b[0;34m=\u001b[0m \u001b[0mself\u001b[0m\u001b[0;34m.\u001b[0m\u001b[0msend\u001b[0m\u001b[0;34m(\u001b[0m\u001b[0mprep\u001b[0m\u001b[0;34m,\u001b[0m \u001b[0;34m**\u001b[0m\u001b[0msend_kwargs\u001b[0m\u001b[0;34m)\u001b[0m\u001b[0;34m\u001b[0m\u001b[0;34m\u001b[0m\u001b[0m\n\u001b[0m\u001b[1;32m    543\u001b[0m \u001b[0;34m\u001b[0m\u001b[0m\n\u001b[1;32m    544\u001b[0m         \u001b[0;32mreturn\u001b[0m \u001b[0mresp\u001b[0m\u001b[0;34m\u001b[0m\u001b[0;34m\u001b[0m\u001b[0m\n",
      "\u001b[0;32m/usr/lib/python3/dist-packages/requests/sessions.py\u001b[0m in \u001b[0;36msend\u001b[0;34m(self, request, **kwargs)\u001b[0m\n\u001b[1;32m    653\u001b[0m \u001b[0;34m\u001b[0m\u001b[0m\n\u001b[1;32m    654\u001b[0m         \u001b[0;31m# Send the request\u001b[0m\u001b[0;34m\u001b[0m\u001b[0;34m\u001b[0m\u001b[0m\n\u001b[0;32m--> 655\u001b[0;31m         \u001b[0mr\u001b[0m \u001b[0;34m=\u001b[0m \u001b[0madapter\u001b[0m\u001b[0;34m.\u001b[0m\u001b[0msend\u001b[0m\u001b[0;34m(\u001b[0m\u001b[0mrequest\u001b[0m\u001b[0;34m,\u001b[0m \u001b[0;34m**\u001b[0m\u001b[0mkwargs\u001b[0m\u001b[0;34m)\u001b[0m\u001b[0;34m\u001b[0m\u001b[0;34m\u001b[0m\u001b[0m\n\u001b[0m\u001b[1;32m    656\u001b[0m \u001b[0;34m\u001b[0m\u001b[0m\n\u001b[1;32m    657\u001b[0m         \u001b[0;31m# Total elapsed time of the request (approximately)\u001b[0m\u001b[0;34m\u001b[0m\u001b[0;34m\u001b[0m\u001b[0m\n",
      "\u001b[0;32m/usr/lib/python3/dist-packages/requests/adapters.py\u001b[0m in \u001b[0;36msend\u001b[0;34m(self, request, stream, timeout, verify, cert, proxies)\u001b[0m\n\u001b[1;32m    496\u001b[0m \u001b[0;34m\u001b[0m\u001b[0m\n\u001b[1;32m    497\u001b[0m         \u001b[0;32mexcept\u001b[0m \u001b[0;34m(\u001b[0m\u001b[0mProtocolError\u001b[0m\u001b[0;34m,\u001b[0m \u001b[0msocket\u001b[0m\u001b[0;34m.\u001b[0m\u001b[0merror\u001b[0m\u001b[0;34m)\u001b[0m \u001b[0;32mas\u001b[0m \u001b[0merr\u001b[0m\u001b[0;34m:\u001b[0m\u001b[0;34m\u001b[0m\u001b[0;34m\u001b[0m\u001b[0m\n\u001b[0;32m--> 498\u001b[0;31m             \u001b[0;32mraise\u001b[0m \u001b[0mConnectionError\u001b[0m\u001b[0;34m(\u001b[0m\u001b[0merr\u001b[0m\u001b[0;34m,\u001b[0m \u001b[0mrequest\u001b[0m\u001b[0;34m=\u001b[0m\u001b[0mrequest\u001b[0m\u001b[0;34m)\u001b[0m\u001b[0;34m\u001b[0m\u001b[0;34m\u001b[0m\u001b[0m\n\u001b[0m\u001b[1;32m    499\u001b[0m \u001b[0;34m\u001b[0m\u001b[0m\n\u001b[1;32m    500\u001b[0m         \u001b[0;32mexcept\u001b[0m \u001b[0mMaxRetryError\u001b[0m \u001b[0;32mas\u001b[0m \u001b[0me\u001b[0m\u001b[0;34m:\u001b[0m\u001b[0;34m\u001b[0m\u001b[0;34m\u001b[0m\u001b[0m\n",
      "\u001b[0;31mConnectionError\u001b[0m: ('Connection aborted.', ConnectionResetError(104, 'Connection reset by peer'))"
     ]
    }
   ],
   "source": [
    "grab_urls2(url_1 = \"https://www.elpais.com.co/search/listing/0/\", # stopped at 2070\n",
    "    url_2 = \"/farc\",\n",
    "    site_name = 'el_país',\n",
    "    max_pages = 2429,\n",
    "    class_ = 'listing-title',\n",
    "    paste_urls = True,\n",
    "    base_url = \"https://www.elpais.com.co\")"
   ]
  },
  {
   "cell_type": "code",
   "execution_count": null,
   "id": "b3a67eea",
   "metadata": {},
   "outputs": [],
   "source": [
    "def valle_del_cauca2(url_1, url_2, site_name, start_page, max_pages, class_, base_url = None, paste_urls = False):\n",
    "    file_name = site_name + \".txt\"\n",
    "    f = open(file_name, 'w')\n",
    "    headers = {\n",
    "    'User-Agent': 'Mozilla/5.0 (X11; Ubuntu; Linux x86_64; rv:60.0) Gecko/20100101 Firefox/60.0',\n",
    "    'X-Requested-With': 'XMLHttpRequest',\n",
    "    }\n",
    "    \n",
    "    i = start_page\n",
    "    while i != max_pages + 1:\n",
    "        site_url = url_1 + str(i) + url_2\n",
    "        page = requests.get(site_url, headers = headers)\n",
    "        soup = BeautifulSoup(page.text, 'html.parser')\n",
    "        links = soup.findAll(class_ = class_)\n",
    "        i = i + 1\n",
    "        \n",
    "        if paste_urls == False:\n",
    "            for link in links:\n",
    "                url = link.find('a').get('href')\n",
    "                f.write(url)\n",
    "                f.write('\\n')\n",
    "        elif paste_urls == True:\n",
    "            for link in links:\n",
    "                url_tail = link.find('a').get('href')\n",
    "                url = base_url + url_tail\n",
    "                f.write(url)\n",
    "                f.write('\\n')\n",
    "        else:\n",
    "            warnings.warn(\"paste_urls must be True or False\")\n",
    "        \n",
    "        time.sleep(7)\n",
    "        if i % 10 == 0:\n",
    "            print(str(i) + \" out of \" + str(max_pages))\n",
    "            \n"
   ]
  },
  {
   "cell_type": "code",
   "execution_count": 37,
   "id": "449eb729",
   "metadata": {},
   "outputs": [],
   "source": [
    "valle_del_cauca2(url_1 = \"https://www.elpais.com.co/search/listing/0/\", # stopped at 2070\n",
    "    url_2 = \"/farc\",\n",
    "    site_name = 'el_país_2',\n",
    "    start_page = 2070,\n",
    "    max_pages = 2072, #2429,\n",
    "    class_ = 'news-title',\n",
    "    paste_urls = True,\n",
    "    base_url = \"https://www.elpais.com.co\")"
   ]
  },
  {
   "cell_type": "code",
   "execution_count": 83,
   "id": "f1c79cdd",
   "metadata": {},
   "outputs": [
    {
     "name": "stdout",
     "output_type": "stream",
     "text": [
      "2210 out of 2429\n",
      "2220 out of 2429\n",
      "2230 out of 2429\n",
      "2240 out of 2429\n",
      "2250 out of 2429\n",
      "2260 out of 2429\n",
      "2270 out of 2429\n",
      "2280 out of 2429\n",
      "2290 out of 2429\n",
      "2300 out of 2429\n",
      "2310 out of 2429\n",
      "2320 out of 2429\n",
      "2330 out of 2429\n",
      "2340 out of 2429\n",
      "2350 out of 2429\n",
      "2360 out of 2429\n",
      "2370 out of 2429\n",
      "2380 out of 2429\n",
      "2390 out of 2429\n",
      "2400 out of 2429\n",
      "2410 out of 2429\n",
      "2420 out of 2429\n",
      "2430 out of 2429\n"
     ]
    }
   ],
   "source": [
    "valle_del_cauca2(url_1 = \"https://www.elpais.com.co/search/listing/0/\", # stopped at 2070\n",
    "    url_2 = \"/farc\",\n",
    "    site_name = 'el_país_3',\n",
    "    start_page = 2200,\n",
    "    max_pages = 2429,\n",
    "    class_ = 'listing-title',\n",
    "    paste_urls = True,\n",
    "    base_url = \"https://www.elpais.com.co\")"
   ]
  },
  {
   "cell_type": "markdown",
   "id": "d96b2499",
   "metadata": {},
   "source": [
    "# Vaupés\n",
    "\n",
    "None"
   ]
  },
  {
   "cell_type": "markdown",
   "id": "5865bda2",
   "metadata": {},
   "source": [
    "# Vichada\n",
    "None"
   ]
  }
 ],
 "metadata": {
  "kernelspec": {
   "display_name": "Python 3 (ipykernel)",
   "language": "python",
   "name": "python3"
  },
  "language_info": {
   "codemirror_mode": {
    "name": "ipython",
    "version": 3
   },
   "file_extension": ".py",
   "mimetype": "text/x-python",
   "name": "python",
   "nbconvert_exporter": "python",
   "pygments_lexer": "ipython3",
   "version": "3.10.6"
  }
 },
 "nbformat": 4,
 "nbformat_minor": 5
}
